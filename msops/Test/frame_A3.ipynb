{
 "cells": [
  {
   "cell_type": "markdown",
   "metadata": {},
   "source": [
    "## Pre Process"
   ]
  },
  {
   "cell_type": "markdown",
   "metadata": {},
   "source": [
    "### Import Modules"
   ]
  },
  {
   "cell_type": "code",
   "execution_count": 81,
   "metadata": {},
   "outputs": [],
   "source": [
    "#=======================================================================================================================================================================================================\n",
    "from msops.CreateModel import model   as md\n",
    "from   msops.Analysis.builder import opsbuild as bd\n",
    "from   msops.Units.Unit import Unit\n",
    "from msops.TimeSeries import ReadRecord  as rmd\n",
    "from msops.Codes.Tbdy import FundemantelParameters as fm\n",
    "from msops.Codes.Tbdy import Performance as pf\n",
    "from msops.Material import malzememodelleri as mam\n",
    "from msops.Plotter.msplotter import plotter  as ms\n",
    "import os\n",
    "import openseespy.opensees     as ops\n",
    "import numpy                   as np\n",
    "import matplotlib.pyplot       as plt\n",
    "import opsvis                  as opsv\n",
    "import handcalcs.render\n",
    "import pandas as pd"
   ]
  },
  {
   "cell_type": "code",
   "execution_count": 82,
   "metadata": {},
   "outputs": [],
   "source": [
    "if (os.path.exists(\"OutputImages\")):\n",
    "    pass\n",
    "else:\n",
    "    os.mkdir(\"OutputImages\")"
   ]
  },
  {
   "cell_type": "markdown",
   "metadata": {},
   "source": [
    "### Automatic Create Portal Frame Datas"
   ]
  },
  {
   "cell_type": "code",
   "execution_count": 83,
   "metadata": {},
   "outputs": [],
   "source": [
    "#=======================================================================================================================================================================================================\n",
    "numBay,numFloor,firstFloor,bayWidht,storyHeight=3,8,4,5,3\n",
    "pf1 = md.createmodel(numBay,numFloor,firstFloor,bayWidht,storyHeight)"
   ]
  },
  {
   "cell_type": "markdown",
   "metadata": {},
   "source": [
    "### Definitions"
   ]
  },
  {
   "cell_type": "code",
   "execution_count": 84,
   "metadata": {},
   "outputs": [
    {
     "data": {
      "text/latex": [
       "\\[\n",
       "\\begin{aligned}\n",
       "\\mathrm{HCol1} &= 0.4 \\; \n",
       " &\\mathrm{BCol1} &= 0.4 \\; \n",
       " &\\mathrm{HCol2} &= 0.35 \\; \n",
       "\\\\[10pt]\n",
       " \\mathrm{BCol2} &= 0.35 \\; \n",
       " &\\mathrm{HCol3} &= 0.3 \\; \n",
       " &\\mathrm{BCol3} &= 0.3 \\; \n",
       "\\\\[10pt]\n",
       " \\mathrm{HBeam1} &= 0.6 \\; \n",
       " &\\mathrm{BBeam1} &= 0.3 \\; \n",
       " &\\mathrm{HBeam2} &= 0.5 \\; \n",
       "\\\\[10pt]\n",
       " \\mathrm{BBeam2} &= 0.3 \\; \n",
       " &\\mathrm{HBeam3} &= 0.4 \\; \n",
       " &\\mathrm{BBeam3} &= 0.3 \\; \n",
       "\\\\[10pt]\\end{aligned}\n",
       "\\]"
      ],
      "text/plain": [
       "<IPython.core.display.Latex object>"
      ]
     },
     "metadata": {},
     "output_type": "display_data"
    }
   ],
   "source": [
    "%%render params\n",
    "HCol1 = 40*Unit.cm\n",
    "BCol1 = 40*Unit.cm\n",
    "\n",
    "HCol2 = 35*Unit.cm\n",
    "BCol2 = 35*Unit.cm\n",
    "\n",
    "HCol3 = 30*Unit.cm\n",
    "BCol3 = 30*Unit.cm\n",
    "\n",
    "HBeam1 = 60*Unit.cm\n",
    "BBeam1 = 30*Unit.cm\n",
    "\n",
    "HBeam2 = 50*Unit.cm\n",
    "BBeam2 = 30*Unit.cm\n",
    "\n",
    "HBeam3 = 40*Unit.cm\n",
    "BBeam3 = 30*Unit.cm"
   ]
  },
  {
   "cell_type": "code",
   "execution_count": 85,
   "metadata": {},
   "outputs": [
    {
     "data": {
      "text/latex": [
       "\\[\n",
       "\\begin{aligned}\n",
       "\\mathrm{fc} &= 20000.0 \\; \\;\\textrm{(Nominal concrete compressive strength)}\n",
       " &\\mathrm{Ec} &= 30000000 \\; \n",
       " &\\nu &= 0.2 \\; \\;\\textrm{(Poisson's ratio)}\n",
       "\\\\[10pt]\n",
       " \\mathrm{Gc} &= 12500000.0 \\; \\;\\textrm{(Shear modulus)}\n",
       " &\\mathrm{concdensity} &= 24.99 \\; \\;\\textrm{(Conc density)}\n",
       " &\\mathrm{wBeam} &= 23.0 \\; \\;\\textrm{(dist. load on beam)}\n",
       "\\\\[10pt]\\end{aligned}\n",
       "\\]"
      ],
      "text/plain": [
       "<IPython.core.display.Latex object>"
      ]
     },
     "metadata": {},
     "output_type": "display_data"
    }
   ],
   "source": [
    "%%render params\n",
    "fc = 20*Unit.MPa# Nominal concrete compressive strength\n",
    "#Ec = Ec = 57000*(fc/Unit.MPa)**0.5 * Unit.MPa\n",
    "Ec=30000000\n",
    "nu = 0.2                        # Poisson's ratio\n",
    "Gc = Ec/(2*(1+nu))              # Shear modulus\n",
    "\n",
    "concdensity = 24.99 * Unit.kN/Unit.m**3   # Conc density\n",
    "wBeam = (20 +  0.3*10)   # dist. load on beam"
   ]
  },
  {
   "cell_type": "code",
   "execution_count": 86,
   "metadata": {},
   "outputs": [],
   "source": [
    "#section properties\n",
    "#==================================================================================================================\n",
    "kCol =1\n",
    "kBeam=1\n",
    "\n",
    "Acol1 = HCol1*BCol1                  # Cross-sectional area of columns\n",
    "Icol1 = kCol*1/12*BCol1*HCol1**3     # Effective moment of inertia of columns\n",
    "\n",
    "Acol2 = HCol2*BCol2                  # Cross-sectional area of columns\n",
    "Icol2 = kCol*1/12*BCol2*HCol2**3     # Effective moment of inertia of columns\n",
    "\n",
    "Acol3 = HCol3*BCol3                  # Cross-sectional area of columns\n",
    "Icol3 = kCol*1/12*BCol3*HCol3**3     # Effective moment of inertia of columns\n",
    "\n",
    "\n",
    "Abeam1 = BBeam1*HBeam1               # Cross-sectional area of beams\n",
    "Ibeam1 = kBeam*1/12*BBeam1*HBeam1**3 # Gross moment of inertia of beams\n",
    "\n",
    "Abeam2 = BBeam2*HBeam2               # Cross-sectional area of beams\n",
    "Ibeam2 = kBeam*1/12*BBeam2*HBeam2**3 # Gross moment of inertia of beams\n",
    "\n",
    "Abeam3 = BBeam3*HBeam3               # Cross-sectional area of beams\n",
    "Ibeam3 = kBeam*1/12*BBeam3*HBeam3**3 # Gross moment of inertia of beams\n",
    "\n",
    "\n",
    "bardiameterbeam        = 16*Unit.mm\n",
    "bardiameterexteriorcol = 18*Unit.mm\n",
    "bardiameterinteriorcol = 22*Unit.mm\n",
    "cover                  = 5*Unit.cm\n",
    "barareabeam            = 3.14*bardiameterbeam**2/4\n",
    "barareaexteriorcol     = 3.14*bardiameterexteriorcol**2/4\n",
    "barareainteriorcol2    = 3.14*bardiameterinteriorcol**2/4\n",
    "   \n",
    "ColNumBarsTop          = 3\n",
    "ColNumBarsBot          = 3\n",
    "ColNumBarsInterior     = 2\n",
    "   \n",
    "BeamNumBarsTop         = 5\n",
    "BeamNumBarsBot         = 3\n",
    "BeamNumBarsInterior    = 0"
   ]
  },
  {
   "cell_type": "code",
   "execution_count": 87,
   "metadata": {},
   "outputs": [
    {
     "data": {
      "image/png": "[encoded data removed]",
      "text/plain": [
       "<Figure size 720x720 with 1 Axes>"
      ]
     },
     "metadata": {
      "needs_background": "light"
     },
     "output_type": "display_data"
    },
    {
     "data": {
      "image/png": "[encoded data removed]",
      "text/plain": [
       "<Figure size 720x720 with 1 Axes>"
      ]
     },
     "metadata": {
      "needs_background": "light"
     },
     "output_type": "display_data"
    }
   ],
   "source": [
    "s=150 #mm\n",
    "etriye_çapı = 10 #mm\n",
    "boyuna_donatı_çapı = 22 #mm\n",
    "pas_payı = 50 #mm\n",
    "baslık_donatı_top = 3 #adet\n",
    "baslık_donatı_bot = 3 #adet\n",
    "gövde_donatı_adeti =2 #adet\n",
    "x_koladeti = 3 #kesitin x eksenini kesen kol sayısı\n",
    "y_koladeti = 3 #kesitin y eksenini kesen kol sayısı\n",
    "unconfined,confined=mam.tbdy_mander(\"B500C\",fc/Unit.MPa,BCol1*10**3,HCol1*10**3,s,etriye_çapı,bardiameterinteriorcol*10**3,pas_payı,ColNumBarsTop,ColNumBarsBot,ColNumBarsInterior,x_koladeti,y_koladeti)\n",
    "unconfined,confined=mam.tbdy_mander(\"B500C\",fc/Unit.MPa,BCol2*10**3,HCol2*10**3,s,etriye_çapı,bardiameterinteriorcol*10**3,pas_payı,ColNumBarsTop,ColNumBarsBot,ColNumBarsInterior,x_koladeti,y_koladeti)\n",
    "unconfined,confined=mam.tbdy_mander(\"B500C\",fc/Unit.MPa,BCol3*10**3,HCol2*10**3,s,etriye_çapı,bardiameterinteriorcol*10**3,pas_payı,ColNumBarsTop,ColNumBarsBot,ColNumBarsInterior,x_koladeti,y_koladeti)\n",
    "ms.plot_mander(confined['strain_stress'][0],confined['strain_stress'][1],label=\"Confined model\")\n",
    "ms.plot_mander(unconfined['strain_stress'][0],unconfined['strain_stress'][1],label=\"Unonfined model\")"
   ]
  },
  {
   "cell_type": "code",
   "execution_count": 88,
   "metadata": {},
   "outputs": [
    {
     "data": {
      "text/plain": [
       "'s=150 #mm\\netriye_çapı = 10 #mm\\nboyuna_donatı_çapı = 22 #mm\\npas_payı = 50 #mm\\nbaslık_donatı_top = 3 #adet\\nbaslık_donatı_bot = 3 #adet\\ngövde_donatı_adeti =2 #adet\\nx_koladeti = 3 #kesitin x eksenini kesen kol sayısı\\ny_koladeti = 3 #kesitin y eksenini kesen kol sayısı\\n\\ninterior_unconfined1,interior_confined1=mam.tbdy_mander(\"B500C\",fc/Unit.MPa,BCol1*10**3,HCol1*10**3,s,etriye_çapı,bardiameterinteriorcol*10**3,pas_payı,ColNumBarsTop,ColNumBarsBot,ColNumBarsInterior,x_koladeti,y_koladeti)\\ninterior_unconfined2,interior_confined2=mam.tbdy_mander(\"B500C\",fc/Unit.MPa,BCol2*10**3,HCol2*10**3,s,etriye_çapı,bardiameterinteriorcol*10**3,pas_payı,ColNumBarsTop,ColNumBarsBot,ColNumBarsInterior,x_koladeti,y_koladeti)\\ninterior_unconfined3,interior_confined3=mam.tbdy_mander(\"B500C\",fc/Unit.MPa,BCol3*10**3,HCol2*10**3,s,etriye_çapı,bardiameterinteriorcol*10**3,pas_payı,ColNumBarsTop,ColNumBarsBot,ColNumBarsInterior,x_koladeti,y_koladeti)\\n\\nexterior_unconfined1,exterior_confined1=mam.tbdy_mander(\"B500C\",fc/Unit.MPa,BCol1*10**3,HCol1*10**3,s,etriye_çapı,bardiameterexteriorcol*10**3,pas_payı,ColNumBarsTop,ColNumBarsBot,ColNumBarsInterior,x_koladeti,y_koladeti)\\nexterior_unconfined2,exterior_confined2=mam.tbdy_mander(\"B500C\",fc/Unit.MPa,BCol2*10**3,HCol2*10**3,s,etriye_çapı,bardiameterexteriorcol*10**3,pas_payı,ColNumBarsTop,ColNumBarsBot,ColNumBarsInterior,x_koladeti,y_koladeti)\\nexterior_unconfined3,exterior_confined3=mam.tbdy_mander(\"B500C\",fc/Unit.MPa,BCol3*10**3,HCol2*10**3,s,etriye_çapı,bardiameterexteriorcol*10**3,pas_payı,ColNumBarsTop,ColNumBarsBot,ColNumBarsInterior,x_koladeti,y_koladeti)\\n\\nms.plot_mander(interior_confined1  [\\'strain_stress\\'][0],interior_confined1  [\\'strain_stress\\'][1],label=\"Interior Confined1 model \")\\nms.plot_mander(interior_unconfined1[\\'strain_stress\\'][0],interior_unconfined1[\\'strain_stress\\'][1],label=\"Interior Unonfined1 model\")\\nms.plot_mander(exterior_confined1  [\\'strain_stress\\'][0],exterior_confined1[\\'strain_stress\\'][1],label=\"Exterior Confined1 model \")\\n\\nms.plot_mander(interior_confined2  [\\'strain_stress\\'][0],interior_confined2[\\'strain_stress\\'][1],label=\"Interior Confined2 model \")\\nms.plot_mander(exterior_confined2  [\\'strain_stress\\'][0],exterior_confined2[\\'strain_stress\\'][1],label=\"Exterior Confined2 model \")\\n\\nms.plot_mander(interior_confined3  [\\'strain_stress\\'][0],interior_confined3[\\'strain_stress\\'][1],label=\"Interior Confined2 model \")\\nms.plot_mander(exterior_confined3  [\\'strain_stress\\'][0],exterior_confined3  [\\'strain_stress\\'][1],label=\"Exterior Confined2 model \")'"
      ]
     },
     "execution_count": 88,
     "metadata": {},
     "output_type": "execute_result"
    }
   ],
   "source": [
    "\"\"\"s=150 #mm\n",
    "etriye_çapı = 10 #mm\n",
    "boyuna_donatı_çapı = 22 #mm\n",
    "pas_payı = 50 #mm\n",
    "baslık_donatı_top = 3 #adet\n",
    "baslık_donatı_bot = 3 #adet\n",
    "gövde_donatı_adeti =2 #adet\n",
    "x_koladeti = 3 #kesitin x eksenini kesen kol sayısı\n",
    "y_koladeti = 3 #kesitin y eksenini kesen kol sayısı\n",
    "\n",
    "interior_unconfined1,interior_confined1=mam.tbdy_mander(\"B500C\",fc/Unit.MPa,BCol1*10**3,HCol1*10**3,s,etriye_çapı,bardiameterinteriorcol*10**3,pas_payı,ColNumBarsTop,ColNumBarsBot,ColNumBarsInterior,x_koladeti,y_koladeti)\n",
    "interior_unconfined2,interior_confined2=mam.tbdy_mander(\"B500C\",fc/Unit.MPa,BCol2*10**3,HCol2*10**3,s,etriye_çapı,bardiameterinteriorcol*10**3,pas_payı,ColNumBarsTop,ColNumBarsBot,ColNumBarsInterior,x_koladeti,y_koladeti)\n",
    "interior_unconfined3,interior_confined3=mam.tbdy_mander(\"B500C\",fc/Unit.MPa,BCol3*10**3,HCol2*10**3,s,etriye_çapı,bardiameterinteriorcol*10**3,pas_payı,ColNumBarsTop,ColNumBarsBot,ColNumBarsInterior,x_koladeti,y_koladeti)\n",
    "\n",
    "exterior_unconfined1,exterior_confined1=mam.tbdy_mander(\"B500C\",fc/Unit.MPa,BCol1*10**3,HCol1*10**3,s,etriye_çapı,bardiameterexteriorcol*10**3,pas_payı,ColNumBarsTop,ColNumBarsBot,ColNumBarsInterior,x_koladeti,y_koladeti)\n",
    "exterior_unconfined2,exterior_confined2=mam.tbdy_mander(\"B500C\",fc/Unit.MPa,BCol2*10**3,HCol2*10**3,s,etriye_çapı,bardiameterexteriorcol*10**3,pas_payı,ColNumBarsTop,ColNumBarsBot,ColNumBarsInterior,x_koladeti,y_koladeti)\n",
    "exterior_unconfined3,exterior_confined3=mam.tbdy_mander(\"B500C\",fc/Unit.MPa,BCol3*10**3,HCol2*10**3,s,etriye_çapı,bardiameterexteriorcol*10**3,pas_payı,ColNumBarsTop,ColNumBarsBot,ColNumBarsInterior,x_koladeti,y_koladeti)\n",
    "\n",
    "ms.plot_mander(interior_confined1  ['strain_stress'][0],interior_confined1  ['strain_stress'][1],label=\"Interior Confined1 model \")\n",
    "ms.plot_mander(interior_unconfined1['strain_stress'][0],interior_unconfined1['strain_stress'][1],label=\"Interior Unonfined1 model\")\n",
    "ms.plot_mander(exterior_confined1  ['strain_stress'][0],exterior_confined1['strain_stress'][1],label=\"Exterior Confined1 model \")\n",
    "\n",
    "ms.plot_mander(interior_confined2  ['strain_stress'][0],interior_confined2['strain_stress'][1],label=\"Interior Confined2 model \")\n",
    "ms.plot_mander(exterior_confined2  ['strain_stress'][0],exterior_confined2['strain_stress'][1],label=\"Exterior Confined2 model \")\n",
    "\n",
    "ms.plot_mander(interior_confined3  ['strain_stress'][0],interior_confined3['strain_stress'][1],label=\"Interior Confined2 model \")\n",
    "ms.plot_mander(exterior_confined3  ['strain_stress'][0],exterior_confined3  ['strain_stress'][1],label=\"Exterior Confined2 model \")\"\"\""
   ]
  },
  {
   "cell_type": "code",
   "execution_count": 89,
   "metadata": {},
   "outputs": [
    {
     "data": {
      "text/latex": [
       "\\[\n",
       "\\begin{aligned}\n",
       "\\mathrm{fc1U} &= -20000.0 \\; \\;\\textrm{(UNCONFINED concrete (todeschini parabolic model), maximum stress)}\n",
       "\\\\[10pt]\n",
       "\\mathrm{eps1U} &= -0.002 \\; \n",
       "\\\\[10pt]\n",
       "\\mathrm{fc2U} &= -17800.054 \\; \n",
       "\\\\[10pt]\n",
       "\\mathrm{eps2U} &= -3.490 \\times 10 ^ {-3 } \\; \n",
       "\\\\[10pt]\n",
       "\\mathrm{fc1C} &= -27958.399 \\; \n",
       "\\\\[10pt]\n",
       "\\mathrm{eps1C} &= -0.006 \\; \n",
       "\\\\[10pt]\n",
       "\\mathrm{fc2C} &= -24580.612 \\; \n",
       "\\\\[10pt]\n",
       "\\mathrm{eps2C} &= -1.882 \\times 10 ^ {-2 } \\; \n",
       "\\\\[10pt]\n",
       "\\mathrm{Lambda} &= 0.1 \\; \\;\\textrm{(ratio between unloading slope at eps2 and initial slope Ec)}\n",
       "\\\\[10pt]\n",
       "\\mathrm{fct} &= 0.10 \\cdot \\mathrm{fc} \\\\&= 0.10 \\cdot 20000.0 \\\\&= 2000.0 \\; \\;\\textrm{(tensile strength +tension)}\\\\\n",
       "\\\\[10pt]\n",
       "\\mathrm{Ets} &= \\frac{ \\mathrm{fct} }{ 0.002 } \\\\&= \\frac{ 2000.0 }{ 0.002 } \\\\&= 1000000.0 \\; \\;\\textrm{(tension softening stiffness)}\\\\\n",
       "\\\\[10pt]\n",
       "\\mathrm{fsy} &= 500 \\cdot \\mathrm{Unit.MPa} \\\\&= 500 \\cdot Unit.MPa \\\\&= 500000.0 \\; \\;\\textrm{(Yield stress)}\\\\\n",
       "\\\\[10pt]\n",
       "\\mathrm{Es} &= 2 \\cdot \\left( 10 \\right) ^{ 5 } \\cdot \\mathrm{Unit.MPa} \\\\&= 2 \\cdot \\left( 10 \\right) ^{ 5 } \\cdot Unit.MPa \\\\&= 200000000.0 \\; \\;\\textrm{(Young's modulus)}\\\\\n",
       "\\\\[10pt]\n",
       "\\mathrm{bs} &= 0.01 \\; \\;\\textrm{(strain-hardening ratio)}\n",
       "\\\\[10pt]\n",
       "\\mathrm{R0} &= 18 \\; \\;\\textrm{(control the transition from elastic to plastic branches)}\n",
       "\\\\[10pt]\n",
       "\\mathrm{cR1} &= 0.925 \\; \\;\\textrm{(control the transition from elastic to plastic branches)}\n",
       "\\\\[10pt]\n",
       "\\mathrm{cR2} &= 0.15 \\; \\;\\textrm{(control the transition from elastic to plastic branches)}\n",
       "\\\\[10pt]\n",
       "\\mathrm{minStrain} &= -0.1 \\; \\;\\textrm{(minimum steel strain in the fibers (steel buckling))}\n",
       "\\\\[10pt]\n",
       "\\mathrm{maxStrain} &= 0.1 \\; \\;\\textrm{(maximum steel strain in the fibers (steel rupture))}\n",
       "\\end{aligned}\n",
       "\\]"
      ],
      "text/plain": [
       "<IPython.core.display.Latex object>"
      ]
     },
     "metadata": {},
     "output_type": "display_data"
    }
   ],
   "source": [
    "%%render long\n",
    "# unconfined concrete\n",
    "fc1U  = -fc          # UNCONFINED concrete (todeschini parabolic model), maximum stress\n",
    "eps1U =  unconfined['values'][1] #-eps_c_sargısız[f_c_sargısız.index(max(f_c_sargısız))]      # strain at maximum strength of unconfined concrete\n",
    "fc2U  =  unconfined['values'][2] #-f_c_sargısız[-1]*Unit.MPa    # ultimate stress\n",
    "eps2U =  unconfined['values'][3] #-eps_c_sargısız[-1]       # strain at ultimate stress\n",
    "\n",
    "# confined concrete\n",
    "fc1C  = confined['values'][0] #-f_c_sargılı[f_c_sargılı.index(max(f_c_sargılı))]*Unit.MPa     # CONFINED concrete (mander model), maximum stress\n",
    "eps1C = confined['values'][1] #-eps_c_sargılı[f_c_sargılı.index(max(f_c_sargılı))]   # strain at maximum stres\n",
    "fc2C  = confined['values'][2] #-f_c_sargılı[-1]*Unit.MPa    # ultimate stress\n",
    "eps2C = confined['values'][3] #-eps_c_sargılı[-1]     # strain at ultimate stress \n",
    "# tensile-strength properties\n",
    "Lambda = 0.1        # ratio between unloading slope at eps2 and initial slope Ec\n",
    "fct = 0.10*fc       # tensile strength +tension\n",
    "Ets = fct/0.002     # tension softening stiffness\n",
    "\n",
    "# REINFORCING STEEL\n",
    "#============================================================================================================\n",
    "fsy = 500*Unit.MPa;     # Yield stress\n",
    "Es = 2*10**5*Unit.MPa;     # Young's modulus\n",
    "bs = 0.01           # strain-hardening ratio\n",
    "R0 = 18             # control the transition from elastic to plastic branches\n",
    "cR1 = 0.925         # control the transition from elastic to plastic branches\n",
    "cR2 = 0.15          # control the transition from elastic to plastic branches\n",
    "minStrain = -0.1    # minimum steel strain in the fibers (steel buckling)\n",
    "maxStrain = 0.1     # maximum steel strain in the fibers (steel rupture)"
   ]
  },
  {
   "cell_type": "code",
   "execution_count": 90,
   "metadata": {},
   "outputs": [
    {
     "data": {
      "text/plain": [
       "\"%%render long\\n# unconfined concrete\\nfc1U  = -fc          # UNCONFINED concrete (todeschini parabolic model), maximum stress\\neps1U =  interior_unconfined1['values'][1] #-eps_c_sargısız[f_c_sargısız.index(max(f_c_sargısız))]      # strain at maximum strength of unconfined concrete\\nfc2U  =  interior_unconfined1['values'][2] #-f_c_sargısız[-1]*Unit.MPa    # ultimate stress\\neps2U =  interior_unconfined1['values'][3] #-eps_c_sargısız[-1]       # strain at ultimate stress\\n\\n# confined concrete\\n# 40*40 interior and exterior column\\nC1ifc1C  = interior_confined1['values'][0] #-f_c_sargılı[f_c_sargılı.index(max(f_c_sargılı))]*Unit.MPa     # CONFINED concrete (mander model), maximum stress\\nC1ieps1C = interior_confined1['values'][1] #-eps_c_sargılı[f_c_sargılı.index(max(f_c_sargılı))]   # strain at maximum stres\\nC1ifc2C  = interior_confined1['values'][2] #-f_c_sargılı[-1]*Unit.MPa    # ultimate stress\\nC1ieps2C = interior_confined1['values'][3] #-eps_c_sargılı[-1]     # strain at ultimate stress \\n\\nC1efc1C  = exterior_confined1['values'][0] #-f_c_sargılı[f_c_sargılı.index(max(f_c_sargılı))]*Unit.MPa     # CONFINED concrete (mander model), maximum stress\\nC1eeps1C = exterior_confined1['values'][1] #-eps_c_sargılı[f_c_sargılı.index(max(f_c_sargılı))]   # strain at maximum stres\\nC1efc2C  = exterior_confined1['values'][2] #-f_c_sargılı[-1]*Unit.MPa    # ultimate stress\\nC1eeps2C = exterior_confined1['values'][3] #-eps_c_sargılı[-1]     # strain at ultimate stress \\n\\n# 35*35 interior and exterior column\\nC2ifc1C  = interior_confined2['values'][0] #-f_c_sargılı[f_c_sargılı.index(max(f_c_sargılı))]*Unit.MPa     # CONFINED concrete (mander model), maximum stress\\nC2ieps1C = interior_confined2['values'][1] #-eps_c_sargılı[f_c_sargılı.index(max(f_c_sargılı))]   # strain at maximum stres\\nC2ifc2C  = interior_confined2['values'][2] #-f_c_sargılı[-1]*Unit.MPa    # ultimate stress\\nC2ieps2C = interior_confined2['values'][3] #-eps_c_sargılı[-1]     # strain at ultimate stress \\n\\nC2efc1C  = exterior_confined2['values'][0] #-f_c_sargılı[f_c_sargılı.index(max(f_c_sargılı))]*Unit.MPa     # CONFINED concrete (mander model), maximum stress\\nC2eeps1C = exterior_confined2['values'][1] #-eps_c_sargılı[f_c_sargılı.index(max(f_c_sargılı))]   # strain at maximum stres\\nC2efc2C  = exterior_confined2['values'][2] #-f_c_sargılı[-1]*Unit.MPa    # ultimate stress\\nC2eeps2C = exterior_confined2['values'][3] #-eps_c_sargılı[-1]     # strain at ultimate stress \\n\\n# 30*30 interior and exterior column\\nC3ifc1C  = interior_confined3['values'][0] #-f_c_sargılı[f_c_sargılı.index(max(f_c_sargılı))]*Unit.MPa     # CONFINED concrete (mander model), maximum stress\\nC3ieps1C = interior_confined3['values'][1] #-eps_c_sargılı[f_c_sargılı.index(max(f_c_sargılı))]   # strain at maximum stres\\nC3ifc2C  = interior_confined3['values'][2] #-f_c_sargılı[-1]*Unit.MPa    # ultimate stress\\nC3ieps2C = interior_confined3['values'][3] #-eps_c_sargılı[-1]     # strain at ultimate stress \\n\\nC3efc1C  = exterior_confined3['values'][0] #-f_c_sargılı[f_c_sargılı.index(max(f_c_sargılı))]*Unit.MPa     # CONFINED concrete (mander model), maximum stress\\nC3eeps1C = exterior_confined3['values'][1] #-eps_c_sargılı[f_c_sargılı.index(max(f_c_sargılı))]   # strain at maximum stres\\nC3efc2C  = exterior_confined3['values'][2] #-f_c_sargılı[-1]*Unit.MPa    # ultimate stress\\nC3eeps2C = exterior_confined3['values'][3] #-eps_c_sargılı[-1]     # strain at ultimate stress \\n\\n\\n# tensile-strength properties\\nLambda = 0.1        # ratio between unloading slope at eps2 and initial slope Ec\\nfct = 0.10*fc       # tensile strength +tension\\nEts = fct/0.002     # tension softening stiffness\\n\\n# REINFORCING STEEL\\n#============================================================================================================\\nfsy = 500*Unit.MPa;     # Yield stress\\nEs = 2*10**5*Unit.MPa;     # Young's modulus\\nbs = 0.01           # strain-hardening ratio\\nR0 = 18             # control the transition from elastic to plastic branches\\ncR1 = 0.925         # control the transition from elastic to plastic branches\\ncR2 = 0.15          # control the transition from elastic to plastic branches\\nminStrain = -0.1    # minimum steel strain in the fibers (steel buckling)\\nmaxStrain = 0.1     # maximum steel strain in the fibers (steel rupture)\""
      ]
     },
     "execution_count": 90,
     "metadata": {},
     "output_type": "execute_result"
    }
   ],
   "source": [
    "\"\"\"%%render long\n",
    "# unconfined concrete\n",
    "fc1U  = -fc          # UNCONFINED concrete (todeschini parabolic model), maximum stress\n",
    "eps1U =  interior_unconfined1['values'][1] #-eps_c_sargısız[f_c_sargısız.index(max(f_c_sargısız))]      # strain at maximum strength of unconfined concrete\n",
    "fc2U  =  interior_unconfined1['values'][2] #-f_c_sargısız[-1]*Unit.MPa    # ultimate stress\n",
    "eps2U =  interior_unconfined1['values'][3] #-eps_c_sargısız[-1]       # strain at ultimate stress\n",
    "\n",
    "# confined concrete\n",
    "# 40*40 interior and exterior column\n",
    "C1ifc1C  = interior_confined1['values'][0] #-f_c_sargılı[f_c_sargılı.index(max(f_c_sargılı))]*Unit.MPa     # CONFINED concrete (mander model), maximum stress\n",
    "C1ieps1C = interior_confined1['values'][1] #-eps_c_sargılı[f_c_sargılı.index(max(f_c_sargılı))]   # strain at maximum stres\n",
    "C1ifc2C  = interior_confined1['values'][2] #-f_c_sargılı[-1]*Unit.MPa    # ultimate stress\n",
    "C1ieps2C = interior_confined1['values'][3] #-eps_c_sargılı[-1]     # strain at ultimate stress \n",
    "\n",
    "C1efc1C  = exterior_confined1['values'][0] #-f_c_sargılı[f_c_sargılı.index(max(f_c_sargılı))]*Unit.MPa     # CONFINED concrete (mander model), maximum stress\n",
    "C1eeps1C = exterior_confined1['values'][1] #-eps_c_sargılı[f_c_sargılı.index(max(f_c_sargılı))]   # strain at maximum stres\n",
    "C1efc2C  = exterior_confined1['values'][2] #-f_c_sargılı[-1]*Unit.MPa    # ultimate stress\n",
    "C1eeps2C = exterior_confined1['values'][3] #-eps_c_sargılı[-1]     # strain at ultimate stress \n",
    "\n",
    "# 35*35 interior and exterior column\n",
    "C2ifc1C  = interior_confined2['values'][0] #-f_c_sargılı[f_c_sargılı.index(max(f_c_sargılı))]*Unit.MPa     # CONFINED concrete (mander model), maximum stress\n",
    "C2ieps1C = interior_confined2['values'][1] #-eps_c_sargılı[f_c_sargılı.index(max(f_c_sargılı))]   # strain at maximum stres\n",
    "C2ifc2C  = interior_confined2['values'][2] #-f_c_sargılı[-1]*Unit.MPa    # ultimate stress\n",
    "C2ieps2C = interior_confined2['values'][3] #-eps_c_sargılı[-1]     # strain at ultimate stress \n",
    "\n",
    "C2efc1C  = exterior_confined2['values'][0] #-f_c_sargılı[f_c_sargılı.index(max(f_c_sargılı))]*Unit.MPa     # CONFINED concrete (mander model), maximum stress\n",
    "C2eeps1C = exterior_confined2['values'][1] #-eps_c_sargılı[f_c_sargılı.index(max(f_c_sargılı))]   # strain at maximum stres\n",
    "C2efc2C  = exterior_confined2['values'][2] #-f_c_sargılı[-1]*Unit.MPa    # ultimate stress\n",
    "C2eeps2C = exterior_confined2['values'][3] #-eps_c_sargılı[-1]     # strain at ultimate stress \n",
    "\n",
    "# 30*30 interior and exterior column\n",
    "C3ifc1C  = interior_confined3['values'][0] #-f_c_sargılı[f_c_sargılı.index(max(f_c_sargılı))]*Unit.MPa     # CONFINED concrete (mander model), maximum stress\n",
    "C3ieps1C = interior_confined3['values'][1] #-eps_c_sargılı[f_c_sargılı.index(max(f_c_sargılı))]   # strain at maximum stres\n",
    "C3ifc2C  = interior_confined3['values'][2] #-f_c_sargılı[-1]*Unit.MPa    # ultimate stress\n",
    "C3ieps2C = interior_confined3['values'][3] #-eps_c_sargılı[-1]     # strain at ultimate stress \n",
    "\n",
    "C3efc1C  = exterior_confined3['values'][0] #-f_c_sargılı[f_c_sargılı.index(max(f_c_sargılı))]*Unit.MPa     # CONFINED concrete (mander model), maximum stress\n",
    "C3eeps1C = exterior_confined3['values'][1] #-eps_c_sargılı[f_c_sargılı.index(max(f_c_sargılı))]   # strain at maximum stres\n",
    "C3efc2C  = exterior_confined3['values'][2] #-f_c_sargılı[-1]*Unit.MPa    # ultimate stress\n",
    "C3eeps2C = exterior_confined3['values'][3] #-eps_c_sargılı[-1]     # strain at ultimate stress \n",
    "\n",
    "\n",
    "# tensile-strength properties\n",
    "Lambda = 0.1        # ratio between unloading slope at eps2 and initial slope Ec\n",
    "fct = 0.10*fc       # tensile strength +tension\n",
    "Ets = fct/0.002     # tension softening stiffness\n",
    "\n",
    "# REINFORCING STEEL\n",
    "#============================================================================================================\n",
    "fsy = 500*Unit.MPa;     # Yield stress\n",
    "Es = 2*10**5*Unit.MPa;     # Young's modulus\n",
    "bs = 0.01           # strain-hardening ratio\n",
    "R0 = 18             # control the transition from elastic to plastic branches\n",
    "cR1 = 0.925         # control the transition from elastic to plastic branches\n",
    "cR2 = 0.15          # control the transition from elastic to plastic branches\n",
    "minStrain = -0.1    # minimum steel strain in the fibers (steel buckling)\n",
    "maxStrain = 0.1     # maximum steel strain in the fibers (steel rupture)\"\"\""
   ]
  },
  {
   "cell_type": "code",
   "execution_count": 91,
   "metadata": {},
   "outputs": [],
   "source": [
    "C4040_mass = HCol1 *BCol1 *concdensity*4/Unit.g\n",
    "C3535_mass = HCol2 *BCol2 *concdensity*3/Unit.g\n",
    "C3030_mass = HCol3 *BCol3 *concdensity*3/Unit.g\n",
    "B3060_mass = HBeam1*BBeam1*concdensity*5/Unit.g\n",
    "B3050_mass = HBeam2*BBeam2*concdensity*5/Unit.g\n",
    "B3040_mass = HBeam3*BBeam3*concdensity*5/Unit.g"
   ]
  },
  {
   "cell_type": "code",
   "execution_count": 92,
   "metadata": {},
   "outputs": [
    {
     "data": {
      "text/plain": [
       "(1.630336391437309,\n",
       " 0.6877981651376146,\n",
       " 0.9361697247706424,\n",
       " 1.5284403669724769,\n",
       " 1.910550458715596,\n",
       " 2.2926605504587156)"
      ]
     },
     "execution_count": 92,
     "metadata": {},
     "output_type": "execute_result"
    }
   ],
   "source": [
    "C4040_mass,C3030_mass,C3535_mass,B3040_mass,B3050_mass,B3060_mass"
   ]
  },
  {
   "cell_type": "markdown",
   "metadata": {},
   "source": [
    "## Create Opensees Model"
   ]
  },
  {
   "cell_type": "markdown",
   "metadata": {},
   "source": [
    "### Build Opensees Model"
   ]
  },
  {
   "cell_type": "code",
   "execution_count": 93,
   "metadata": {},
   "outputs": [],
   "source": [
    "#=======================================================================================================================================================================================================\n",
    "\n",
    "bd.modelbuild()"
   ]
  },
  {
   "cell_type": "markdown",
   "metadata": {},
   "source": [
    "### Create Nodes"
   ]
  },
  {
   "cell_type": "code",
   "execution_count": 94,
   "metadata": {},
   "outputs": [],
   "source": [
    "for node in pf1.node_dict.keys():\n",
    "    if node in pf1.floorNodes[0]:\n",
    "        ops.node(node,pf1.node_dict[node][0],pf1.node_dict[node][1],'-mass',C4040_mass/2, C4040_mass/2, 0.0)\n",
    "    \n",
    "    if node in pf1.floorNodes[1]:\n",
    "        if node in [pf1.floorNodes[1][0],pf1.floorNodes[1][-1]]:\n",
    "            ops.node(node,pf1.node_dict[node][0],pf1.node_dict[node][1],'-mass',(C4040_mass+B3060_mass+C4040_mass)/2, (C4040_mass+B3060_mass+C4040_mass)/2, 0.0)\n",
    "        else:\n",
    "            ops.node(node,pf1.node_dict[node][0],pf1.node_dict[node][1],'-mass',C4040_mass+B3060_mass, C4040_mass+B3060_mass, 0.0)\n",
    "            \n",
    "    if node in pf1.floorNodes[2]:\n",
    "        if node in [pf1.floorNodes[2][0],pf1.floorNodes[2][-1]]:\n",
    "            ops.node(node,pf1.node_dict[node][0],pf1.node_dict[node][1],'-mass',(C3535_mass+B3050_mass+C4040_mass)/2, (C3535_mass+B3050_mass+C4040_mass)/2, 0.0)\n",
    "        else:\n",
    "            ops.node(node,pf1.node_dict[node][0],pf1.node_dict[node][1],'-mass',(C4040_mass+C3535_mass)/2+B3050_mass,(C4040_mass+C3535_mass)/2+B3050_mass, 0.0)\n",
    "    \n",
    "    if node in pf1.floorNodes[3]:\n",
    "        if node in [pf1.floorNodes[3][0],pf1.floorNodes[3][-1]]:\n",
    "            ops.node(node,pf1.node_dict[node][0],pf1.node_dict[node][1],'-mass',(C3535_mass+B3050_mass+C3535_mass)/2,(C3535_mass+B3050_mass+C3535_mass)/2, 0.0)\n",
    "        else:\n",
    "            ops.node(node,pf1.node_dict[node][0],pf1.node_dict[node][1],'-mass',C3535_mass+B3050_mass,C3535_mass+B3050_mass, 0.0)\n",
    "    \n",
    "    if node in pf1.floorNodes[4]:\n",
    "        if node in [pf1.floorNodes[4][0],pf1.floorNodes[4][-1]]:\n",
    "            ops.node(node,pf1.node_dict[node][0],pf1.node_dict[node][1],'-mass',(C3535_mass+B3050_mass+C3535_mass)/2,(C3535_mass+B3050_mass+C3535_mass)/2, 0.0)\n",
    "        else:\n",
    "            ops.node(node,pf1.node_dict[node][0],pf1.node_dict[node][1],'-mass',C3535_mass+B3050_mass,C3535_mass+B3050_mass, 0.0)\n",
    "    \n",
    "    if node in pf1.floorNodes[5]:\n",
    "        if node in [pf1.floorNodes[5][0],pf1.floorNodes[5][-1]]:\n",
    "            ops.node(node,pf1.node_dict[node][0],pf1.node_dict[node][1],'-mass',(C3535_mass+B3040_mass+C3030_mass)/2,(C3535_mass+B3040_mass+C3030_mass)/2, 0.0)\n",
    "        else:\n",
    "            ops.node(node,pf1.node_dict[node][0],pf1.node_dict[node][1],'-mass',(C3535_mass+C3030_mass)/2+B3040_mass,(C3535_mass+C3030_mass)/2+B3040_mass, 0.0)\n",
    "    \n",
    "    if node in pf1.floorNodes[6]:\n",
    "        if node in [pf1.floorNodes[6][0],pf1.floorNodes[6][-1]]:\n",
    "            ops.node(node,pf1.node_dict[node][0],pf1.node_dict[node][1],'-mass',(C3030_mass+B3040_mass+C3030_mass)/2, (C3030_mass+B3040_mass+C3030_mass)/2, 0.0)\n",
    "        else:\n",
    "            ops.node(node,pf1.node_dict[node][0],pf1.node_dict[node][1],'-mass',C3030_mass+B3040_mass, C3030_mass+B3040_mass, 0.0)\n",
    "    \n",
    "    if node in pf1.floorNodes[7]:\n",
    "        if node in [pf1.floorNodes[7][0],pf1.floorNodes[7][-1]]:\n",
    "            ops.node(node,pf1.node_dict[node][0],pf1.node_dict[node][1],'-mass',(C3030_mass+B3040_mass+C3030_mass)/2, (C3030_mass+B3040_mass+C3030_mass)/2, 0.0)\n",
    "        else:\n",
    "            ops.node(node,pf1.node_dict[node][0],pf1.node_dict[node][1],'-mass',C3030_mass+B3040_mass, C3030_mass+B3040_mass, 0.0)\n",
    "    \n",
    "    if node in pf1.floorNodes[8]:\n",
    "        if node in [pf1.floorNodes[8][0],pf1.floorNodes[8][-1]]:\n",
    "            ops.node(node,pf1.node_dict[node][0],pf1.node_dict[node][1],'-mass',(C3030_mass+B3040_mass)/2, (C3030_mass+B3040_mass)/2, 0.0)\n",
    "        else:\n",
    "            ops.node(node,pf1.node_dict[node][0],pf1.node_dict[node][1],'-mass',C3030_mass/2+B3040_mass, C3030_mass/2+B3040_mass, 0.0)\n",
    "\n",
    "#nodal_mass = bd.calcnodalmass(pf1.node_dict,pf1.column_dict,pf1.beam_dict,pf1.ColumnLength_dict,pf1.BeamLength_dict,\n",
    "#                              Acol2,Abeam2,distLoadbeam=0,concDensity=concdensity)\n",
    "#bd.createnodes(pf1.node_dict,nodal_mass) # Create nodes and nodal mass for modal analysis\n",
    "\n",
    "#=======================================================================================================================================================================================================\n"
   ]
  },
  {
   "cell_type": "markdown",
   "metadata": {},
   "source": [
    "### Fixed Nodes"
   ]
  },
  {
   "cell_type": "code",
   "execution_count": 95,
   "metadata": {},
   "outputs": [],
   "source": [
    "for i in pf1.floorNodes[0]:\n",
    "    ops.fix(i, 1, 1, 1)"
   ]
  },
  {
   "cell_type": "markdown",
   "metadata": {},
   "source": [
    "### Create Geometric Transformations"
   ]
  },
  {
   "cell_type": "code",
   "execution_count": 96,
   "metadata": {},
   "outputs": [],
   "source": [
    "#=======================================================================================================================================================================================================\n",
    "#equalDOF( rNodeTag , cNodeTag , *dofs )\n",
    "\"\"\"\n",
    "for node in pf1.node_dict.keys():\n",
    "    if node in pf1.floorNodes[1]:\n",
    "        ops.equalDOF(pf1.floorNodes[1][0],pf1.floorNodes[1][1],1)\n",
    "        ops.equalDOF(pf1.floorNodes[1][0],pf1.floorNodes[1][2],1)\n",
    "        ops.equalDOF(pf1.floorNodes[1][0],pf1.floorNodes[1][3],1)\n",
    "    if node in pf1.floorNodes[2]:\n",
    "        ops.equalDOF(pf1.floorNodes[2][0],pf1.floorNodes[2][1],1)\n",
    "        ops.equalDOF(pf1.floorNodes[2][0],pf1.floorNodes[2][2],1)\n",
    "        ops.equalDOF(pf1.floorNodes[2][0],pf1.floorNodes[2][3],1)\n",
    "    if node in pf1.floorNodes[3]:\n",
    "        ops.equalDOF(pf1.floorNodes[3][0],pf1.floorNodes[3][1],1)\n",
    "        ops.equalDOF(pf1.floorNodes[3][0],pf1.floorNodes[3][2],1)\n",
    "        ops.equalDOF(pf1.floorNodes[3][0],pf1.floorNodes[3][3],1)\n",
    "    if node in pf1.floorNodes[4]:\n",
    "        ops.equalDOF(pf1.floorNodes[4][0],pf1.floorNodes[4][1],1)\n",
    "        ops.equalDOF(pf1.floorNodes[4][0],pf1.floorNodes[4][2],1)\n",
    "        ops.equalDOF(pf1.floorNodes[4][0],pf1.floorNodes[4][3],1)\n",
    "    if node in pf1.floorNodes[5]:\n",
    "        ops.equalDOF(pf1.floorNodes[5][0],pf1.floorNodes[5][1],1)\n",
    "        ops.equalDOF(pf1.floorNodes[5][0],pf1.floorNodes[5][2],1)\n",
    "        ops.equalDOF(pf1.floorNodes[5][0],pf1.floorNodes[5][3],1)\n",
    "    if node in pf1.floorNodes[6]:\n",
    "        ops.equalDOF(pf1.floorNodes[6][0],pf1.floorNodes[6][1],1)\n",
    "        ops.equalDOF(pf1.floorNodes[6][0],pf1.floorNodes[6][2],1)\n",
    "        ops.equalDOF(pf1.floorNodes[6][0],pf1.floorNodes[6][3],1)\n",
    "    if node in pf1.floorNodes[7]:\n",
    "        ops.equalDOF(pf1.floorNodes[7][0],pf1.floorNodes[7][1],1)\n",
    "        ops.equalDOF(pf1.floorNodes[7][0],pf1.floorNodes[7][2],1)\n",
    "        ops.equalDOF(pf1.floorNodes[7][0],pf1.floorNodes[7][3],1)\n",
    "    if node in pf1.floorNodes[8]:\n",
    "        ops.equalDOF(pf1.floorNodes[8][0],pf1.floorNodes[8][1],1)\n",
    "        ops.equalDOF(pf1.floorNodes[8][0],pf1.floorNodes[8][2],1)\n",
    "        ops.equalDOF(pf1.floorNodes[8][0],pf1.floorNodes[8][3],1)\n",
    "\"\"\"\n",
    "ColTransfTag = 1\n",
    "BeamTransfTag = 2\n",
    "ops.geomTransf('Linear', BeamTransfTag) #Beam Tranformation Tag\n",
    "ops.geomTransf('PDelta', ColTransfTag)  #Column Tranformation Tag"
   ]
  },
  {
   "cell_type": "markdown",
   "metadata": {},
   "source": [
    "### Define Uniaxial Material"
   ]
  },
  {
   "cell_type": "code",
   "execution_count": 97,
   "metadata": {},
   "outputs": [
    {
     "data": {
      "text/plain": [
       "(-20000.0, -0.002, -17800.05412686899, -0.0034900000000000005)"
      ]
     },
     "execution_count": 97,
     "metadata": {},
     "output_type": "execute_result"
    }
   ],
   "source": [
    "fc1U, eps1U, fc2U , eps2U"
   ]
  },
  {
   "cell_type": "code",
   "execution_count": 98,
   "metadata": {},
   "outputs": [],
   "source": [
    "#=======================================================================================================================================================================================================\n",
    "IDconcCover = 1 # Tag for unconfined concrete material\n",
    "IDconcCore = 2 # Tag for confined concrete material\n",
    "IDSteel = 3 # Tag for steel material without min-max properties\n",
    "IDMinMaxSteel = 4 # Tag for steel material with min-max properties\n",
    "\n",
    "#ops.uniaxialMaterial('Concrete02',IDconcCover, fc1U, eps1U, fc2U, eps2U, Lambda, fct, Ets) #Dış kabuk betonu malzeme tanımlaması\n",
    "#ops.uniaxialMaterial('Concrete02',IDconcCore , fc1C, eps1C, fc2C , eps2C, Lambda, fct, Ets)  #Çekirdek beton malzeme tanımlaması\n",
    "#ops.uniaxialMaterial('Concrete01',IDconcCover, fc1U, eps1U, fc2U , eps2U) #Dış kabuk betonu malzeme tanımlaması\n",
    "#ops.uniaxialMaterial('Concrete01',IDconcCore , fc1C, eps1C, fc2C , eps2C) #Dış kabuk betonu malzeme tanımlaması\n",
    "ops.uniaxialMaterial('Concrete04' ,IDconcCover, fc1U  , eps1U, eps2U,Ec, fct, Ets, Lambda)\n",
    "ops.uniaxialMaterial('Concrete04' ,IDconcCore , fc1C  , eps1C, eps2C,Ec, fct, Ets, Lambda)  #Çekirdek beton malzeme tanımlaması\n",
    "\n",
    "ops.uniaxialMaterial('Steel02',IDSteel, fsy, Es, bs,  R0, cR1, cR2)                        #Çelik malzemesi tanımlaması\n",
    "#ops.uniaxialMaterial('MinMax', IDMinMaxSteel, IDSteel, '-min', minStrain, '-max', maxStrain)#çelik malzemesi minmax içerisine atandı\n"
   ]
  },
  {
   "cell_type": "code",
   "execution_count": 99,
   "metadata": {},
   "outputs": [
    {
     "data": {
      "text/plain": [
       "\"#=======================================================================================================================================================================================================\\nIDconcCover    = 3\\nIDint1concCore = 4 # Tag for confined concrete material\\nIDint2concCore = 5 # Tag for confined concrete material\\nIDint3concCore = 6 # Tag for confined concrete material\\n\\nIDext1concCore = 7 # Tag for confined concrete material\\nIDext2concCore = 8 # Tag for confined concrete material\\nIDext3concCore = 9 # Tag for confined concrete material\\n\\n#IDconcCore = 7 # Tag for confined concrete material\\nIDSteel       = 10 # Tag for steel material without min-max properties\\n#IDMinMaxSteel = 11 # Tag for steel material with min-max properties\\n\\n\\n#ops.uniaxialMaterial('Concrete02',IDconcCover, fc1U, eps1U, fc2U, eps2U, Lambda, fct, Ets) #Dış kabuk betonu malzeme tanımlaması\\n#ops.uniaxialMaterial('Concrete02',IDconcCore , fc1C, eps1C, fc2C , eps2C, Lambda, fct, Ets)  #Çekirdek beton malzeme tanımlaması\\n#ops.uniaxialMaterial('Concrete01',IDconcCover, fc1U, eps1U, fc2U , eps2U) #Dış kabuk betonu malzeme tanımlaması\\n#ops.uniaxialMaterial('Concrete01',IDconcCore , fc1C, eps1C, fc2C , eps2C) #Dış kabuk betonu malzeme tanımlaması\\nops.uniaxialMaterial('Concrete04' ,IDconcCover    , fc1U  , eps1U, eps2U,Ec, fct, Ets, Lambda)  #kabuk beton\\nops.uniaxialMaterial('Concrete04' ,IDint1concCore , C1ifc1C  , C1ieps1C, C1ieps2C,Ec, fct, Ets, Lambda)  #kabuk beton\\nops.uniaxialMaterial('Concrete04' ,IDext1concCore , C1efc1C  , C1eeps1C, C1eeps2C,Ec, fct, Ets, Lambda)  #Çekirdek beton malzeme tanımlaması\\n\\nops.uniaxialMaterial('Concrete04' ,IDint2concCore , C2ifc1C  , C2ieps1C, C2ieps1C,Ec, fct, Ets, Lambda)  #Çekirdek beton malzeme tanımlaması\\nops.uniaxialMaterial('Concrete04' ,IDext2concCore , C2efc1C  , C2eeps1C, C2eeps2C,Ec, fct, Ets, Lambda)  #Çekirdek beton malzeme tanımlaması\\n\\nops.uniaxialMaterial('Concrete04' ,IDint3concCore , C3ifc1C  , C3ieps1C, C3ieps1C,Ec, fct, Ets, Lambda)  #Çekirdek beton malzeme tanımlaması\\nops.uniaxialMaterial('Concrete04' ,IDext3concCore , C3efc1C  , C3eeps1C, C3eeps2C,Ec, fct, Ets, Lambda)  #Çekirdek beton malzeme tanımlaması\\n\\nops.uniaxialMaterial('Steel02',IDSteel, fsy, Es, bs,  R0, cR1, cR2)                        #Çelik malzemesi tanımlaması\\n#ops.uniaxialMaterial('MinMax', IDMinMaxSteel, IDSteel, '-min', minStrain, '-max', maxStrain)#çelik malzemesi minmax içerisine atandı\""
      ]
     },
     "execution_count": 99,
     "metadata": {},
     "output_type": "execute_result"
    }
   ],
   "source": [
    "\"\"\"#=======================================================================================================================================================================================================\n",
    "IDconcCover    = 3\n",
    "IDint1concCore = 4 # Tag for confined concrete material\n",
    "IDint2concCore = 5 # Tag for confined concrete material\n",
    "IDint3concCore = 6 # Tag for confined concrete material\n",
    "\n",
    "IDext1concCore = 7 # Tag for confined concrete material\n",
    "IDext2concCore = 8 # Tag for confined concrete material\n",
    "IDext3concCore = 9 # Tag for confined concrete material\n",
    "\n",
    "#IDconcCore = 7 # Tag for confined concrete material\n",
    "IDSteel       = 10 # Tag for steel material without min-max properties\n",
    "#IDMinMaxSteel = 11 # Tag for steel material with min-max properties\n",
    "\n",
    "\n",
    "#ops.uniaxialMaterial('Concrete02',IDconcCover, fc1U, eps1U, fc2U, eps2U, Lambda, fct, Ets) #Dış kabuk betonu malzeme tanımlaması\n",
    "#ops.uniaxialMaterial('Concrete02',IDconcCore , fc1C, eps1C, fc2C , eps2C, Lambda, fct, Ets)  #Çekirdek beton malzeme tanımlaması\n",
    "#ops.uniaxialMaterial('Concrete01',IDconcCover, fc1U, eps1U, fc2U , eps2U) #Dış kabuk betonu malzeme tanımlaması\n",
    "#ops.uniaxialMaterial('Concrete01',IDconcCore , fc1C, eps1C, fc2C , eps2C) #Dış kabuk betonu malzeme tanımlaması\n",
    "ops.uniaxialMaterial('Concrete04' ,IDconcCover    , fc1U  , eps1U, eps2U,Ec, fct, Ets, Lambda)  #kabuk beton\n",
    "ops.uniaxialMaterial('Concrete04' ,IDint1concCore , C1ifc1C  , C1ieps1C, C1ieps2C,Ec, fct, Ets, Lambda)  #kabuk beton\n",
    "ops.uniaxialMaterial('Concrete04' ,IDext1concCore , C1efc1C  , C1eeps1C, C1eeps2C,Ec, fct, Ets, Lambda)  #Çekirdek beton malzeme tanımlaması\n",
    "\n",
    "ops.uniaxialMaterial('Concrete04' ,IDint2concCore , C2ifc1C  , C2ieps1C, C2ieps1C,Ec, fct, Ets, Lambda)  #Çekirdek beton malzeme tanımlaması\n",
    "ops.uniaxialMaterial('Concrete04' ,IDext2concCore , C2efc1C  , C2eeps1C, C2eeps2C,Ec, fct, Ets, Lambda)  #Çekirdek beton malzeme tanımlaması\n",
    "\n",
    "ops.uniaxialMaterial('Concrete04' ,IDint3concCore , C3ifc1C  , C3ieps1C, C3ieps1C,Ec, fct, Ets, Lambda)  #Çekirdek beton malzeme tanımlaması\n",
    "ops.uniaxialMaterial('Concrete04' ,IDext3concCore , C3efc1C  , C3eeps1C, C3eeps2C,Ec, fct, Ets, Lambda)  #Çekirdek beton malzeme tanımlaması\n",
    "\n",
    "ops.uniaxialMaterial('Steel02',IDSteel, fsy, Es, bs,  R0, cR1, cR2)                        #Çelik malzemesi tanımlaması\n",
    "#ops.uniaxialMaterial('MinMax', IDMinMaxSteel, IDSteel, '-min', minStrain, '-max', maxStrain)#çelik malzemesi minmax içerisine atandı\"\"\"\n"
   ]
  },
  {
   "cell_type": "markdown",
   "metadata": {},
   "source": [
    "### Create Fiber Sections"
   ]
  },
  {
   "cell_type": "code",
   "execution_count": 100,
   "metadata": {},
   "outputs": [],
   "source": [
    "# Define sections\n",
    "# ------------------------------------------------------------------------\n",
    "# rectangular fiber section with one layer of steel evenly distributed around the perimeter and a confined core.\n",
    "ColSecTag_Fiber1 = 12 # Tag for fiber column sections\n",
    "ColSecTag_Fiber2 = 13\n",
    "ColSecTag_Fiber3 = 14\n",
    "ColSecTag_Fiber4 = 15 \n",
    "ColSecTag_Fiber5 = 16\n",
    "ColSecTag_Fiber6 = 17"
   ]
  },
  {
   "cell_type": "markdown",
   "metadata": {},
   "source": [
    "#### C40*40 Exterior column fiber section "
   ]
  },
  {
   "cell_type": "code",
   "execution_count": 101,
   "metadata": {
    "tags": []
   },
   "outputs": [],
   "source": [
    "fiber_sec = bd.BuildRCrectSection(ColSecTag_Fiber1, HCol1, BCol1, cover, cover, IDconcCore, IDconcCover, IDSteel,\n",
    "                        ColNumBarsTop,barareaexteriorcol ,ColNumBarsBot, barareaexteriorcol,ColNumBarsInterior, barareaexteriorcol, \n",
    "                        nfCoreY=4, nfCoreZ=4, nfCoverY=4, nfCoverZ=4, pflag=1)\n",
    "#ms.plot_fiber_section(ColSecTag_Fiber1,fiber_sec)\n",
    "del fiber_sec"
   ]
  },
  {
   "cell_type": "markdown",
   "metadata": {},
   "source": [
    "#### C40*40 Interior column fiber section "
   ]
  },
  {
   "cell_type": "code",
   "execution_count": 102,
   "metadata": {
    "tags": []
   },
   "outputs": [],
   "source": [
    "fiber_sec2 =bd.BuildRCrectSection(ColSecTag_Fiber2, HCol1, BCol1, cover, cover, IDconcCore, IDconcCover, IDSteel,\n",
    "                        ColNumBarsTop,barareainteriorcol2 ,ColNumBarsBot, barareainteriorcol2,ColNumBarsInterior, barareainteriorcol2, \n",
    "                        nfCoreY=4, nfCoreZ=4, nfCoverY=4, nfCoverZ=4, pflag=1)\n",
    "#ms.plot_fiber_section(ColSecTag_Fiber2,fiber_sec2)\n",
    "del fiber_sec2"
   ]
  },
  {
   "cell_type": "markdown",
   "metadata": {},
   "source": [
    "#### C35*35 Exterior column fiber section "
   ]
  },
  {
   "cell_type": "code",
   "execution_count": 103,
   "metadata": {
    "tags": []
   },
   "outputs": [],
   "source": [
    "fiber_sec3 =bd.BuildRCrectSection(ColSecTag_Fiber3, HCol2, BCol2, cover, cover, IDconcCore, IDconcCover, IDSteel,\n",
    "                        ColNumBarsTop,barareaexteriorcol ,ColNumBarsBot, barareaexteriorcol,ColNumBarsInterior, barareaexteriorcol, \n",
    "                        nfCoreY=4, nfCoreZ=4, nfCoverY=4, nfCoverZ=4, pflag=1)\n",
    "#ms.plot_fiber_section(ColSecTag_Fiber3,fiber_sec3)\n",
    "del fiber_sec3"
   ]
  },
  {
   "cell_type": "markdown",
   "metadata": {},
   "source": [
    "#### C35*35 Interior column fiber section "
   ]
  },
  {
   "cell_type": "code",
   "execution_count": 104,
   "metadata": {
    "tags": []
   },
   "outputs": [],
   "source": [
    "fiber_sec4 =bd.BuildRCrectSection(ColSecTag_Fiber4, HCol2, BCol2, cover, cover, IDconcCore, IDconcCover, IDSteel,\n",
    "                        ColNumBarsTop,barareainteriorcol2 ,ColNumBarsBot, barareainteriorcol2,ColNumBarsInterior, barareainteriorcol2, \n",
    "                        nfCoreY=4, nfCoreZ=4, nfCoverY=4, nfCoverZ=4, pflag=1)\n",
    "#ms.plot_fiber_section(ColSecTag_Fiber4,fiber_sec4)\n",
    "del fiber_sec4"
   ]
  },
  {
   "cell_type": "markdown",
   "metadata": {},
   "source": [
    "#### C30*30 Exterior column fiber section "
   ]
  },
  {
   "cell_type": "code",
   "execution_count": 105,
   "metadata": {
    "tags": []
   },
   "outputs": [],
   "source": [
    "fiber_sec5 =bd.BuildRCrectSection(ColSecTag_Fiber5, HCol3, BCol3, cover, cover, IDconcCore, IDconcCover, IDSteel,\n",
    "                        ColNumBarsTop,barareaexteriorcol ,ColNumBarsBot, barareaexteriorcol,ColNumBarsInterior, barareaexteriorcol, \n",
    "                        nfCoreY=4, nfCoreZ=4, nfCoverY=4, nfCoverZ=4, pflag=1)\n",
    "#ms.plot_fiber_section(ColSecTag_Fiber5,fiber_sec5)\n",
    "del fiber_sec5"
   ]
  },
  {
   "cell_type": "markdown",
   "metadata": {
    "tags": []
   },
   "source": [
    "#### C30*30 Interior column fiber section "
   ]
  },
  {
   "cell_type": "code",
   "execution_count": 106,
   "metadata": {
    "tags": []
   },
   "outputs": [],
   "source": [
    "fiber_sec6 =bd.BuildRCrectSection(ColSecTag_Fiber6, HCol3, BCol3, cover, cover, IDconcCore, IDconcCover, IDSteel,\n",
    "                        ColNumBarsTop,barareainteriorcol2 ,ColNumBarsBot, barareainteriorcol2,ColNumBarsInterior, barareainteriorcol2, \n",
    "                        nfCoreY=4, nfCoreZ=4, nfCoverY=4, nfCoverZ=4, pflag=1)\n",
    "#ms.plot_fiber_section(ColSecTag_Fiber6,fiber_sec6)\n",
    "del fiber_sec6"
   ]
  },
  {
   "cell_type": "markdown",
   "metadata": {},
   "source": [
    "### Create Beam Sections and Hinge Properties"
   ]
  },
  {
   "cell_type": "code",
   "execution_count": 107,
   "metadata": {},
   "outputs": [
    {
     "name": "stdout",
     "output_type": "stream",
     "text": [
      "MyBeam=40,PhiYCol=1.02e-05,EIBeamCrack=3921568.6274509802, kRatio =7.262164124909224e+16\n",
      "MyBeam=40,PhiYCol=1.27e-05,EIBeamCrack=3149606.2992125982, kRatio =1.0078740157480315e+17\n",
      "MyBeam=40,PhiYCol=1.6800000000000002e-05,EIBeamCrack=2380952.3809523806, kRatio =1.4880952380952374e+17\n"
     ]
    }
   ],
   "source": [
    "ElBeamSec_Elastic  = 30       # Tag for elastic sbeam section which is located at the beam interior\n",
    "ElBeamSec_Elastic2 = 31       # Tag for elastic sbeam section which is located at the beam interior\n",
    "ElBeamSec_Elastic3 = 32       # Tag for elastic sbeam section which is located at the beam interior\n",
    "ops.section('Elastic', ElBeamSec_Elastic , Ec, Abeam1, Ibeam1) #[P,Mz] davranışını sonuç olarak veriyor. B60/30\n",
    "ops.section('Elastic', ElBeamSec_Elastic2, Ec, Abeam2, Ibeam2) #B50/30\n",
    "ops.section('Elastic', ElBeamSec_Elastic3, Ec, Abeam3, Ibeam3) #B40/30\n",
    "\n",
    "# Moment - Curvature lardan alınan akma momentleri ve akma birim şekildeğiştirmeleri girilmiştir\n",
    "BeamMatTagFlex1 = 1333\n",
    "MyBeam     = 40#157\t\t# yield moment kNm\n",
    "PhiYCol   = 1.02*10**-5\t\t\t# yield curvature\n",
    "EIBeamCrack= MyBeam/PhiYCol\t    # cracked section inertia\n",
    "b         = 0.01                # strain-hardening ratio (ratio between post-yield tangent and initial elastic tangent)\n",
    "ops.uniaxialMaterial ('Steel01' ,BeamMatTagFlex1 ,MyBeam ,EIBeamCrack ,b) \t\t# bilinear behavior for flexure\n",
    "\n",
    "print(f\"MyBeam={MyBeam},PhiYCol={PhiYCol},EIBeamCrack={EIBeamCrack}, kRatio ={EIBeamCrack/Ibeam1*10**8}\")\n",
    "\n",
    "BeamMatTagFlex2 = 1334\n",
    "MyBeam     = 40#127\t\t# yield moment\n",
    "PhiYCol   = 1.27*10**-5\t\t\t# yield curvature\n",
    "EIBeamCrack= MyBeam/PhiYCol\t    # cracked section inertia\n",
    "b         = 0.01                # strain-hardening ratio (ratio between post-yield tangent and initial elastic tangent)\n",
    "ops.uniaxialMaterial ('Steel01' ,BeamMatTagFlex2 ,MyBeam ,EIBeamCrack ,b) \t\t# bilinear behavior for flexure\n",
    "\n",
    "print(f\"MyBeam={MyBeam},PhiYCol={PhiYCol},EIBeamCrack={EIBeamCrack}, kRatio ={EIBeamCrack/Ibeam2*10**8}\")\n",
    "\n",
    "BeamMatTagFlex3 = 1335\n",
    "MyBeam     = 40#96\t\t# yield moment\n",
    "PhiYCol   = 1.68*10**-5\t\t\t# yield curvature\n",
    "EIBeamCrack= MyBeam/PhiYCol\t    # cracked section inertia\n",
    "b         = 0.01                # strain-hardening ratio (ratio between post-yield tangent and initial elastic tangent)\n",
    "ops.uniaxialMaterial ('Steel01' ,BeamMatTagFlex3 ,MyBeam ,EIBeamCrack ,b) \t\t# bilinear behavior for flexure\n",
    "\n",
    "\n",
    "print(f\"MyBeam={MyBeam},PhiYCol={PhiYCol},EIBeamCrack={EIBeamCrack}, kRatio ={EIBeamCrack/Ibeam3*10**8}\")\n",
    "\n",
    "BeamAxialTag1 = 20\n",
    "BeamAxialTag2 =21\n",
    "BeamAxialTag3 =22\n",
    "ops.uniaxialMaterial('Elastic',BeamAxialTag1,Ec*Abeam1)\n",
    "ops.uniaxialMaterial('Elastic',BeamAxialTag2,Ec*Abeam2)\n",
    "ops.uniaxialMaterial('Elastic',BeamAxialTag3,Ec*Abeam3)\n",
    "\n",
    "\n",
    "BeamSecTag_agg1 = 1001\n",
    "BeamSecTag_agg2 = 1002\n",
    "BeamSecTag_agg3 = 1003\n",
    "\n",
    "ops.section('Aggregator', BeamSecTag_agg1, BeamMatTagFlex1,'Mz')#Beam30*60\n",
    "ops.section('Aggregator', BeamSecTag_agg2, BeamMatTagFlex2,'Mz')#Beam30*60\n",
    "ops.section('Aggregator', BeamSecTag_agg3, BeamMatTagFlex3,'Mz')#Beam30*60\n",
    "\n",
    "\n",
    "beamIntgrTag1 = 7\n",
    "beamIntgrTag2 = 8\n",
    "beamIntgrTag3 = 9\n",
    "Lpl1 = 0.5* HBeam1\n",
    "Lpl2 = 0.5* HBeam2\n",
    "Lpl3 = 0.5* HBeam3\n",
    "\n",
    "##Beam integration point definition\n",
    "ops.beamIntegration('HingeRadau', beamIntgrTag1, BeamSecTag_agg1, Lpl1, BeamSecTag_agg1, Lpl1, ElBeamSec_Elastic)\n",
    "ops.beamIntegration('HingeRadau', beamIntgrTag2, BeamSecTag_agg2, Lpl2, BeamSecTag_agg2, Lpl2, ElBeamSec_Elastic2)\n",
    "ops.beamIntegration('HingeRadau', beamIntgrTag3, BeamSecTag_agg3, Lpl3, BeamSecTag_agg3, Lpl3, ElBeamSec_Elastic3)\n"
   ]
  },
  {
   "cell_type": "markdown",
   "metadata": {},
   "source": [
    "### Columns Hinge Properties"
   ]
  },
  {
   "cell_type": "code",
   "execution_count": 108,
   "metadata": {},
   "outputs": [],
   "source": [
    "#=======================================================================================================================================================================================================\n",
    "#Column integration points definitions\n",
    "#Create elements\n",
    "\"\"\"\n",
    "ColMatTagFlex = 1334\n",
    "MyCol     = 200\t\t# yield moment\n",
    "PhiYCol   = -eps1C\t\t\t# yield curvature\n",
    "EIColCrack= MyCol/PhiYCol\t    # cracked section inertia\n",
    "b         = 0.01                # strain-hardening ratio (ratio between post-yield tangent and initial elastic tangent)\n",
    "ops.uniaxialMaterial ('Steel01' ,ColMatTagFlex ,MyCol ,EIColCrack ,b) \t\t# bilinear behavior for flexure\n",
    "\n",
    "print(f\"MyBeam={MyCol},PhiYCol={PhiYCol},EIBeamCrack={EIColCrack},\")\n",
    "\n",
    "\n",
    "ColAxialTag1 = 40\n",
    "ColAxialTag2 =41\n",
    "ColAxialTag3 =42\n",
    "ops.uniaxialMaterial('Elastic',ColAxialTag1,Ec*Acol1)\n",
    "ops.uniaxialMaterial('Elastic',ColAxialTag2,Ec*Acol2)\n",
    "ops.uniaxialMaterial('Elastic',ColAxialTag3,Ec*Acol3)\n",
    "\n",
    "ColElasticSec1,ColElasticSec2,ColElasticSec3 = 228,229,230\n",
    "ops.section('Elastic',ColElasticSec1,Ec,Acol1,Icol1)\n",
    "ops.section('Elastic',ColElasticSec2,Ec,Acol2,Icol2)\n",
    "ops.section('Elastic',ColElasticSec3,Ec,Acol3,Icol3)\n",
    "\n",
    "secAgg1,secAgg2,secAgg3 =231,232,233\n",
    "#secAgg4,secAgg5,secAgg6,secAgg7,secAgg8,secAgg9 = 234,235,236,237,238,239\n",
    "\n",
    "\n",
    "ops.section('Aggregator', secAgg1,ColAxialTag1,'P',ColMatTagFlex,'Mz' , '-section', ColElasticSec1)\n",
    "ops.section('Aggregator', secAgg2,ColAxialTag2,'P',ColMatTagFlex,'Mz' , '-section', ColElasticSec2)\n",
    "ops.section('Aggregator', secAgg3,ColAxialTag3,'P',ColMatTagFlex,'Mz' , '-section', ColElasticSec3)\n",
    "\n",
    "ops.section('Aggregator', secAgg4,ColAxialTag1,'P',ColMatTagFlex,'Mz' , '-section', ColSecTag_Fiber1)\n",
    "ops.section('Aggregator', secAgg5,ColAxialTag1,'P',ColMatTagFlex,'Mz' , '-section', ColSecTag_Fiber2)\n",
    "ops.section('Aggregator', secAgg6,ColAxialTag2,'P',ColMatTagFlex,'Mz' , '-section', ColSecTag_Fiber3)\n",
    "ops.section('Aggregator', secAgg7,ColAxialTag2,'P',ColMatTagFlex,'Mz' , '-section', ColSecTag_Fiber4)\n",
    "ops.section('Aggregator', secAgg8,ColAxialTag3,'P',ColMatTagFlex,'Mz' , '-section', ColSecTag_Fiber5)\n",
    "ops.section('Aggregator', secAgg9,ColAxialTag3,'P',ColMatTagFlex,'Mz' , '-section', ColSecTag_Fiber6)\n",
    "\"\"\"\n",
    "## Create Integration point \n",
    "colIntgrTag1 = 1\n",
    "colIntgrTag2 = 2\n",
    "colIntgrTag3 = 3\n",
    "colIntgrTag4 = 4\n",
    "colIntgrTag5 = 5\n",
    "colIntgrTag6 = 6\n",
    "\n",
    "ColElasticSec1,ColElasticSec2,ColElasticSec3 = 228,229,230\n",
    "ops.section('Elastic',ColElasticSec1,Ec,Acol1,Icol1)\n",
    "ops.section('Elastic',ColElasticSec2,Ec,Acol2,Icol2)\n",
    "ops.section('Elastic',ColElasticSec3,Ec,Acol3,Icol3)\n",
    "\n",
    "Lplcol4040 = 0.5*HCol1\n",
    "Lplcol3535 = 0.5*HCol2\n",
    "Lplcol3030 = 0.5*HCol3\n",
    "\n",
    "ops.beamIntegration('HingeMidpoint', colIntgrTag1, ColSecTag_Fiber1, Lplcol4040, ColSecTag_Fiber1, Lplcol4040, ColElasticSec1)\n",
    "ops.beamIntegration('HingeMidpoint', colIntgrTag2, ColSecTag_Fiber2, Lplcol4040, ColSecTag_Fiber2, Lplcol4040, ColElasticSec1)\n",
    "ops.beamIntegration('HingeMidpoint', colIntgrTag3, ColSecTag_Fiber3, Lplcol3535, ColSecTag_Fiber3, Lplcol3535, ColElasticSec2)\n",
    "ops.beamIntegration('HingeMidpoint', colIntgrTag4, ColSecTag_Fiber4, Lplcol3535, ColSecTag_Fiber4, Lplcol3535, ColElasticSec2)\n",
    "ops.beamIntegration('HingeMidpoint', colIntgrTag5, ColSecTag_Fiber5, Lplcol3030, ColSecTag_Fiber5, Lplcol3030, ColElasticSec3)\n",
    "ops.beamIntegration('HingeMidpoint', colIntgrTag6, ColSecTag_Fiber6, Lplcol3030, ColSecTag_Fiber6, Lplcol3030, ColElasticSec3)\n",
    "\n",
    "\n",
    "#Kolonlar için entegrasyon noktaları tanımlamaları\n",
    "\n",
    "#np=6\n",
    "#ops.beamIntegration('Lobatto',colIntgrTag1,ColSecTag_Fiber1,np)\n",
    "#ops.beamIntegration('Lobatto',colIntgrTag2,ColSecTag_Fiber2,np)\n",
    "#ops.beamIntegration('Lobatto',colIntgrTag3,ColSecTag_Fiber3,np)\n",
    "#ops.beamIntegration('Lobatto',colIntgrTag4,ColSecTag_Fiber4,np)\n",
    "#ops.beamIntegration('Lobatto',colIntgrTag5,ColSecTag_Fiber5,np)\n",
    "#ops.beamIntegration('Lobatto',colIntgrTag6,ColSecTag_Fiber6,np)\n"
   ]
  },
  {
   "cell_type": "markdown",
   "metadata": {},
   "source": [
    "### Create Column Elements"
   ]
  },
  {
   "cell_type": "code",
   "execution_count": 109,
   "metadata": {},
   "outputs": [],
   "source": [
    "#element forceBeamColumn $eleTag $iNode $jNode $transfTag \"HingeRadau $secTagI $LpI $secTagJ $LpJ $secTagInterior\" \n",
    "np=5\n",
    "for colId in pf1.column_dict.keys():\n",
    "    jNode = pf1.node_dict[pf1.column_dict[colId][1]][1]\n",
    "    if jNode == 4. or jNode == 7.:\n",
    "        if colId == max(pf1.floorNodes.keys()) or colId == min(pf1.floorNodes.keys()):\n",
    "            ops.element('forceBeamColumn'    , colId , pf1.column_dict[colId][0], pf1.column_dict[colId][1],ColTransfTag,  colIntgrTag1)\n",
    "            #ops.element('nonlinearBeamColumn', colId, pf1.column_dict[colId][0], pf1.column_dict[colId][1], np, ColSecTag_Fiber1,ColTransfTag)\n",
    "        else:\n",
    "            ops.element('forceBeamColumn'    , colId , pf1.column_dict[colId][0], pf1.column_dict[colId][1],ColTransfTag,  colIntgrTag2 )\n",
    "            #ops.element('nonlinearBeamColumn', colId, pf1.column_dict[colId][0], pf1.column_dict[colId][1], np, ColSecTag_Fiber2,ColTransfTag)\n",
    "    if jNode ==10. or jNode == 13. or jNode ==16.:\n",
    "        if colId == max(pf1.floorNodes.keys()) or colId == min(pf1.floorNodes.keys()):\n",
    "            ops.element('forceBeamColumn'    , colId , pf1.column_dict[colId][0], pf1.column_dict[colId][1],ColTransfTag,  colIntgrTag3 )\n",
    "            #ops.element('nonlinearBeamColumn', colId, pf1.column_dict[colId][0], pf1.column_dict[colId][1], np, ColSecTag_Fiber3,ColTransfTag)\n",
    "        else:\n",
    "            ops.element('forceBeamColumn'    , colId , pf1.column_dict[colId][0], pf1.column_dict[colId][1],ColTransfTag,  colIntgrTag4 )\n",
    "            #ops.element('nonlinearBeamColumn', colId, pf1.column_dict[colId][0], pf1.column_dict[colId][1], np, ColSecTag_Fiber4,ColTransfTag)\n",
    "        \n",
    "    if jNode ==19. or jNode ==22. or jNode == 25.:\n",
    "        if colId == max(pf1.floorNodes.keys()) or colId == min(pf1.floorNodes.keys()):\n",
    "            ops.element('forceBeamColumn'    , colId , pf1.column_dict[colId][0], pf1.column_dict[colId][1],ColTransfTag,  colIntgrTag5 )\n",
    "            #ops.element('nonlinearBeamColumn', colId, pf1.column_dict[colId][0], pf1.column_dict[colId][1], np, ColSecTag_Fiber5,ColTransfTag)\n",
    "        \n",
    "        else:\n",
    "            ops.element('forceBeamColumn'    , colId , pf1.column_dict[colId][0], pf1.column_dict[colId][1],ColTransfTag,  colIntgrTag6 )\n",
    "            #ops.element('nonlinearBeamColumn', colId, pf1.column_dict[colId][0], pf1.column_dict[colId][1], np, ColSecTag_Fiber6,ColTransfTag)\n",
    "        "
   ]
  },
  {
   "cell_type": "markdown",
   "metadata": {},
   "source": [
    "### Create Beam Elements"
   ]
  },
  {
   "cell_type": "code",
   "execution_count": 110,
   "metadata": {},
   "outputs": [],
   "source": [
    "for beamId in pf1.beam_dict.keys():\n",
    "    jNode = pf1.beam_dict[beamId][1]\n",
    "    if jNode in pf1.floorNodes[1]:\n",
    "        ops.element('forceBeamColumn',beamId, pf1.beam_dict[beamId][0], pf1.beam_dict[beamId][1],BeamTransfTag,beamIntgrTag1,'-mass', wBeam/Unit.g)\n",
    "        #                                                                                            np, BeamSecTag      ,BeamTransfTag\n",
    "        #ops.element('nonlinearBeamColumn',beamId, pf1.beam_dict[beamId][0], pf1.beam_dict[beamId][1],np,ElBeamSec_Elastic,BeamTransfTag,'-mass', wBeam/Unit.g)\n",
    "        continue\n",
    "    if jNode in pf1.floorNodes[2] or pf1.floorNodes[3] or pf1.floorNodes[4]:\n",
    "        ops.element('forceBeamColumn',beamId, pf1.beam_dict[beamId][0], pf1.beam_dict[beamId][1],BeamTransfTag,beamIntgrTag2,'-mass', wBeam/Unit.g)\n",
    "        #ops.element('nonlinearBeamColumn',beamId, pf1.beam_dict[beamId][0], pf1.beam_dict[beamId][1],np,ElBeamSec_Elastic,BeamTransfTag,'-mass', wBeam/Unit.g)\n",
    "        continue\n",
    "    else:\n",
    "        ops.element('forceBeamColumn',beamId, pf1.beam_dict[beamId][0], pf1.beam_dict[beamId][1],BeamTransfTag,beamIntgrTag3,'-mass', wBeam/Unit.g)\n",
    "        #ops.element('nonlinearBeamColumn',beamId, pf1.beam_dict[beamId][0], pf1.beam_dict[beamId][1],np,ElBeamSec_Elastic,BeamTransfTag,'-mass', wBeam/Unit.g)\n",
    "        continue"
   ]
  },
  {
   "cell_type": "markdown",
   "metadata": {},
   "source": [
    "### Define distribution load on beam"
   ]
  },
  {
   "cell_type": "code",
   "execution_count": 111,
   "metadata": {},
   "outputs": [
    {
     "name": "stdout",
     "output_type": "stream",
     "text": [
      "\n",
      "************************************************************ \n",
      "Extracting the mass matrix, ignore the warnings...\n",
      "Using genBandArpack as solver...\n",
      "Eigenvalue analysis is completed.\n",
      "Modal Periods and Frequencies\n",
      "Mode| T [sec]|    f [Hz]| ω [rad/sec]|λ [rad²/sec²]\n",
      "   1|  1.1171|     0.895|        5.62|       31.64\n",
      "   2|  0.4133|     2.419|       15.20|      231.09\n",
      "   3|  0.2421|     4.131|       25.96|      673.69\n",
      "   4|  0.1778|     5.623|       35.33|     1248.23\n",
      "   5|  0.1350|     7.406|       46.53|     2165.44\n",
      "   6|  0.1162|     8.609|       54.09|     2926.22\n",
      "   7|  0.1089|     9.181|       57.69|     3327.77\n",
      "   8|  0.0940|    10.636|       66.83|     4466.06\n",
      "Total Activated Masses\n",
      "      M₁|      M₂|      M₃\n",
      "  353.03|  353.03|    0.00\n",
      "Modal Mass Participation Factors\n",
      "Mode|     Γ₁|     Γ₂|     Γ₃\n",
      "   1| 16.922|  0.000|  0.000\n",
      "   2| -6.673|  0.000|  0.000\n",
      "   3| -3.855| -0.001|  0.000\n",
      "   4|  2.041| -0.002|  0.000\n",
      "   5|  1.273|  0.005|  0.000\n",
      "   6| -0.722|  0.017|  0.000\n",
      "   7| -0.001|-15.235|  0.000\n",
      "   8|  0.663| -0.001|  0.000\n",
      "Effective Modal Mass Participation Ratios [%]\n",
      "Mode|     U₁|     U₂|     U₃\n",
      "   1| 81.113|  0.000|  0.000\n",
      "   2| 12.613|  0.000|  0.000\n",
      "   3|  4.209|  0.000|  0.000\n",
      "   4|  1.180|  0.000|  0.000\n",
      "   5|  0.459|  0.000|  0.000\n",
      "   6|  0.148|  0.000|  0.000\n",
      "   7|  0.000| 65.749|  0.000\n",
      "   8|  0.125|  0.000|  0.000\n",
      "Cumulative Effective Modal Mass Participation Ratios [%]\n",
      "Mode|    ∑U₁|    ∑U₂|    ∑U₃\n",
      "   1| 81.113|  0.000|  0.000\n",
      "   2| 93.726|  0.000|  0.000\n",
      "   3| 97.935|  0.000|  0.000\n",
      "   4| 99.114|  0.000|  0.000\n",
      "   5| 99.573|  0.000|  0.000\n",
      "   6| 99.721|  0.000|  0.000\n",
      "   7| 99.721| 65.749|  0.000\n",
      "   8| 99.846| 65.749|  0.000\n"
     ]
    },
    {
     "name": "stderr",
     "output_type": "stream",
     "text": [
      "WARNING analysis Transient - no ConstraintHandler yet specified, \n",
      " PlainHandler default will be used\n",
      "WARNING analysis Transient - no Integrator specified, \n",
      " TransientIntegrator default will be used\n",
      "WARNING FullGenLinLapackSolver::solve() -factorization failed, matrix singular U(i,i) = 0, i= 2\n",
      "WARNING Linear::solveCurrentStep() -the LinearSOE failed in solve()\n",
      "DirectIntegrationAnalysis::analyze() - the Algorithm failed at time 0\n",
      "OpenSees > analyze failed, returned: -3 error flag\n"
     ]
    }
   ],
   "source": [
    "# Create a Plain load pattern with a Linear TimeSeries\n",
    "# ------------------------------------------------------------------------\n",
    "ops.timeSeries('Linear', 1)\n",
    "ops.pattern('Plain', 1, 1)\n",
    "for idBeam in pf1.beam_dict.keys():\n",
    "    ops.eleLoad('-ele', idBeam, '-type', '-beamUniform', -wBeam, 0)\n",
    "\n",
    "T, Mratios, Mfactors, Mtots = bd.modal_analys2(8)"
   ]
  },
  {
   "cell_type": "markdown",
   "metadata": {},
   "source": [
    "### Gravity Analysis and Plot Beam"
   ]
  },
  {
   "cell_type": "code",
   "execution_count": 112,
   "metadata": {},
   "outputs": [
    {
     "data": {
      "image/png": "[encoded data removed]",
      "text/plain": [
       "<Figure size 850.394x708.661 with 1 Axes>"
      ]
     },
     "metadata": {
      "needs_background": "light"
     },
     "output_type": "display_data"
    },
    {
     "data": {
      "image/png": "[encoded data removed]",
      "text/plain": [
       "<Figure size 850.394x708.661 with 1 Axes>"
      ]
     },
     "metadata": {
      "needs_background": "light"
     },
     "output_type": "display_data"
    }
   ],
   "source": [
    "#======================================================================================================\n",
    "eleForces_grav, nodalDisps_grav, BaseReactions_grav,eleSection_grav = bd.do_gravity()\n",
    "ms.plot_model()\n",
    "#del eleForces_grav, nodalDisps_grav, BaseReactions_grav,eleSection_grav "
   ]
  },
  {
   "cell_type": "markdown",
   "metadata": {},
   "source": [
    "#Set lateral load pattern with a Linear TimeSeries\n",
    "ops.pattern('Plain', 2, 1)\n",
    "for key in pf1.floorNodes.keys():\n",
    "    if key != 0 or key!=5:\n",
    "        for node in pf1.floorNodes[key]:\n",
    "            ops.load(node, 1, 0.0, 0.0)\n",
    "    else:\n",
    "        for node in pf1.floorNodes[key]:\n",
    "            ops.load(node, 2, 0.0, 0.0)"
   ]
  },
  {
   "cell_type": "markdown",
   "metadata": {},
   "source": [
    "LoadFactor, DispCtrlNode=bd.do_nspa(dmax=4, ctrlNode=36, ctrlDOF=1, nSteps=500,tol = 0.02,iterMax = 300,pFlag = 0,nType = 2)\n",
    "ms.capacityCurve(DispCtrlNode,LoadFactor)"
   ]
  },
  {
   "cell_type": "markdown",
   "metadata": {},
   "source": [
    "### Create TimeSeries"
   ]
  },
  {
   "cell_type": "code",
   "execution_count": 113,
   "metadata": {
    "scrolled": true,
    "tags": []
   },
   "outputs": [
    {
     "name": "stdout",
     "output_type": "stream",
     "text": [
      "Fundamental period, T = 1.3556400023616342 sec\n",
      " mass damping coefficient 0.4553 stiffness damping coefficient 0.0004 betaKcurr = 0.0 betaKinit = 0.0\n"
     ]
    },
    {
     "data": {
      "image/png": "[encoded data removed]",
      "text/plain": [
       "<Figure size 1440x720 with 1 Axes>"
      ]
     },
     "metadata": {
      "needs_background": "light"
     },
     "output_type": "display_data"
    },
    {
     "data": {
      "image/png": "[encoded data removed]",
      "text/plain": [
       "<Figure size 1440x720 with 1 Axes>"
      ]
     },
     "metadata": {
      "needs_background": "light"
     },
     "output_type": "display_data"
    }
   ],
   "source": [
    "#===========================================================================================================================================\n",
    "bd.rayleigh(numMode=8,xDamp = 0.05,betaKcurr = 0.0,betaKinit = 0.0)\n",
    "#===========================================================================================================================================\n",
    "eventname=\"Earthquakes/Coalinga\"\n",
    "eventlist = [i for i in os.listdir(f\"./{eventname}\") if i.endswith('.AT2')] #verilen deprem kayıtlarının bulunduğu klasördeki .AT2 uzantılı dosyaların listelenmesi\n",
    "filePath = f\"./{eventname}/{eventlist[0]}\"\n",
    "filePath2 = f\"./{eventname}/{eventlist[1]}\"\n",
    "\n",
    "timegap = rmd.calc_timegap(60,0.05,1.48)\n",
    "time,acceleration,npts,dt     = rmd.ReadRecord(filePath,timegap,g=9.81,plot=1)\n",
    "time2,acceleration2,npts2,dt2 = rmd.ReadRecord(filePath2,timegap,g=9.81,plot=1)\n",
    "del acceleration,acceleration2,npts,npts2,time,time2,timegap\n",
    "#============================================================================================================================================\n",
    "\n",
    "GMFile =\"./Earthquakes/Coalinga/RSN406.acc\"\n",
    "#*0.2729\n",
    "GMdirection=1\n",
    "GMfact=1\n",
    "tsTag=3\n",
    "IDloadTag=400\n",
    "GMfatt = Unit.g\n",
    "#ops.timeSeries('Path', tsTag, '-dt', dt, '-values', *acceleration, '-factor', GMfatt) # time series object\n",
    "#ops.pattern('UniformExcitation', IDloadTag,GMdirection, '-accel', tsTag)# pattern object\n",
    "ops.timeSeries('Path', tsTag, '-dt', dt, '-filePath', GMFile, '-factor', GMfatt) # time series object\n",
    "ops.pattern('UniformExcitation', IDloadTag,GMdirection, '-accel', tsTag,'-factor',GMfact)# pattern object"
   ]
  },
  {
   "cell_type": "markdown",
   "metadata": {},
   "source": [
    "## Run Analysis"
   ]
  },
  {
   "cell_type": "markdown",
   "metadata": {},
   "source": [
    "### Run Time History Anaysis"
   ]
  },
  {
   "cell_type": "code",
   "execution_count": 114,
   "metadata": {},
   "outputs": [],
   "source": [
    "DtAnalysis   = dt\n",
    "TmaxAnalysis = 5"
   ]
  },
  {
   "cell_type": "code",
   "execution_count": 115,
   "metadata": {},
   "outputs": [
    {
     "data": {
      "image/png": "[encoded data removed]",
      "text/plain": [
       "<Figure size 1800x720 with 1 Axes>"
      ]
     },
     "metadata": {
      "needs_background": "light"
     },
     "output_type": "display_data"
    }
   ],
   "source": [
    "ops.wipeAnalysis()\n",
    "\n",
    "bd.analysis_define(solver=0,Tol=1e-8,maxNumIter=300,pFlag=0,nType=2)\n",
    "top_nodal_disp,eleForces,times,sectionStrainStress,Eds,sectionOutput,nodalOutput,fiberData =bd.run_timehistory( DtAnalysis   =DtAnalysis,\n",
    "                                                                                                      TmaxAnalysis =TmaxAnalysis,\n",
    "                                                                                                      outEleForces =False,\n",
    "                                                                                                      outNodalDisp =True,\n",
    "                                                                                                      outFiber     =[True, 0.30, cover, IDconcCover, IDconcCore, IDSteel,Lplcol3030],\n",
    "                                                                                                      animotions   =False,\n",
    "                                                                                                      outSection   =True)\n",
    "ms.top_disp_plot(top_nodal_disp,times,dt)\n",
    "#del confined,Mratios,Mtots,Mfactors,T,unconfined,Eds,eleForces"
   ]
  },
  {
   "cell_type": "code",
   "execution_count": 116,
   "metadata": {},
   "outputs": [
    {
     "name": "stdout",
     "output_type": "stream",
     "text": [
      "\n",
      "************************************************************ \n",
      "Extracting the mass matrix, ignore the warnings...\n",
      "Using genBandArpack as solver...\n",
      "Eigenvalue analysis is completed.\n",
      "Modal Periods and Frequencies\n",
      "Mode| T [sec]|    f [Hz]| ω [rad/sec]|λ [rad²/sec²]\n",
      "   1|  1.2001|     0.833|        5.24|       27.41\n",
      "   2|  0.4489|     2.228|       14.00|      195.91\n",
      "   3|  0.2636|     3.794|       23.84|      568.34\n",
      "Total Activated Masses\n",
      "      M₁|      M₂|      M₃\n",
      "  353.03|  353.03|    0.00\n",
      "Modal Mass Participation Factors\n",
      "Mode|     Γ₁|     Γ₂|     Γ₃\n",
      "   1| 16.918| -0.078|  0.000\n",
      "   2|  6.715| -0.017|  0.000\n",
      "   3| -3.855| -0.077|  0.000\n",
      "Effective Modal Mass Participation Ratios [%]\n",
      "Mode|     U₁|     U₂|     U₃\n",
      "   1| 81.073|  0.002|  0.000\n",
      "   2| 12.774|  0.000|  0.000\n",
      "   3|  4.209|  0.002|  0.000\n",
      "Cumulative Effective Modal Mass Participation Ratios [%]\n",
      "Mode|    ∑U₁|    ∑U₂|    ∑U₃\n",
      "   1| 81.073|  0.002|  0.000\n",
      "   2| 93.847|  0.002|  0.000\n",
      "   3| 98.057|  0.004|  0.000\n"
     ]
    },
    {
     "name": "stderr",
     "output_type": "stream",
     "text": [
      "WARNING FullGenLinLapackSolver::solve() -factorization failed, matrix singular U(i,i) = 0, i= 2\n",
      "WARNING Linear::solveCurrentStep() -the LinearSOE failed in solve()\n",
      "DirectIntegrationAnalysis::analyze() - the Algorithm failed at time 5.005\n",
      "OpenSees > analyze failed, returned: -3 error flag\n"
     ]
    }
   ],
   "source": [
    "T1, Mratios, Mfactors, Mtots = bd.modal_analys2(3)                                                                   \n",
    "ops.loadConst('-time', 0.0)"
   ]
  },
  {
   "cell_type": "markdown",
   "metadata": {},
   "source": [
    "## Check Results"
   ]
  },
  {
   "cell_type": "markdown",
   "metadata": {},
   "source": [
    "### Story Drift Check"
   ]
  },
  {
   "cell_type": "code",
   "execution_count": 117,
   "metadata": {},
   "outputs": [],
   "source": [
    "fmp = fm(columndict=pf1.column_dict,nodalOutput=nodalOutput)"
   ]
  },
  {
   "cell_type": "code",
   "execution_count": 118,
   "metadata": {},
   "outputs": [
    {
     "data": {
      "text/html": [
       "<div>\n",
       "<style scoped>\n",
       "    .dataframe tbody tr th:only-of-type {\n",
       "        vertical-align: middle;\n",
       "    }\n",
       "\n",
       "    .dataframe tbody tr th {\n",
       "        vertical-align: top;\n",
       "    }\n",
       "\n",
       "    .dataframe thead th {\n",
       "        text-align: right;\n",
       "    }\n",
       "</style>\n",
       "<table border=\"1\" class=\"dataframe\">\n",
       "  <thead>\n",
       "    <tr style=\"text-align: right;\">\n",
       "      <th></th>\n",
       "      <th>xDrift</th>\n",
       "      <th>yDrift</th>\n",
       "      <th>xDriftmax</th>\n",
       "      <th>yDriftmax</th>\n",
       "      <th>Length</th>\n",
       "      <th>xStoryDrift</th>\n",
       "      <th>xStoryDriftCheck</th>\n",
       "      <th>yStoryDrift</th>\n",
       "      <th>yStoryDriftCheck</th>\n",
       "    </tr>\n",
       "  </thead>\n",
       "  <tbody>\n",
       "    <tr>\n",
       "      <th>1</th>\n",
       "      <td>[-1.6012599330069746e-05, -1.6132393883695344e...</td>\n",
       "      <td>[-0.00037935531419899717, -0.00037935561049621...</td>\n",
       "      <td>0.012014</td>\n",
       "      <td>0.000155</td>\n",
       "      <td>4.0</td>\n",
       "      <td>0.003003</td>\n",
       "      <td>0.003 &lt; 0.008 ✓</td>\n",
       "      <td>0.000039</td>\n",
       "      <td>4e-05 &lt; 0.008 ✓</td>\n",
       "    </tr>\n",
       "    <tr>\n",
       "      <th>2</th>\n",
       "      <td>[2.2300660271960418e-05, 2.2298339652894246e-0...</td>\n",
       "      <td>[-0.0002489732335585286, -0.000248973116426009...</td>\n",
       "      <td>0.008072</td>\n",
       "      <td>0.000135</td>\n",
       "      <td>3.0</td>\n",
       "      <td>0.002691</td>\n",
       "      <td>0.00269 &lt; 0.008 ✓</td>\n",
       "      <td>0.000045</td>\n",
       "      <td>4e-05 &lt; 0.008 ✓</td>\n",
       "    </tr>\n",
       "  </tbody>\n",
       "</table>\n",
       "</div>"
      ],
      "text/plain": [
       "                                              xDrift  ... yStoryDriftCheck\n",
       "1  [-1.6012599330069746e-05, -1.6132393883695344e...  ...  4e-05 < 0.008 ✓\n",
       "2  [2.2300660271960418e-05, 2.2298339652894246e-0...  ...  4e-05 < 0.008 ✓\n",
       "\n",
       "[2 rows x 9 columns]"
      ]
     },
     "execution_count": 118,
     "metadata": {},
     "output_type": "execute_result"
    }
   ],
   "source": [
    "fmp.drift.head(2)"
   ]
  },
  {
   "cell_type": "code",
   "execution_count": 119,
   "metadata": {},
   "outputs": [
    {
     "data": {
      "text/html": [
       "<div>\n",
       "<style scoped>\n",
       "    .dataframe tbody tr th:only-of-type {\n",
       "        vertical-align: middle;\n",
       "    }\n",
       "\n",
       "    .dataframe tbody tr th {\n",
       "        vertical-align: top;\n",
       "    }\n",
       "\n",
       "    .dataframe thead th {\n",
       "        text-align: right;\n",
       "    }\n",
       "</style>\n",
       "<table border=\"1\" class=\"dataframe\">\n",
       "  <thead>\n",
       "    <tr style=\"text-align: right;\">\n",
       "      <th></th>\n",
       "      <th>EleId</th>\n",
       "      <th>EleType</th>\n",
       "      <th>Floor</th>\n",
       "    </tr>\n",
       "  </thead>\n",
       "  <tbody>\n",
       "    <tr>\n",
       "      <th>1</th>\n",
       "      <td>1</td>\n",
       "      <td>Column</td>\n",
       "      <td>1</td>\n",
       "    </tr>\n",
       "    <tr>\n",
       "      <th>9</th>\n",
       "      <td>9</td>\n",
       "      <td>Column</td>\n",
       "      <td>1</td>\n",
       "    </tr>\n",
       "    <tr>\n",
       "      <th>17</th>\n",
       "      <td>17</td>\n",
       "      <td>Column</td>\n",
       "      <td>1</td>\n",
       "    </tr>\n",
       "    <tr>\n",
       "      <th>25</th>\n",
       "      <td>25</td>\n",
       "      <td>Column</td>\n",
       "      <td>1</td>\n",
       "    </tr>\n",
       "  </tbody>\n",
       "</table>\n",
       "</div>"
      ],
      "text/plain": [
       "    EleId EleType  Floor\n",
       "1       1  Column      1\n",
       "9       9  Column      1\n",
       "17     17  Column      1\n",
       "25     25  Column      1"
      ]
     },
     "execution_count": 119,
     "metadata": {},
     "output_type": "execute_result"
    }
   ],
   "source": [
    "pf1.floorFrames[(pf1.floorFrames.EleType == \"Column\")&(pf1.floorFrames.Floor == 1)]"
   ]
  },
  {
   "cell_type": "markdown",
   "metadata": {},
   "source": [
    "### Sections Perform Level TBDY 2018"
   ]
  },
  {
   "cell_type": "code",
   "execution_count": 120,
   "metadata": {},
   "outputs": [
    {
     "data": {
      "image/png": "[encoded data removed]",
      "text/plain": [
       "<Figure size 432x288 with 1 Axes>"
      ]
     },
     "metadata": {
      "needs_background": "light"
     },
     "output_type": "display_data"
    }
   ],
   "source": [
    "Moment    = [0,96.2304 ,145.4056 ,152.8694 ,152.4919 ,151.8506,146.237  ,141.9567 ,140.3721 ,113.1239 ,111.1968 ,110.0526 ,109.3373 ,108.8713 ,108.5569 ,108.3384 ,108.1826,108.069]\n",
    "Curvature = [0,7.33E-06,1.832E-05,3.298E-05,5.131E-05,7.33E-05,9.895E-05,1.283E-04,1.613E-04,1.979E-04,2.382E-04,2.822E-04,3.298E-04,3.811E-04,4.361E-04,4.948E-04,0.001   ,0.001  ]\n",
    "plt.plot(Curvature,Moment)\n",
    "plt.plot( [0.001041320000000002,0.001, ],[108.069, 223.4056],)\n",
    "from scipy import integrate as intg\n",
    "alan = round(intg.trapezoid(Moment,Curvature),4)\n",
    "a = intg.cumtrapz(Moment,Curvature)\n",
    "#plt.plot(a)\n",
    "alan,a\n",
    "\n",
    "def idealization_area(node1,node2):\n",
    "    b = node1[0]-0.\n",
    "    h = node1[1]-0.\n",
    "    b2 = node2[0]-node1[0]\n",
    "    h2 = node2[1]-node1[1]\n",
    "    area1 = b*h/2\n",
    "    area2 = ((h+h2)/2)*b2\n",
    "    area = area1+area2\n",
    "    return area\n",
    "\n",
    "def iter_area(node1,node2):\n",
    "    real_area  = intg.trapezoid(Moment,Curvature)\n",
    "    ideal_area = idealization_area(node1,node2)\n",
    "    error = 1-(ideal_area/real_area)\n",
    "    if error <= 0.01:\n",
    "        return [node1,node2]\n",
    "    else:\n",
    "        while error <= 0.01:\n",
    "            node1[0] = node1[0] + 1\n",
    "            node1[1] = node1[1] + 1.0E-05\n",
    "            ideal_area = idealization_area(node1,node2)\n",
    "            error = 1-(ideal_area/real_area)\n",
    "            if error <= 0.01:\n",
    "                return [node1,node2]\n",
    "            else:\n",
    "                if node1[0] == node2[0]/2 or node1[1] == node2[1]*1.5:\n",
    "                    return(\"Bulunamadı\")\n",
    "                continue\n",
    "    return error\n",
    "node1 = [1.132E-05,120.4056]\n",
    "node2 = [0.001,108.069]\n",
    "        \n",
    "\n",
    "        \n",
    "    "
   ]
  },
  {
   "cell_type": "code",
   "execution_count": 121,
   "metadata": {},
   "outputs": [],
   "source": [
    "prf = pf(eps_su = 0.08,h=HCol1*10**3,bw=BCol1*10**3,\n",
    "         s=150,f_sy=500,f_co=fc/Unit.MPa,\n",
    "                                                pas_payı=pas_payı,etriye_çapı=10,boyuna_donatı_çapı=bardiameterexteriorcol,\n",
    "                                                numBarsTop=baslık_donatı_top,numBarsBot=baslık_donatı_bot,gövde_donatı_adeti=gövde_donatı_adeti,\n",
    "                                                x_koladeti=x_koladeti,y_koladeti=y_koladeti,\n",
    "                                                ultimate_curvature=0.01,yield_curvature=0.002,Lp=Lpl1,Ls=Lpl1)"
   ]
  },
  {
   "cell_type": "code",
   "execution_count": 122,
   "metadata": {},
   "outputs": [
    {
     "data": {
      "text/plain": [
       "([0.032, 0.024, 0.0075],\n",
       " [0.01288863192205295, 0.009666473941539713, 0.0025],\n",
       " [0.000801296, 0.000600972, 0])"
      ]
     },
     "execution_count": 122,
     "metadata": {},
     "output_type": "execute_result"
    }
   ],
   "source": [
    "prf.steelstrain_Perform_Level,prf.concstrain_Perform_Level,prf.rotation_Perform_Level"
   ]
  },
  {
   "cell_type": "code",
   "execution_count": 123,
   "metadata": {},
   "outputs": [
    {
     "name": "stdout",
     "output_type": "stream",
     "text": [
      "0.032 0.01288863192205295 0.000801296\n",
      "0.024 0.009666473941539713 0.000600972\n",
      "0.0075 0.0025 0\n"
     ]
    },
    {
     "data": {
      "text/html": [
       "<div>\n",
       "<style scoped>\n",
       "    .dataframe tbody tr th:only-of-type {\n",
       "        vertical-align: middle;\n",
       "    }\n",
       "\n",
       "    .dataframe tbody tr th {\n",
       "        vertical-align: top;\n",
       "    }\n",
       "\n",
       "    .dataframe thead th {\n",
       "        text-align: right;\n",
       "    }\n",
       "</style>\n",
       "<table border=\"1\" class=\"dataframe\">\n",
       "  <thead>\n",
       "    <tr style=\"text-align: right;\">\n",
       "      <th></th>\n",
       "      <th>EleId</th>\n",
       "      <th>eps_CP</th>\n",
       "      <th>eps_LS</th>\n",
       "      <th>eps_IO</th>\n",
       "      <th>epc_CP</th>\n",
       "      <th>epc_LS</th>\n",
       "      <th>epc_IO</th>\n",
       "      <th>rot_CP</th>\n",
       "      <th>rot_LS</th>\n",
       "      <th>rot_IO</th>\n",
       "    </tr>\n",
       "  </thead>\n",
       "  <tbody>\n",
       "    <tr>\n",
       "      <th>1</th>\n",
       "      <td>NaN</td>\n",
       "      <td>NaN</td>\n",
       "      <td>NaN</td>\n",
       "      <td>NaN</td>\n",
       "      <td>NaN</td>\n",
       "      <td>NaN</td>\n",
       "      <td>NaN</td>\n",
       "      <td>NaN</td>\n",
       "      <td>NaN</td>\n",
       "      <td>NaN</td>\n",
       "    </tr>\n",
       "    <tr>\n",
       "      <th>2</th>\n",
       "      <td>NaN</td>\n",
       "      <td>NaN</td>\n",
       "      <td>NaN</td>\n",
       "      <td>NaN</td>\n",
       "      <td>NaN</td>\n",
       "      <td>NaN</td>\n",
       "      <td>NaN</td>\n",
       "      <td>NaN</td>\n",
       "      <td>NaN</td>\n",
       "      <td>NaN</td>\n",
       "    </tr>\n",
       "    <tr>\n",
       "      <th>3</th>\n",
       "      <td>NaN</td>\n",
       "      <td>NaN</td>\n",
       "      <td>NaN</td>\n",
       "      <td>NaN</td>\n",
       "      <td>NaN</td>\n",
       "      <td>NaN</td>\n",
       "      <td>NaN</td>\n",
       "      <td>NaN</td>\n",
       "      <td>NaN</td>\n",
       "      <td>NaN</td>\n",
       "    </tr>\n",
       "    <tr>\n",
       "      <th>4</th>\n",
       "      <td>NaN</td>\n",
       "      <td>NaN</td>\n",
       "      <td>NaN</td>\n",
       "      <td>NaN</td>\n",
       "      <td>NaN</td>\n",
       "      <td>NaN</td>\n",
       "      <td>NaN</td>\n",
       "      <td>NaN</td>\n",
       "      <td>NaN</td>\n",
       "      <td>NaN</td>\n",
       "    </tr>\n",
       "    <tr>\n",
       "      <th>5</th>\n",
       "      <td>NaN</td>\n",
       "      <td>NaN</td>\n",
       "      <td>NaN</td>\n",
       "      <td>NaN</td>\n",
       "      <td>NaN</td>\n",
       "      <td>NaN</td>\n",
       "      <td>NaN</td>\n",
       "      <td>NaN</td>\n",
       "      <td>NaN</td>\n",
       "      <td>NaN</td>\n",
       "    </tr>\n",
       "    <tr>\n",
       "      <th>6</th>\n",
       "      <td>NaN</td>\n",
       "      <td>NaN</td>\n",
       "      <td>NaN</td>\n",
       "      <td>NaN</td>\n",
       "      <td>NaN</td>\n",
       "      <td>NaN</td>\n",
       "      <td>NaN</td>\n",
       "      <td>NaN</td>\n",
       "      <td>NaN</td>\n",
       "      <td>NaN</td>\n",
       "    </tr>\n",
       "    <tr>\n",
       "      <th>7</th>\n",
       "      <td>NaN</td>\n",
       "      <td>NaN</td>\n",
       "      <td>NaN</td>\n",
       "      <td>NaN</td>\n",
       "      <td>NaN</td>\n",
       "      <td>NaN</td>\n",
       "      <td>NaN</td>\n",
       "      <td>NaN</td>\n",
       "      <td>NaN</td>\n",
       "      <td>NaN</td>\n",
       "    </tr>\n",
       "    <tr>\n",
       "      <th>8</th>\n",
       "      <td>NaN</td>\n",
       "      <td>NaN</td>\n",
       "      <td>NaN</td>\n",
       "      <td>NaN</td>\n",
       "      <td>NaN</td>\n",
       "      <td>NaN</td>\n",
       "      <td>NaN</td>\n",
       "      <td>NaN</td>\n",
       "      <td>NaN</td>\n",
       "      <td>NaN</td>\n",
       "    </tr>\n",
       "    <tr>\n",
       "      <th>9</th>\n",
       "      <td>NaN</td>\n",
       "      <td>NaN</td>\n",
       "      <td>NaN</td>\n",
       "      <td>NaN</td>\n",
       "      <td>NaN</td>\n",
       "      <td>NaN</td>\n",
       "      <td>NaN</td>\n",
       "      <td>NaN</td>\n",
       "      <td>NaN</td>\n",
       "      <td>NaN</td>\n",
       "    </tr>\n",
       "    <tr>\n",
       "      <th>10</th>\n",
       "      <td>NaN</td>\n",
       "      <td>NaN</td>\n",
       "      <td>NaN</td>\n",
       "      <td>NaN</td>\n",
       "      <td>NaN</td>\n",
       "      <td>NaN</td>\n",
       "      <td>NaN</td>\n",
       "      <td>NaN</td>\n",
       "      <td>NaN</td>\n",
       "      <td>NaN</td>\n",
       "    </tr>\n",
       "    <tr>\n",
       "      <th>11</th>\n",
       "      <td>NaN</td>\n",
       "      <td>NaN</td>\n",
       "      <td>NaN</td>\n",
       "      <td>NaN</td>\n",
       "      <td>NaN</td>\n",
       "      <td>NaN</td>\n",
       "      <td>NaN</td>\n",
       "      <td>NaN</td>\n",
       "      <td>NaN</td>\n",
       "      <td>NaN</td>\n",
       "    </tr>\n",
       "    <tr>\n",
       "      <th>12</th>\n",
       "      <td>NaN</td>\n",
       "      <td>NaN</td>\n",
       "      <td>NaN</td>\n",
       "      <td>NaN</td>\n",
       "      <td>NaN</td>\n",
       "      <td>NaN</td>\n",
       "      <td>NaN</td>\n",
       "      <td>NaN</td>\n",
       "      <td>NaN</td>\n",
       "      <td>NaN</td>\n",
       "    </tr>\n",
       "    <tr>\n",
       "      <th>13</th>\n",
       "      <td>NaN</td>\n",
       "      <td>NaN</td>\n",
       "      <td>NaN</td>\n",
       "      <td>NaN</td>\n",
       "      <td>NaN</td>\n",
       "      <td>NaN</td>\n",
       "      <td>NaN</td>\n",
       "      <td>NaN</td>\n",
       "      <td>NaN</td>\n",
       "      <td>NaN</td>\n",
       "    </tr>\n",
       "    <tr>\n",
       "      <th>14</th>\n",
       "      <td>NaN</td>\n",
       "      <td>NaN</td>\n",
       "      <td>NaN</td>\n",
       "      <td>NaN</td>\n",
       "      <td>NaN</td>\n",
       "      <td>NaN</td>\n",
       "      <td>NaN</td>\n",
       "      <td>NaN</td>\n",
       "      <td>NaN</td>\n",
       "      <td>NaN</td>\n",
       "    </tr>\n",
       "    <tr>\n",
       "      <th>15</th>\n",
       "      <td>NaN</td>\n",
       "      <td>NaN</td>\n",
       "      <td>NaN</td>\n",
       "      <td>NaN</td>\n",
       "      <td>NaN</td>\n",
       "      <td>NaN</td>\n",
       "      <td>NaN</td>\n",
       "      <td>NaN</td>\n",
       "      <td>NaN</td>\n",
       "      <td>NaN</td>\n",
       "    </tr>\n",
       "    <tr>\n",
       "      <th>16</th>\n",
       "      <td>NaN</td>\n",
       "      <td>NaN</td>\n",
       "      <td>NaN</td>\n",
       "      <td>NaN</td>\n",
       "      <td>NaN</td>\n",
       "      <td>NaN</td>\n",
       "      <td>NaN</td>\n",
       "      <td>NaN</td>\n",
       "      <td>NaN</td>\n",
       "      <td>NaN</td>\n",
       "    </tr>\n",
       "    <tr>\n",
       "      <th>17</th>\n",
       "      <td>NaN</td>\n",
       "      <td>NaN</td>\n",
       "      <td>NaN</td>\n",
       "      <td>NaN</td>\n",
       "      <td>NaN</td>\n",
       "      <td>NaN</td>\n",
       "      <td>NaN</td>\n",
       "      <td>NaN</td>\n",
       "      <td>NaN</td>\n",
       "      <td>NaN</td>\n",
       "    </tr>\n",
       "    <tr>\n",
       "      <th>18</th>\n",
       "      <td>NaN</td>\n",
       "      <td>NaN</td>\n",
       "      <td>NaN</td>\n",
       "      <td>NaN</td>\n",
       "      <td>NaN</td>\n",
       "      <td>NaN</td>\n",
       "      <td>NaN</td>\n",
       "      <td>NaN</td>\n",
       "      <td>NaN</td>\n",
       "      <td>NaN</td>\n",
       "    </tr>\n",
       "    <tr>\n",
       "      <th>19</th>\n",
       "      <td>NaN</td>\n",
       "      <td>NaN</td>\n",
       "      <td>NaN</td>\n",
       "      <td>NaN</td>\n",
       "      <td>NaN</td>\n",
       "      <td>NaN</td>\n",
       "      <td>NaN</td>\n",
       "      <td>NaN</td>\n",
       "      <td>NaN</td>\n",
       "      <td>NaN</td>\n",
       "    </tr>\n",
       "    <tr>\n",
       "      <th>20</th>\n",
       "      <td>NaN</td>\n",
       "      <td>NaN</td>\n",
       "      <td>NaN</td>\n",
       "      <td>NaN</td>\n",
       "      <td>NaN</td>\n",
       "      <td>NaN</td>\n",
       "      <td>NaN</td>\n",
       "      <td>NaN</td>\n",
       "      <td>NaN</td>\n",
       "      <td>NaN</td>\n",
       "    </tr>\n",
       "    <tr>\n",
       "      <th>21</th>\n",
       "      <td>NaN</td>\n",
       "      <td>NaN</td>\n",
       "      <td>NaN</td>\n",
       "      <td>NaN</td>\n",
       "      <td>NaN</td>\n",
       "      <td>NaN</td>\n",
       "      <td>NaN</td>\n",
       "      <td>NaN</td>\n",
       "      <td>NaN</td>\n",
       "      <td>NaN</td>\n",
       "    </tr>\n",
       "    <tr>\n",
       "      <th>22</th>\n",
       "      <td>NaN</td>\n",
       "      <td>NaN</td>\n",
       "      <td>NaN</td>\n",
       "      <td>NaN</td>\n",
       "      <td>NaN</td>\n",
       "      <td>NaN</td>\n",
       "      <td>NaN</td>\n",
       "      <td>NaN</td>\n",
       "      <td>NaN</td>\n",
       "      <td>NaN</td>\n",
       "    </tr>\n",
       "    <tr>\n",
       "      <th>23</th>\n",
       "      <td>NaN</td>\n",
       "      <td>NaN</td>\n",
       "      <td>NaN</td>\n",
       "      <td>NaN</td>\n",
       "      <td>NaN</td>\n",
       "      <td>NaN</td>\n",
       "      <td>NaN</td>\n",
       "      <td>NaN</td>\n",
       "      <td>NaN</td>\n",
       "      <td>NaN</td>\n",
       "    </tr>\n",
       "    <tr>\n",
       "      <th>24</th>\n",
       "      <td>NaN</td>\n",
       "      <td>NaN</td>\n",
       "      <td>NaN</td>\n",
       "      <td>NaN</td>\n",
       "      <td>NaN</td>\n",
       "      <td>NaN</td>\n",
       "      <td>NaN</td>\n",
       "      <td>NaN</td>\n",
       "      <td>NaN</td>\n",
       "      <td>NaN</td>\n",
       "    </tr>\n",
       "    <tr>\n",
       "      <th>25</th>\n",
       "      <td>NaN</td>\n",
       "      <td>NaN</td>\n",
       "      <td>NaN</td>\n",
       "      <td>NaN</td>\n",
       "      <td>NaN</td>\n",
       "      <td>NaN</td>\n",
       "      <td>NaN</td>\n",
       "      <td>NaN</td>\n",
       "      <td>NaN</td>\n",
       "      <td>NaN</td>\n",
       "    </tr>\n",
       "    <tr>\n",
       "      <th>26</th>\n",
       "      <td>NaN</td>\n",
       "      <td>NaN</td>\n",
       "      <td>NaN</td>\n",
       "      <td>NaN</td>\n",
       "      <td>NaN</td>\n",
       "      <td>NaN</td>\n",
       "      <td>NaN</td>\n",
       "      <td>NaN</td>\n",
       "      <td>NaN</td>\n",
       "      <td>NaN</td>\n",
       "    </tr>\n",
       "    <tr>\n",
       "      <th>27</th>\n",
       "      <td>NaN</td>\n",
       "      <td>NaN</td>\n",
       "      <td>NaN</td>\n",
       "      <td>NaN</td>\n",
       "      <td>NaN</td>\n",
       "      <td>NaN</td>\n",
       "      <td>NaN</td>\n",
       "      <td>NaN</td>\n",
       "      <td>NaN</td>\n",
       "      <td>NaN</td>\n",
       "    </tr>\n",
       "    <tr>\n",
       "      <th>28</th>\n",
       "      <td>NaN</td>\n",
       "      <td>NaN</td>\n",
       "      <td>NaN</td>\n",
       "      <td>NaN</td>\n",
       "      <td>NaN</td>\n",
       "      <td>NaN</td>\n",
       "      <td>NaN</td>\n",
       "      <td>NaN</td>\n",
       "      <td>NaN</td>\n",
       "      <td>NaN</td>\n",
       "    </tr>\n",
       "    <tr>\n",
       "      <th>29</th>\n",
       "      <td>NaN</td>\n",
       "      <td>NaN</td>\n",
       "      <td>NaN</td>\n",
       "      <td>NaN</td>\n",
       "      <td>NaN</td>\n",
       "      <td>NaN</td>\n",
       "      <td>NaN</td>\n",
       "      <td>NaN</td>\n",
       "      <td>NaN</td>\n",
       "      <td>NaN</td>\n",
       "    </tr>\n",
       "    <tr>\n",
       "      <th>30</th>\n",
       "      <td>NaN</td>\n",
       "      <td>NaN</td>\n",
       "      <td>NaN</td>\n",
       "      <td>NaN</td>\n",
       "      <td>NaN</td>\n",
       "      <td>NaN</td>\n",
       "      <td>NaN</td>\n",
       "      <td>NaN</td>\n",
       "      <td>NaN</td>\n",
       "      <td>NaN</td>\n",
       "    </tr>\n",
       "    <tr>\n",
       "      <th>31</th>\n",
       "      <td>NaN</td>\n",
       "      <td>NaN</td>\n",
       "      <td>NaN</td>\n",
       "      <td>NaN</td>\n",
       "      <td>NaN</td>\n",
       "      <td>NaN</td>\n",
       "      <td>NaN</td>\n",
       "      <td>NaN</td>\n",
       "      <td>NaN</td>\n",
       "      <td>NaN</td>\n",
       "    </tr>\n",
       "    <tr>\n",
       "      <th>32</th>\n",
       "      <td>NaN</td>\n",
       "      <td>NaN</td>\n",
       "      <td>NaN</td>\n",
       "      <td>NaN</td>\n",
       "      <td>NaN</td>\n",
       "      <td>NaN</td>\n",
       "      <td>NaN</td>\n",
       "      <td>NaN</td>\n",
       "      <td>NaN</td>\n",
       "      <td>NaN</td>\n",
       "    </tr>\n",
       "    <tr>\n",
       "      <th>33</th>\n",
       "      <td>NaN</td>\n",
       "      <td>NaN</td>\n",
       "      <td>NaN</td>\n",
       "      <td>NaN</td>\n",
       "      <td>NaN</td>\n",
       "      <td>NaN</td>\n",
       "      <td>NaN</td>\n",
       "      <td>NaN</td>\n",
       "      <td>NaN</td>\n",
       "      <td>NaN</td>\n",
       "    </tr>\n",
       "    <tr>\n",
       "      <th>34</th>\n",
       "      <td>NaN</td>\n",
       "      <td>NaN</td>\n",
       "      <td>NaN</td>\n",
       "      <td>NaN</td>\n",
       "      <td>NaN</td>\n",
       "      <td>NaN</td>\n",
       "      <td>NaN</td>\n",
       "      <td>NaN</td>\n",
       "      <td>NaN</td>\n",
       "      <td>NaN</td>\n",
       "    </tr>\n",
       "    <tr>\n",
       "      <th>35</th>\n",
       "      <td>NaN</td>\n",
       "      <td>NaN</td>\n",
       "      <td>NaN</td>\n",
       "      <td>NaN</td>\n",
       "      <td>NaN</td>\n",
       "      <td>NaN</td>\n",
       "      <td>NaN</td>\n",
       "      <td>NaN</td>\n",
       "      <td>NaN</td>\n",
       "      <td>NaN</td>\n",
       "    </tr>\n",
       "    <tr>\n",
       "      <th>36</th>\n",
       "      <td>NaN</td>\n",
       "      <td>NaN</td>\n",
       "      <td>NaN</td>\n",
       "      <td>NaN</td>\n",
       "      <td>NaN</td>\n",
       "      <td>NaN</td>\n",
       "      <td>NaN</td>\n",
       "      <td>NaN</td>\n",
       "      <td>NaN</td>\n",
       "      <td>NaN</td>\n",
       "    </tr>\n",
       "    <tr>\n",
       "      <th>37</th>\n",
       "      <td>NaN</td>\n",
       "      <td>NaN</td>\n",
       "      <td>NaN</td>\n",
       "      <td>NaN</td>\n",
       "      <td>NaN</td>\n",
       "      <td>NaN</td>\n",
       "      <td>NaN</td>\n",
       "      <td>NaN</td>\n",
       "      <td>NaN</td>\n",
       "      <td>NaN</td>\n",
       "    </tr>\n",
       "    <tr>\n",
       "      <th>38</th>\n",
       "      <td>NaN</td>\n",
       "      <td>NaN</td>\n",
       "      <td>NaN</td>\n",
       "      <td>NaN</td>\n",
       "      <td>NaN</td>\n",
       "      <td>NaN</td>\n",
       "      <td>NaN</td>\n",
       "      <td>NaN</td>\n",
       "      <td>NaN</td>\n",
       "      <td>NaN</td>\n",
       "    </tr>\n",
       "    <tr>\n",
       "      <th>39</th>\n",
       "      <td>NaN</td>\n",
       "      <td>NaN</td>\n",
       "      <td>NaN</td>\n",
       "      <td>NaN</td>\n",
       "      <td>NaN</td>\n",
       "      <td>NaN</td>\n",
       "      <td>NaN</td>\n",
       "      <td>NaN</td>\n",
       "      <td>NaN</td>\n",
       "      <td>NaN</td>\n",
       "    </tr>\n",
       "    <tr>\n",
       "      <th>40</th>\n",
       "      <td>NaN</td>\n",
       "      <td>NaN</td>\n",
       "      <td>NaN</td>\n",
       "      <td>NaN</td>\n",
       "      <td>NaN</td>\n",
       "      <td>NaN</td>\n",
       "      <td>NaN</td>\n",
       "      <td>NaN</td>\n",
       "      <td>NaN</td>\n",
       "      <td>NaN</td>\n",
       "    </tr>\n",
       "    <tr>\n",
       "      <th>41</th>\n",
       "      <td>NaN</td>\n",
       "      <td>NaN</td>\n",
       "      <td>NaN</td>\n",
       "      <td>NaN</td>\n",
       "      <td>NaN</td>\n",
       "      <td>NaN</td>\n",
       "      <td>NaN</td>\n",
       "      <td>NaN</td>\n",
       "      <td>NaN</td>\n",
       "      <td>NaN</td>\n",
       "    </tr>\n",
       "    <tr>\n",
       "      <th>42</th>\n",
       "      <td>NaN</td>\n",
       "      <td>NaN</td>\n",
       "      <td>NaN</td>\n",
       "      <td>NaN</td>\n",
       "      <td>NaN</td>\n",
       "      <td>NaN</td>\n",
       "      <td>NaN</td>\n",
       "      <td>NaN</td>\n",
       "      <td>NaN</td>\n",
       "      <td>NaN</td>\n",
       "    </tr>\n",
       "    <tr>\n",
       "      <th>43</th>\n",
       "      <td>NaN</td>\n",
       "      <td>NaN</td>\n",
       "      <td>NaN</td>\n",
       "      <td>NaN</td>\n",
       "      <td>NaN</td>\n",
       "      <td>NaN</td>\n",
       "      <td>NaN</td>\n",
       "      <td>NaN</td>\n",
       "      <td>NaN</td>\n",
       "      <td>NaN</td>\n",
       "    </tr>\n",
       "    <tr>\n",
       "      <th>44</th>\n",
       "      <td>NaN</td>\n",
       "      <td>NaN</td>\n",
       "      <td>NaN</td>\n",
       "      <td>NaN</td>\n",
       "      <td>NaN</td>\n",
       "      <td>NaN</td>\n",
       "      <td>NaN</td>\n",
       "      <td>NaN</td>\n",
       "      <td>NaN</td>\n",
       "      <td>NaN</td>\n",
       "    </tr>\n",
       "    <tr>\n",
       "      <th>45</th>\n",
       "      <td>NaN</td>\n",
       "      <td>NaN</td>\n",
       "      <td>NaN</td>\n",
       "      <td>NaN</td>\n",
       "      <td>NaN</td>\n",
       "      <td>NaN</td>\n",
       "      <td>NaN</td>\n",
       "      <td>NaN</td>\n",
       "      <td>NaN</td>\n",
       "      <td>NaN</td>\n",
       "    </tr>\n",
       "    <tr>\n",
       "      <th>46</th>\n",
       "      <td>NaN</td>\n",
       "      <td>NaN</td>\n",
       "      <td>NaN</td>\n",
       "      <td>NaN</td>\n",
       "      <td>NaN</td>\n",
       "      <td>NaN</td>\n",
       "      <td>NaN</td>\n",
       "      <td>NaN</td>\n",
       "      <td>NaN</td>\n",
       "      <td>NaN</td>\n",
       "    </tr>\n",
       "    <tr>\n",
       "      <th>47</th>\n",
       "      <td>NaN</td>\n",
       "      <td>NaN</td>\n",
       "      <td>NaN</td>\n",
       "      <td>NaN</td>\n",
       "      <td>NaN</td>\n",
       "      <td>NaN</td>\n",
       "      <td>NaN</td>\n",
       "      <td>NaN</td>\n",
       "      <td>NaN</td>\n",
       "      <td>NaN</td>\n",
       "    </tr>\n",
       "    <tr>\n",
       "      <th>48</th>\n",
       "      <td>NaN</td>\n",
       "      <td>NaN</td>\n",
       "      <td>NaN</td>\n",
       "      <td>NaN</td>\n",
       "      <td>NaN</td>\n",
       "      <td>NaN</td>\n",
       "      <td>NaN</td>\n",
       "      <td>NaN</td>\n",
       "      <td>NaN</td>\n",
       "      <td>NaN</td>\n",
       "    </tr>\n",
       "    <tr>\n",
       "      <th>49</th>\n",
       "      <td>NaN</td>\n",
       "      <td>NaN</td>\n",
       "      <td>NaN</td>\n",
       "      <td>NaN</td>\n",
       "      <td>NaN</td>\n",
       "      <td>NaN</td>\n",
       "      <td>NaN</td>\n",
       "      <td>NaN</td>\n",
       "      <td>NaN</td>\n",
       "      <td>NaN</td>\n",
       "    </tr>\n",
       "    <tr>\n",
       "      <th>50</th>\n",
       "      <td>NaN</td>\n",
       "      <td>NaN</td>\n",
       "      <td>NaN</td>\n",
       "      <td>NaN</td>\n",
       "      <td>NaN</td>\n",
       "      <td>NaN</td>\n",
       "      <td>NaN</td>\n",
       "      <td>NaN</td>\n",
       "      <td>NaN</td>\n",
       "      <td>NaN</td>\n",
       "    </tr>\n",
       "    <tr>\n",
       "      <th>51</th>\n",
       "      <td>NaN</td>\n",
       "      <td>NaN</td>\n",
       "      <td>NaN</td>\n",
       "      <td>NaN</td>\n",
       "      <td>NaN</td>\n",
       "      <td>NaN</td>\n",
       "      <td>NaN</td>\n",
       "      <td>NaN</td>\n",
       "      <td>NaN</td>\n",
       "      <td>NaN</td>\n",
       "    </tr>\n",
       "    <tr>\n",
       "      <th>52</th>\n",
       "      <td>NaN</td>\n",
       "      <td>NaN</td>\n",
       "      <td>NaN</td>\n",
       "      <td>NaN</td>\n",
       "      <td>NaN</td>\n",
       "      <td>NaN</td>\n",
       "      <td>NaN</td>\n",
       "      <td>NaN</td>\n",
       "      <td>NaN</td>\n",
       "      <td>NaN</td>\n",
       "    </tr>\n",
       "    <tr>\n",
       "      <th>53</th>\n",
       "      <td>NaN</td>\n",
       "      <td>NaN</td>\n",
       "      <td>NaN</td>\n",
       "      <td>NaN</td>\n",
       "      <td>NaN</td>\n",
       "      <td>NaN</td>\n",
       "      <td>NaN</td>\n",
       "      <td>NaN</td>\n",
       "      <td>NaN</td>\n",
       "      <td>NaN</td>\n",
       "    </tr>\n",
       "    <tr>\n",
       "      <th>54</th>\n",
       "      <td>NaN</td>\n",
       "      <td>NaN</td>\n",
       "      <td>NaN</td>\n",
       "      <td>NaN</td>\n",
       "      <td>NaN</td>\n",
       "      <td>NaN</td>\n",
       "      <td>NaN</td>\n",
       "      <td>NaN</td>\n",
       "      <td>NaN</td>\n",
       "      <td>NaN</td>\n",
       "    </tr>\n",
       "    <tr>\n",
       "      <th>55</th>\n",
       "      <td>NaN</td>\n",
       "      <td>NaN</td>\n",
       "      <td>NaN</td>\n",
       "      <td>NaN</td>\n",
       "      <td>NaN</td>\n",
       "      <td>NaN</td>\n",
       "      <td>NaN</td>\n",
       "      <td>NaN</td>\n",
       "      <td>NaN</td>\n",
       "      <td>NaN</td>\n",
       "    </tr>\n",
       "    <tr>\n",
       "      <th>56</th>\n",
       "      <td>NaN</td>\n",
       "      <td>NaN</td>\n",
       "      <td>NaN</td>\n",
       "      <td>NaN</td>\n",
       "      <td>NaN</td>\n",
       "      <td>NaN</td>\n",
       "      <td>NaN</td>\n",
       "      <td>NaN</td>\n",
       "      <td>NaN</td>\n",
       "      <td>NaN</td>\n",
       "    </tr>\n",
       "  </tbody>\n",
       "</table>\n",
       "</div>"
      ],
      "text/plain": [
       "   EleId eps_CP eps_LS eps_IO epc_CP epc_LS epc_IO rot_CP rot_LS rot_IO\n",
       "1    NaN    NaN    NaN    NaN    NaN    NaN    NaN    NaN    NaN    NaN\n",
       "2    NaN    NaN    NaN    NaN    NaN    NaN    NaN    NaN    NaN    NaN\n",
       "3    NaN    NaN    NaN    NaN    NaN    NaN    NaN    NaN    NaN    NaN\n",
       "4    NaN    NaN    NaN    NaN    NaN    NaN    NaN    NaN    NaN    NaN\n",
       "5    NaN    NaN    NaN    NaN    NaN    NaN    NaN    NaN    NaN    NaN\n",
       "6    NaN    NaN    NaN    NaN    NaN    NaN    NaN    NaN    NaN    NaN\n",
       "7    NaN    NaN    NaN    NaN    NaN    NaN    NaN    NaN    NaN    NaN\n",
       "8    NaN    NaN    NaN    NaN    NaN    NaN    NaN    NaN    NaN    NaN\n",
       "9    NaN    NaN    NaN    NaN    NaN    NaN    NaN    NaN    NaN    NaN\n",
       "10   NaN    NaN    NaN    NaN    NaN    NaN    NaN    NaN    NaN    NaN\n",
       "11   NaN    NaN    NaN    NaN    NaN    NaN    NaN    NaN    NaN    NaN\n",
       "12   NaN    NaN    NaN    NaN    NaN    NaN    NaN    NaN    NaN    NaN\n",
       "13   NaN    NaN    NaN    NaN    NaN    NaN    NaN    NaN    NaN    NaN\n",
       "14   NaN    NaN    NaN    NaN    NaN    NaN    NaN    NaN    NaN    NaN\n",
       "15   NaN    NaN    NaN    NaN    NaN    NaN    NaN    NaN    NaN    NaN\n",
       "16   NaN    NaN    NaN    NaN    NaN    NaN    NaN    NaN    NaN    NaN\n",
       "17   NaN    NaN    NaN    NaN    NaN    NaN    NaN    NaN    NaN    NaN\n",
       "18   NaN    NaN    NaN    NaN    NaN    NaN    NaN    NaN    NaN    NaN\n",
       "19   NaN    NaN    NaN    NaN    NaN    NaN    NaN    NaN    NaN    NaN\n",
       "20   NaN    NaN    NaN    NaN    NaN    NaN    NaN    NaN    NaN    NaN\n",
       "21   NaN    NaN    NaN    NaN    NaN    NaN    NaN    NaN    NaN    NaN\n",
       "22   NaN    NaN    NaN    NaN    NaN    NaN    NaN    NaN    NaN    NaN\n",
       "23   NaN    NaN    NaN    NaN    NaN    NaN    NaN    NaN    NaN    NaN\n",
       "24   NaN    NaN    NaN    NaN    NaN    NaN    NaN    NaN    NaN    NaN\n",
       "25   NaN    NaN    NaN    NaN    NaN    NaN    NaN    NaN    NaN    NaN\n",
       "26   NaN    NaN    NaN    NaN    NaN    NaN    NaN    NaN    NaN    NaN\n",
       "27   NaN    NaN    NaN    NaN    NaN    NaN    NaN    NaN    NaN    NaN\n",
       "28   NaN    NaN    NaN    NaN    NaN    NaN    NaN    NaN    NaN    NaN\n",
       "29   NaN    NaN    NaN    NaN    NaN    NaN    NaN    NaN    NaN    NaN\n",
       "30   NaN    NaN    NaN    NaN    NaN    NaN    NaN    NaN    NaN    NaN\n",
       "31   NaN    NaN    NaN    NaN    NaN    NaN    NaN    NaN    NaN    NaN\n",
       "32   NaN    NaN    NaN    NaN    NaN    NaN    NaN    NaN    NaN    NaN\n",
       "33   NaN    NaN    NaN    NaN    NaN    NaN    NaN    NaN    NaN    NaN\n",
       "34   NaN    NaN    NaN    NaN    NaN    NaN    NaN    NaN    NaN    NaN\n",
       "35   NaN    NaN    NaN    NaN    NaN    NaN    NaN    NaN    NaN    NaN\n",
       "36   NaN    NaN    NaN    NaN    NaN    NaN    NaN    NaN    NaN    NaN\n",
       "37   NaN    NaN    NaN    NaN    NaN    NaN    NaN    NaN    NaN    NaN\n",
       "38   NaN    NaN    NaN    NaN    NaN    NaN    NaN    NaN    NaN    NaN\n",
       "39   NaN    NaN    NaN    NaN    NaN    NaN    NaN    NaN    NaN    NaN\n",
       "40   NaN    NaN    NaN    NaN    NaN    NaN    NaN    NaN    NaN    NaN\n",
       "41   NaN    NaN    NaN    NaN    NaN    NaN    NaN    NaN    NaN    NaN\n",
       "42   NaN    NaN    NaN    NaN    NaN    NaN    NaN    NaN    NaN    NaN\n",
       "43   NaN    NaN    NaN    NaN    NaN    NaN    NaN    NaN    NaN    NaN\n",
       "44   NaN    NaN    NaN    NaN    NaN    NaN    NaN    NaN    NaN    NaN\n",
       "45   NaN    NaN    NaN    NaN    NaN    NaN    NaN    NaN    NaN    NaN\n",
       "46   NaN    NaN    NaN    NaN    NaN    NaN    NaN    NaN    NaN    NaN\n",
       "47   NaN    NaN    NaN    NaN    NaN    NaN    NaN    NaN    NaN    NaN\n",
       "48   NaN    NaN    NaN    NaN    NaN    NaN    NaN    NaN    NaN    NaN\n",
       "49   NaN    NaN    NaN    NaN    NaN    NaN    NaN    NaN    NaN    NaN\n",
       "50   NaN    NaN    NaN    NaN    NaN    NaN    NaN    NaN    NaN    NaN\n",
       "51   NaN    NaN    NaN    NaN    NaN    NaN    NaN    NaN    NaN    NaN\n",
       "52   NaN    NaN    NaN    NaN    NaN    NaN    NaN    NaN    NaN    NaN\n",
       "53   NaN    NaN    NaN    NaN    NaN    NaN    NaN    NaN    NaN    NaN\n",
       "54   NaN    NaN    NaN    NaN    NaN    NaN    NaN    NaN    NaN    NaN\n",
       "55   NaN    NaN    NaN    NaN    NaN    NaN    NaN    NaN    NaN    NaN\n",
       "56   NaN    NaN    NaN    NaN    NaN    NaN    NaN    NaN    NaN    NaN"
      ]
     },
     "execution_count": 123,
     "metadata": {},
     "output_type": "execute_result"
    }
   ],
   "source": [
    "frame_Level = pd.DataFrame(columns=[\"EleId\",\"eps_CP\",\"eps_LS\",\"eps_IO\",\"epc_CP\",\"epc_LS\",\"epc_IO\",\"rot_CP\",\"rot_LS\",\"rot_IO\"],index=[i for i in range(1,len(ops.getEleTags())+1)])\n",
    "for steel,(conc,rot) in zip(prf.steelstrain_Perform_Level,zip(prf.concstrain_Perform_Level,prf.rotation_Perform_Level )):\n",
    "    print(steel,conc,rot)\n",
    "    for ele in ops.getEleTags():\n",
    "        pass\n",
    "frame_Level"
   ]
  },
  {
   "cell_type": "code",
   "execution_count": 124,
   "metadata": {},
   "outputs": [
    {
     "data": {
      "text/html": [
       "<div>\n",
       "<style scoped>\n",
       "    .dataframe tbody tr th:only-of-type {\n",
       "        vertical-align: middle;\n",
       "    }\n",
       "\n",
       "    .dataframe tbody tr th {\n",
       "        vertical-align: top;\n",
       "    }\n",
       "\n",
       "    .dataframe thead th {\n",
       "        text-align: right;\n",
       "    }\n",
       "</style>\n",
       "<table border=\"1\" class=\"dataframe\">\n",
       "  <thead>\n",
       "    <tr style=\"text-align: right;\">\n",
       "      <th></th>\n",
       "      <th>top_cover</th>\n",
       "      <th>top_core</th>\n",
       "      <th>bot_cover</th>\n",
       "      <th>bot_core</th>\n",
       "      <th>steel_top</th>\n",
       "      <th>steel_bot</th>\n",
       "    </tr>\n",
       "  </thead>\n",
       "  <tbody>\n",
       "    <tr>\n",
       "      <th>1</th>\n",
       "      <td>{'stress': [-2681.248776802396, -2681.29435255...</td>\n",
       "      <td>{'stress': [-2212.1900590830346, -2212.0767117...</td>\n",
       "      <td>{'stress': [-2451.0778342000954, -2451.0400180...</td>\n",
       "      <td>{'stress': [-2827.963700385955, -2828.07651933...</td>\n",
       "      <td>{'stress': [-17419.926774383035, -17419.960156...</td>\n",
       "      <td>{'stress': [-17419.926774383035, -17419.960156...</td>\n",
       "    </tr>\n",
       "    <tr>\n",
       "      <th>2</th>\n",
       "      <td>{'stress': [-2695.158120777915, -2695.14438674...</td>\n",
       "      <td>{'stress': [-1052.8398765020613, -1052.8737443...</td>\n",
       "      <td>{'stress': [-1834.2805716812015, -1834.2923056...</td>\n",
       "      <td>{'stress': [-3362.321095335102, -3362.28461744...</td>\n",
       "      <td>{'stress': [-15340.674859053735, -15340.669265...</td>\n",
       "      <td>{'stress': [-15340.674859053735, -15340.669265...</td>\n",
       "    </tr>\n",
       "    <tr>\n",
       "      <th>3</th>\n",
       "      <td>{'stress': [-2887.0379071685347, -2887.0392767...</td>\n",
       "      <td>{'stress': [-1225.299963396319, -1225.29481493...</td>\n",
       "      <td>{'stress': [-2007.527131800061, -2007.52503206...</td>\n",
       "      <td>{'stress': [-3543.1289873153405, -3543.1329823...</td>\n",
       "      <td>{'stress': [-16608.491919276217, -16608.489739...</td>\n",
       "      <td>{'stress': [-16608.491919276217, -16608.489739...</td>\n",
       "    </tr>\n",
       "    <tr>\n",
       "      <th>4</th>\n",
       "      <td>{'stress': [-2586.4762552700627, -2586.4759280...</td>\n",
       "      <td>{'stress': [-552.6870763178232, -552.687211838...</td>\n",
       "      <td>{'stress': [-1504.5985130563233, -1504.5984346...</td>\n",
       "      <td>{'stress': [-3414.7952034580308, -3414.7946622...</td>\n",
       "      <td>{'stress': [-13835.838549270735, -13835.837196...</td>\n",
       "      <td>{'stress': [-13835.838549270735, -13835.837196...</td>\n",
       "    </tr>\n",
       "    <tr>\n",
       "      <th>5</th>\n",
       "      <td>{'stress': [-2208.8143262991935, -2208.8144394...</td>\n",
       "      <td>{'stress': [-35.43207621778858, -35.4319514661...</td>\n",
       "      <td>{'stress': [-1050.1073854338395, -1050.1073725...</td>\n",
       "      <td>{'stress': [-3113.9934745191526, -3113.9936817...</td>\n",
       "      <td>{'stress': [-10985.666414602847, -10985.666762...</td>\n",
       "      <td>{'stress': [-10985.666414602847, -10985.666762...</td>\n",
       "    </tr>\n",
       "  </tbody>\n",
       "</table>\n",
       "</div>"
      ],
      "text/plain": [
       "                                           top_cover  ...                                          steel_bot\n",
       "1  {'stress': [-2681.248776802396, -2681.29435255...  ...  {'stress': [-17419.926774383035, -17419.960156...\n",
       "2  {'stress': [-2695.158120777915, -2695.14438674...  ...  {'stress': [-15340.674859053735, -15340.669265...\n",
       "3  {'stress': [-2887.0379071685347, -2887.0392767...  ...  {'stress': [-16608.491919276217, -16608.489739...\n",
       "4  {'stress': [-2586.4762552700627, -2586.4759280...  ...  {'stress': [-13835.838549270735, -13835.837196...\n",
       "5  {'stress': [-2208.8143262991935, -2208.8144394...  ...  {'stress': [-10985.666414602847, -10985.666762...\n",
       "\n",
       "[5 rows x 6 columns]"
      ]
     },
     "execution_count": 124,
     "metadata": {},
     "output_type": "execute_result"
    }
   ],
   "source": [
    "sectionStrainStress.head(5)"
   ]
  },
  {
   "cell_type": "code",
   "execution_count": 126,
   "metadata": {},
   "outputs": [
    {
     "ename": "AttributeError",
     "evalue": "type object 'Performance' has no attribute 'steelstrain_Perform_Level'",
     "output_type": "error",
     "traceback": [
      "\u001b[1;31m---------------------------------------------------------------------------\u001b[0m",
      "\u001b[1;31mAttributeError\u001b[0m                            Traceback (most recent call last)",
      "\u001b[1;32m~\\AppData\\Local\\Temp\\ipykernel_17640\\2683063822.py\u001b[0m in \u001b[0;36m<module>\u001b[1;34m\u001b[0m\n\u001b[1;32m----> 1\u001b[1;33m \u001b[0msteel_Performs_Level\u001b[0m \u001b[1;33m=\u001b[0m \u001b[0mpf\u001b[0m\u001b[1;33m.\u001b[0m\u001b[0msteelstrain_Perform_Level\u001b[0m\u001b[1;33m(\u001b[0m\u001b[0meps_su\u001b[0m\u001b[1;33m=\u001b[0m\u001b[1;36m0.08\u001b[0m\u001b[1;33m)\u001b[0m\u001b[1;33m\u001b[0m\u001b[1;33m\u001b[0m\u001b[0m\n\u001b[0m\u001b[0;32m      2\u001b[0m \u001b[1;33m\u001b[0m\u001b[0m\n\u001b[0;32m      3\u001b[0m \u001b[1;31m#C40*40 interior and exterior column concrete performance level\u001b[0m\u001b[1;33m\u001b[0m\u001b[1;33m\u001b[0m\u001b[0m\n\u001b[0;32m      4\u001b[0m Col1exterior_conc_Performs_Level  = mam.concstrain_Perform_Level(h=HCol1*10**3,bw=BCol1*10**3,s=150,f_sy=500,f_co=fc/Unit.MPa,\n\u001b[0;32m      5\u001b[0m                                                 \u001b[0mpas_payı\u001b[0m\u001b[1;33m=\u001b[0m\u001b[0mpas_payı\u001b[0m\u001b[1;33m,\u001b[0m\u001b[0metriye_çapı\u001b[0m\u001b[1;33m=\u001b[0m\u001b[1;36m10\u001b[0m\u001b[1;33m,\u001b[0m\u001b[0mboyuna_donatı_çapı\u001b[0m\u001b[1;33m=\u001b[0m\u001b[0mbardiameterexteriorcol\u001b[0m\u001b[1;33m,\u001b[0m\u001b[1;33m\u001b[0m\u001b[1;33m\u001b[0m\u001b[0m\n",
      "\u001b[1;31mAttributeError\u001b[0m: type object 'Performance' has no attribute 'steelstrain_Perform_Level'"
     ]
    }
   ],
   "source": [
    "steel_Performs_Level = pf.steelstrain_Perform_Level(eps_su=0.08)\n",
    "\n",
    "#C40*40 interior and exterior column concrete performance level \n",
    "Col1exterior_conc_Performs_Level  = mam.concstrain_Perform_Level(h=HCol1*10**3,bw=BCol1*10**3,s=150,f_sy=500,f_co=fc/Unit.MPa,\n",
    "                                                pas_payı=pas_payı,etriye_çapı=10,boyuna_donatı_çapı=bardiameterexteriorcol,\n",
    "                                                numBarsTop=baslık_donatı_top,numBarsBot=baslık_donatı_bot,gövde_donatı_adeti=gövde_donatı_adeti,\n",
    "                                                x_koladeti=x_koladeti,y_koladeti=y_koladeti)\n",
    "Col1interior_conc_Performs_Level  = mam.concstrain_Perform_Level(h=HCol1*10**3,bw=BCol1*10**3,s=150,f_sy=500,f_co=fc/Unit.MPa,\n",
    "                                                pas_payı=pas_payı,etriye_çapı=10,boyuna_donatı_çapı=bardiameterinteriorcol,\n",
    "                                                numBarsTop=baslık_donatı_top,numBarsBot=baslık_donatı_bot,gövde_donatı_adeti=gövde_donatı_adeti,\n",
    "                                                x_koladeti=x_koladeti,y_koladeti=y_koladeti)\n",
    "\n",
    "#C35*35 interior and exterior column concrete performance level\n",
    "Col2exterior_conc_Performs_Level  = mam.concstrain_Perform_Level(h=HCol2*10**3,bw=BCol2*10**3,s=150,f_sy=500,f_co=fc/Unit.MPa,\n",
    "                                                        pas_payı=pas_payı,etriye_çapı=10,boyuna_donatı_çapı=bardiameterexteriorcol,\n",
    "                                                        numBarsTop=baslık_donatı_top,numBarsBot=baslık_donatı_bot,gövde_donatı_adeti=gövde_donatı_adeti,\n",
    "                                                        x_koladeti=x_koladeti,y_koladeti=y_koladeti)\n",
    "Col2interior_conc_Performs_Level  = mam.concstrain_Perform_Level(h=HCol2*10**3,bw=BCol2*10**3,s=150,f_sy=500,f_co=fc/Unit.MPa,\n",
    "                                                pas_payı=pas_payı,etriye_çapı=10,boyuna_donatı_çapı=bardiameterinteriorcol,\n",
    "                                                numBarsTop=baslık_donatı_top,numBarsBot=baslık_donatı_bot,gövde_donatı_adeti=gövde_donatı_adeti,\n",
    "                                                x_koladeti=x_koladeti,y_koladeti=y_koladeti)\n",
    "\n",
    "#C30*30 interior and exterior column concrete performance level \n",
    "Col3exterior_conc_Performs_Level  = mam.concstrain_Perform_Level(h=HCol3*10**3,bw=BCol3*10**3,s=150,f_sy=500,f_co=fc/Unit.MPa,\n",
    "                                                        pas_payı=pas_payı,etriye_çapı=10,boyuna_donatı_çapı=bardiameterexteriorcol,\n",
    "                                                        numBarsTop=baslık_donatı_top,numBarsBot=baslık_donatı_bot,gövde_donatı_adeti=gövde_donatı_adeti,\n",
    "                                                      x_koladeti=x_koladeti,y_koladeti=y_koladeti)\n",
    "Col3interior_conc_Performs_Level  = mam.concstrain_Perform_Level(h=HCol3*10**3,bw=BCol3*10**3,s=150,f_sy=500,f_co=fc/Unit.MPa,\n",
    "                                                pas_payı=pas_payı,etriye_çapı=10,boyuna_donatı_çapı=bardiameterinteriorcol,\n",
    "                                                numBarsTop=baslık_donatı_top,numBarsBot=baslık_donatı_bot,gövde_donatı_adeti=gövde_donatı_adeti,\n",
    "                                                x_koladeti=x_koladeti,y_koladeti=y_koladeti)\n",
    "\n",
    "Col1_TopSteel_performs = mam.steelstrain_Perform_Level(eps_su=0.08)\n",
    "Col1_TopSteel_performs\n"
   ]
  },
  {
   "cell_type": "code",
   "execution_count": null,
   "metadata": {},
   "outputs": [],
   "source": [
    "\"\"\" \n",
    "BİRİM ŞEKİLDEĞİŞTİRMELER İÇİN \n",
    "                    0 => Göçme  ;\n",
    "                    1 => Göçmenin önlenmesi ;\n",
    "                    2 => Kontrollü hasar ;\n",
    "                    3 => Sınırlı hasar\n",
    "DÖNMELER İÇİN \n",
    "                    0 => Göçme  ;\n",
    "                    1 => Göçmenin önlenmesi ;\n",
    "                    2 => Kontrollü hasar ;\n",
    "                    3 => Sınırlı hasar\n",
    "KESİT İÇİN \n",
    "            0 => Göçme Bölgesi\n",
    "            1 => İleri Hasar bölgesi\n",
    "            2 => Belirgin hasar bölgesi\n",
    "            3 => Sınırlı hasar bölgesi\n",
    "\"\"\"\n",
    "performance = pd.DataFrame(columns=[\"TopCoverConcPerform\",\"TopSteelPerform\",\"TopCoreConcPerform\",\n",
    "                                    \"BotCoreConcPerform\",\"BotCoverConcPerform\",\"BotSteelPerform\",\n",
    "                                    \"iRotationPerform\",\"jRotationPerform\",\"SectionPerform\"],index=[i for i in range(1,len(ops.getEleTags())+1)])\n",
    "\n",
    "Col1exterior_rotation_perform =mam.rotation_Perform_Level(ultimate_curvature=0.01,yield_curvature=0.002,Lp=Lpl1,Ls=Lpl1,db=bardiameterexteriorcol)\n",
    "print(Col1exterior_rotation_perform)\n",
    "\n",
    "\n",
    "for ele in ops.getEleTags():\n",
    "    # Top cover conc performance only one fiber from given location \n",
    "    for strain in sectionStrainStress[\"top_cover\"][ele][\"strain\"]:\n",
    "        if strain > Col1exterior_conc_Performs_Level[0]:\n",
    "            #print(\"Göçme\")\n",
    "            performance[\"TopCoverConcPerform\"][ele]=[\"Collapse\"]\n",
    "        if strain < Col1exterior_conc_Performs_Level[0] and strain > Col1exterior_conc_Performs_Level[1]:\n",
    "            performance[\"TopCoverConcPerform\"][ele]=[\"Before Collapse\"]\n",
    "            \n",
    "            #print(\"Göçmenin önlenmesi\")\n",
    "        if strain < Col1exterior_conc_Performs_Level[1] and strain > Col1exterior_conc_Performs_Level[2]:\n",
    "            performance[\"TopCoverConcPerform\"][ele]=[\"Kontrollü hasar\"]\n",
    "            \n",
    "            #print(\"Kontrollü hasar\")\n",
    "        if strain < Col1exterior_conc_Performs_Level[2]:\n",
    "            performance[\"TopCoverConcPerform\"][ele]=[\"Sınırlı hasar\"]\n",
    "    \n",
    "    # Top steel performance\n",
    "    for strain in sectionStrainStress[\"steel_top\"][ele][\"strain\"]:\n",
    "        if strain > Col1_TopSteel_performs[0]:\n",
    "            #print(\"Göçme\")\n",
    "            performance[\"TopSteelPerform\"][ele]=[\"Collapse\"]\n",
    "        if strain < Col1_TopSteel_performs[0] and strain > Col1_TopSteel_performs[1]:\n",
    "            performance[\"TopSteelPerform\"][ele]=[\"Before Collapse\"]\n",
    "            \n",
    "            #print(\"Göçmenin önlenmesi\")\n",
    "        if strain < Col1_TopSteel_performs[1] and strain > Col1_TopSteel_performs[2]:\n",
    "            performance[\"TopSteelPerform\"][ele]=[\"Kontrollü hasar\"]\n",
    "            \n",
    "            #print(\"Kontrollü hasar\")\n",
    "        if strain < Col1_TopSteel_performs[2]:\n",
    "            performance[\"TopSteelPerform\"][ele]=[\"Sınırlı hasar\"]\n",
    "    \n",
    "    # Top cover conc performance only one fiber from given location \n",
    "    for strain in sectionStrainStress[\"top_core\"][ele][\"strain\"]:\n",
    "        if strain > Col1exterior_conc_Performs_Level[0]:\n",
    "            #print(\"Göçme\")\n",
    "            performance[\"TopCoreConcPerform\"][ele]=[\"Collapse\"]\n",
    "        if strain < Col1exterior_conc_Performs_Level[0] and strain > Col1exterior_conc_Performs_Level[1]:\n",
    "            performance[\"TopCoreConcPerform\"][ele]=[\"Before Collapse\"]\n",
    "            \n",
    "            #print(\"Göçmenin önlenmesi\")\n",
    "        if strain < Col1exterior_conc_Performs_Level[1] and strain > Col1exterior_conc_Performs_Level[2]:\n",
    "            performance[\"TopCoreConcPerform\"][ele]=[\"Kontrollü hasar\"]\n",
    "            \n",
    "            #print(\"Kontrollü hasar\")\n",
    "        if strain < Col1exterior_conc_Performs_Level[2]:\n",
    "            performance[\"TopCoreConcPerform\"][ele]=[\"Sınırlı hasar\"]\n",
    "    \n",
    "    # Top steel performance\n",
    "    for strain in sectionStrainStress[\"bot_core\"][ele][\"strain\"]:\n",
    "        if strain > Col1_TopSteel_performs[0]:\n",
    "            #print(\"Göçme\")\n",
    "            performance[\"BotCoreConcPerform\"][ele]=[\"Collapse\"]\n",
    "        if strain < Col1_TopSteel_performs[0] and strain > Col1_TopSteel_performs[1]:\n",
    "            performance[\"BotCoreConcPerform\"][ele]=[\"Before Collapse\"]\n",
    "            \n",
    "            #print(\"Göçmenin önlenmesi\")\n",
    "        if strain < Col1_TopSteel_performs[1] and strain > Col1_TopSteel_performs[2]:\n",
    "            performance[\"BotCoreConcPerform\"][ele]=[\"Kontrollü hasar\"]\n",
    "            \n",
    "            #print(\"Kontrollü hasar\")\n",
    "        if strain < Col1_TopSteel_performs[2]:\n",
    "            performance[\"BotCoreConcPerform\"][ele]=[\"Sınırlı hasar\"]\n",
    "    \n",
    "    # Top cover conc performance only one fiber from given location \n",
    "    for strain in sectionStrainStress[\"bot_cover\"][ele][\"strain\"]:\n",
    "        if strain > Col1exterior_conc_Performs_Level[0]:\n",
    "            #print(\"Göçme\")\n",
    "            performance[\"BotCoverConcPerform\"][ele]=[\"Collapse\"]\n",
    "        if strain < Col1exterior_conc_Performs_Level[0] and strain > Col1exterior_conc_Performs_Level[1]:\n",
    "            performance[\"BotCoverConcPerform\"][ele]=[\"Before Collapse\"]\n",
    "            \n",
    "            #print(\"Göçmenin önlenmesi\")\n",
    "        if strain < Col1exterior_conc_Performs_Level[1] and strain > Col1exterior_conc_Performs_Level[2]:\n",
    "            performance[\"BotCoverConcPerform\"][ele]=[\"Kontrollü hasar\"]\n",
    "            \n",
    "            #print(\"Kontrollü hasar\")\n",
    "        if strain < Col1exterior_conc_Performs_Level[2]:\n",
    "            performance[\"BotCoverConcPerform\"][ele]=[\"Sınırlı hasar\"]\n",
    "    \n",
    "    # Top steel performance\n",
    "    for strain in sectionStrainStress[\"steel_bot\"][ele][\"strain\"]:\n",
    "        if strain > Col1_TopSteel_performs[0]:\n",
    "            #print(\"Göçme\")\n",
    "            performance[\"BotSteelPerform\"][ele]=[\"Collapse\"]\n",
    "        if strain < Col1_TopSteel_performs[0] and strain > Col1_TopSteel_performs[1]:\n",
    "            performance[\"BotSteelPerform\"][ele]=[\"Before Collapse\"]\n",
    "            \n",
    "            #print(\"Göçmenin önlenmesi\")\n",
    "        if strain < Col1_TopSteel_performs[1] and strain > Col1_TopSteel_performs[2]:\n",
    "            performance[\"BotSteelPerform\"][ele]=[\"Kontrollü hasar\"]\n",
    "            \n",
    "            #print(\"Kontrollü hasar\")\n",
    "        if strain < Col1_TopSteel_performs[2]:\n",
    "            performance[\"BotSteelPerform\"][ele]=[\"Sınırlı hasar\"]\n",
    "            \n",
    "    for rotationi,rotationj in zip(sectionOutput[\"itotalRot\"][ele],sectionOutput[\"jtotalRot\"][ele]):\n",
    "        if rotationi > Col1exterior_rotation_perform[0]:\n",
    "            #print(\"Göçme\")\n",
    "            performance[\"iRotationPerform\"][ele]=[\"Collapse\"]\n",
    "        if rotationi < Col1exterior_rotation_perform[0] and rotationi > Col1exterior_rotation_perform[1]:\n",
    "            performance[\"iRotationPerform\"][ele]=[\"Before Collapse\"]\n",
    "            #print(\"Göçmenin önlenmesi\")\n",
    "        if rotationi < Col1exterior_rotation_perform[1] and rotationi > Col1exterior_rotation_perform[2]:\n",
    "            performance[\"iRotationPerform\"][ele]=[\"Life Safety\"]\n",
    "            #print(\"Kontrollü hasar\")\n",
    "        if rotationi < Col1exterior_rotation_perform[2]:\n",
    "            performance[\"iRotationPerform\"][ele]=[\"Immediate Occupuancy\"]\n",
    "            \n",
    "        if rotationj > Col1exterior_rotation_perform[0]:\n",
    "            #print(\"Göçme\")\n",
    "            performance[\"jRotationPerform\"][ele]=[\"Collapse\"]\n",
    "        if rotationj < Col1exterior_rotation_perform[0] and rotationj > Col1exterior_rotation_perform[1]:\n",
    "            performance[\"jRotationPerform\"][ele]=[\"Before Collapse\"]\n",
    "            #print(\"Göçmenin önlenmesi\")\n",
    "        if rotationj < Col1exterior_rotation_perform[1] and rotationj > Col1exterior_rotation_perform[2]:\n",
    "            performance[\"jRotationPerform\"][ele]=[\"Life Safety\"]\n",
    "            #print(\"Kontrollü hasar\")\n",
    "        if rotationj < Col1exterior_rotation_perform[2]:\n",
    "            performance[\"jRotationPerform\"][ele]=[\"Immediate Occupuancy\"]\n",
    "            #print(\"Sınırlı hasar\")\n"
   ]
  },
  {
   "cell_type": "markdown",
   "metadata": {},
   "source": [
    "## Plot Outputs"
   ]
  },
  {
   "cell_type": "markdown",
   "metadata": {},
   "source": [
    "### Plotting Fiber Stress-Strain Graphs"
   ]
  },
  {
   "cell_type": "code",
   "execution_count": null,
   "metadata": {},
   "outputs": [],
   "source": [
    "sectionStrainStress.head(2)"
   ]
  },
  {
   "cell_type": "code",
   "execution_count": null,
   "metadata": {},
   "outputs": [],
   "source": [
    "ms.plot_StressStrain(sectionStrainStress[\"top_cover\"],count=4)"
   ]
  },
  {
   "cell_type": "code",
   "execution_count": null,
   "metadata": {},
   "outputs": [],
   "source": [
    "ms.plot_StressStrain(sectionStrainStress[\"top_core\"],count=4)"
   ]
  },
  {
   "cell_type": "code",
   "execution_count": null,
   "metadata": {},
   "outputs": [],
   "source": [
    "ms.plot_StressStrain(sectionStrainStress[\"bot_cover\"],count=4)"
   ]
  },
  {
   "cell_type": "code",
   "execution_count": null,
   "metadata": {},
   "outputs": [],
   "source": [
    "ms.plot_StressStrain(sectionStrainStress[\"bot_core\"],count=4)"
   ]
  },
  {
   "cell_type": "code",
   "execution_count": null,
   "metadata": {},
   "outputs": [],
   "source": [
    "ms.plot_StressStrain(sectionStrainStress[\"steel_top\"],count=4)"
   ]
  },
  {
   "cell_type": "code",
   "execution_count": null,
   "metadata": {},
   "outputs": [],
   "source": [
    "ms.plot_StressStrain(sectionStrainStress[\"steel_bot\"],count=4)"
   ]
  },
  {
   "cell_type": "markdown",
   "metadata": {},
   "source": [
    "### Plotting Frame Moment-Curvature"
   ]
  },
  {
   "cell_type": "code",
   "execution_count": null,
   "metadata": {},
   "outputs": [],
   "source": [
    "sectionOutput.head(2)"
   ]
  },
  {
   "cell_type": "code",
   "execution_count": null,
   "metadata": {},
   "outputs": [],
   "source": [
    "ms.plot_Rotation(sectionOutput[\"itotalRot\"],sectionOutput[\"iplasticRot\"],sectionOutput[\"ielasticRot\"])"
   ]
  },
  {
   "cell_type": "code",
   "execution_count": null,
   "metadata": {},
   "outputs": [],
   "source": [
    "ms.plot_MomRot(sectionOutput[\"itotalRot\"],sectionOutput[\"ibasicForce\"],sectionOutput[\"jtotalRot\"],sectionOutput[\"jbasicForce\"],count=56)"
   ]
  },
  {
   "cell_type": "code",
   "execution_count": null,
   "metadata": {},
   "outputs": [],
   "source": [
    "ms.plot_MomRot(sectionOutput[\"iplasticRot\"],sectionOutput[\"ibasicForce\"],sectionOutput[\"jplasticRot\"],sectionOutput[\"jbasicForce\"])"
   ]
  },
  {
   "cell_type": "code",
   "execution_count": null,
   "metadata": {},
   "outputs": [],
   "source": [
    "ms.plot_MomRot(sectionOutput[\"ielasticRot\"],sectionOutput[\"ibasicForce\"],sectionOutput[\"jelasticRot\"],sectionOutput[\"jbasicForce\"])"
   ]
  },
  {
   "cell_type": "markdown",
   "metadata": {},
   "source": [
    "### Energy Calculation And Plotting The Outputs"
   ]
  },
  {
   "cell_type": "code",
   "execution_count": null,
   "metadata": {},
   "outputs": [],
   "source": [
    "plt.plot(sectionOutput[\"ibasicForce\"][2],sectionOutput[\"itotalRot\"][2])"
   ]
  },
  {
   "cell_type": "code",
   "execution_count": null,
   "metadata": {},
   "outputs": [],
   "source": [
    "adet = 0\n",
    "for count,(x,y) in enumerate(zip(sectionOutput[\"ibasicForce\"][2],sectionOutput[\"itotalRot\"][2])):\n",
    "    if x<0 and y>0:\n",
    "        print(f\"index :{count} ; force : {x} ; rotation {y}\")\n",
    "        adet += 1\n",
    "        continue\n",
    "    if x>0 and y<0:\n",
    "        print(f\"index :{count} ; force : {x} ; rotation {y}\")\n",
    "        adet += 1\n",
    "        continue\n",
    "adet"
   ]
  },
  {
   "cell_type": "code",
   "execution_count": null,
   "metadata": {},
   "outputs": [],
   "source": [
    "from scipy.integrate import cumtrapz\n",
    "EH_i_total   = cumtrapz(sectionOutput[\"ibasicForce\"][2],sectionOutput[\"itotalRot\"][2])\n",
    "#EH_j_total   = cumtrapz(sectionOutput[\"jbasicForce\"][2],sectionOutput[\"jtotalRot\"][2])\n",
    "plt.plot(EH_i_total),plt.legend(\"inode\")\n",
    "print(EH_i_total[2395::2405])\n",
    "\n",
    "print(EH_i_total)"
   ]
  },
  {
   "cell_type": "code",
   "execution_count": null,
   "metadata": {},
   "outputs": [],
   "source": [
    "ms.plot_Energy(sectionOutput[\"ibasicForce\"],sectionOutput[\"jbasicForce\"],\n",
    "                sectionOutput[\"itotalRot\"],sectionOutput[\"iplasticRot\"],sectionOutput[\"ielasticRot\"],\n",
    "                sectionOutput[\"jtotalRot\"],sectionOutput[\"jplasticRot\"],sectionOutput[\"jelasticRot\"],count=5)"
   ]
  },
  {
   "cell_type": "code",
   "execution_count": null,
   "metadata": {},
   "outputs": [],
   "source": [
    "sectionOutput.head(2)"
   ]
  },
  {
   "cell_type": "code",
   "execution_count": null,
   "metadata": {},
   "outputs": [],
   "source": [
    "ms.plot_Rotation(sectionOutput[\"itotalRot\"],sectionOutput[\"iplasticRot\"],sectionOutput[\"ielasticRot\"])"
   ]
  },
  {
   "cell_type": "code",
   "execution_count": null,
   "metadata": {},
   "outputs": [],
   "source": [
    "ms.plot_MomRot(sectionOutput[\"itotalRot\"],sectionOutput[\"ibasicForce\"],sectionOutput[\"jtotalRot\"],sectionOutput[\"jbasicForce\"])"
   ]
  },
  {
   "cell_type": "code",
   "execution_count": null,
   "metadata": {},
   "outputs": [],
   "source": [
    "ms.plot_MomRot(sectionOutput[\"iplasticRot\"],sectionOutput[\"ibasicForce\"],sectionOutput[\"jplasticRot\"],sectionOutput[\"jbasicForce\"])"
   ]
  },
  {
   "cell_type": "code",
   "execution_count": null,
   "metadata": {},
   "outputs": [],
   "source": [
    "ms.plot_MomRot(sectionOutput[\"ielasticRot\"],sectionOutput[\"ibasicForce\"],sectionOutput[\"jelasticRot\"],sectionOutput[\"jbasicForce\"])"
   ]
  },
  {
   "cell_type": "code",
   "execution_count": null,
   "metadata": {},
   "outputs": [],
   "source": [
    "ms.plot_Energy(sectionOutput[\"ibasicForce\"],sectionOutput[\"jbasicForce\"],\n",
    "                sectionOutput[\"itotalRot\"],sectionOutput[\"iplasticRot\"],sectionOutput[\"ielasticRot\"],\n",
    "                sectionOutput[\"jtotalRot\"],sectionOutput[\"jplasticRot\"],sectionOutput[\"jelasticRot\"],count=56)"
   ]
  },
  {
   "cell_type": "markdown",
   "metadata": {},
   "source": [
    "for ele in ops.getEleTags():\n",
    "    plt.rcParams.update({'font.size': 16})\n",
    "    fig, ax = plt.subplots(figsize=(25,10))\n",
    "    ax.grid()\n",
    "    ax.plot(sectionOutput[ele][\"section_rotations_i\"],sectionOutput[ele][\"section_moments_i\"])\n",
    "    ax.legend()\n",
    "    ax.axhline(0, color='black', lw=2)\n",
    "    ax.axvline(0, color='black', lw=2)\n",
    "    ax.set(xlabel=f\"Rotation of {ele} in i joint\", ylabel=f\"Moment of {ele} in i joint\",title=f\"All elements (Only integration Tag 2)\")\n",
    "    plt.show()"
   ]
  },
  {
   "cell_type": "markdown",
   "metadata": {},
   "source": [
    "## Second Time-History Analysis"
   ]
  },
  {
   "cell_type": "markdown",
   "metadata": {},
   "source": [
    "### Create Aftershock"
   ]
  },
  {
   "cell_type": "code",
   "execution_count": null,
   "metadata": {},
   "outputs": [],
   "source": [
    "#=======================================================================================================================================================================================================\n",
    "GMFile =\"./Coalinga/RSN418.acc\"\n",
    "GMdirection=1\n",
    "GMfact=1*0.2729\n",
    "tsTag=4\n",
    "IDloadTag=401\n",
    "GMfatt = Unit.g\n",
    "#ops.timeSeries('Path', tsTag, '-dt', dt, '-values', *acceleration, '-factor', GMfatt) # time series object\n",
    "#ops.pattern('UniformExcitation', IDloadTag,GMdirection, '-accel', tsTag)# pattern object\n",
    "ops.timeSeries('Path', tsTag, '-dt', dt, '-filePath', GMFile, '-factor', GMfatt) # time series object\n",
    "ops.pattern('UniformExcitation', IDloadTag,GMdirection, '-accel', tsTag,'-factor',GMfact)# pattern object\n"
   ]
  },
  {
   "cell_type": "markdown",
   "metadata": {},
   "source": [
    "### Run Time History Analysis"
   ]
  },
  {
   "cell_type": "code",
   "execution_count": null,
   "metadata": {},
   "outputs": [],
   "source": [
    "ops.wipeAnalysis()\n",
    "\n",
    "bd.analysis_define()\n",
    "\n",
    "top_nodal_disp2,eleForces2,time2,sectionStrainStress2,Eds2,sectionOutputs2,nodalOutput =bd.run_timehistory(DtAnalysis=dt2,\n",
    "                                                                                                            TmaxAnalysis=70,\n",
    "                                                                                                            outEleForces=True,\n",
    "                                                                                                            outNodalDisp=True,\n",
    "                                                                                                            outFiber=[False, 0.3, 0.05, IDconcCover, IDconcCore, IDMinMaxSteel],\n",
    "                                                                                                            animotions=False,\n",
    "                                                                                                            outSection=True,\n",
    "                                                                                                            )\n",
    "\n",
    "ops.loadConst('-time', 0.0)"
   ]
  },
  {
   "cell_type": "code",
   "execution_count": null,
   "metadata": {},
   "outputs": [],
   "source": [
    "ms.top_disp_plot(top_nodal_disp2,time2,dt2)\n",
    "T1, Mratios, Mfactors, Mtots = bd.modal_analys2(3)"
   ]
  },
  {
   "cell_type": "code",
   "execution_count": null,
   "metadata": {},
   "outputs": [],
   "source": [
    "\n",
    "concat_disp =[i for i in top_nodal_disp[36]]\n",
    "for i in top_nodal_disp2[36]:\n",
    "    concat_disp.append(i)\n",
    "concat_time = [i*dt for i in range(len(concat_disp))]\n",
    "\n",
    "%matplotlib inline\n",
    "plt.rcParams.update({'font.size': 16})\n",
    "fig, ax = plt.subplots(figsize=(25,10))\n",
    "fig.subplots_adjust(bottom=0.15, left=0.2)\n",
    "ax.grid()\n",
    "ax.plot(concat_time,concat_disp,linewidth=2)\n",
    "ax.axhline(0, color='black', lw=2)\n",
    "ax.set(xlabel=\"Time [Sec]\", ylabel=f\"Horizontal Displacement of node {max(ops.getNodeTags())}\",title=f\"{eventname} main-after shock top disp/time\")\n",
    "plt.show()"
   ]
  },
  {
   "cell_type": "code",
   "execution_count": null,
   "metadata": {},
   "outputs": [],
   "source": [
    "for ele in ops.getEleTags():\n",
    "    plt.rcParams.update({'font.size': 16})\n",
    "    fig, ax = plt.subplots(figsize=(25,10))\n",
    "    fig.subplots_adjust(bottom=0.15, left=0.2)\n",
    "    ax.grid()\n",
    "    ax.plot(sectionOutputs2[ele]['itotalRot'],sectionOutputs2[ele]['ibasicForce'],label=\"iNode\")\n",
    "    ax.plot(sectionOutputs2[ele]['jtotalRot'],sectionOutputs2[ele]['jbasicForce'],label=\"jNode\")\n",
    "    ax.legend()\n",
    "    ax.set(xlabel=\"Rotation (rad)\", ylabel=f\"Moment\",title=f\"inode Of {ele} Element from Moment-Rotation\")\n",
    "    ax.axhline(0, color='black', lw=2)\n",
    "    ax.axvline(0,color='black',lw=2)\n",
    "    plt.show()"
   ]
  },
  {
   "cell_type": "code",
   "execution_count": null,
   "metadata": {},
   "outputs": [],
   "source": [
    "import pandas as pd\n",
    "outputs = pd.DataFrame(sectionOutput).T"
   ]
  },
  {
   "cell_type": "code",
   "execution_count": null,
   "metadata": {},
   "outputs": [],
   "source": [
    "outputs.to_pickle(\"./dummy.pkl\")"
   ]
  },
  {
   "cell_type": "code",
   "execution_count": null,
   "metadata": {},
   "outputs": [],
   "source": [
    "for ele in ops.getEleTags():\n",
    "    plt.rcParams.update({'font.size': 16})\n",
    "    fig, ax = plt.subplots(figsize=(25,10))\n",
    "    ax.grid()\n",
    "    ax.plot(sectionOutputs2[ele][\"section_rotations_i\"])\n",
    "    ax.axhline(0, color='black', lw=2)\n",
    "    ax.axvline(0, color='black', lw=2)\n",
    "    ax.set(xlabel=f\"Rotation of step \", ylabel=f\"Rotation of {ele} in i joint\",title=f\"Step-Rotation All Elements (Only integration Tag 1)\")\n",
    "    plt.show()"
   ]
  },
  {
   "cell_type": "code",
   "execution_count": null,
   "metadata": {},
   "outputs": [],
   "source": [
    "for ele in ops.getEleTags():\n",
    "    plt.rcParams.update({'font.size': 16})\n",
    "    fig, ax = plt.subplots(figsize=(25,10))\n",
    "    ax.grid()\n",
    "    ax.plot(sectionOutputs2[ele][\"section_rotations_i\"],sectionOutputs2[ele][\"section_moments_i\"])\n",
    "    ax.axhline(0, color='black', lw=2)\n",
    "    ax.axvline(0, color='black', lw=2)\n",
    "    ax.set(xlabel=f\"Rotation of {ele} in i joint\", ylabel=f\"Moment of {ele} in i joint\",title=f\"Moment-Rotation All Elements (Only integration Tag 1)\")\n",
    "    plt.show()"
   ]
  },
  {
   "cell_type": "code",
   "execution_count": null,
   "metadata": {},
   "outputs": [],
   "source": []
  }
 ],
 "metadata": {
  "kernelspec": {
   "display_name": "Python 3.9.13 64-bit (microsoft store)",
   "language": "python",
   "name": "python3"
  },
  "language_info": {
   "codemirror_mode": {
    "name": "ipython",
    "version": 3
   },
   "file_extension": ".py",
   "mimetype": "text/x-python",
   "name": "python",
   "nbconvert_exporter": "python",
   "pygments_lexer": "ipython3",
   "version": "3.9.13"
  },
  "vscode": {
   "interpreter": {
    "hash": "497338f01161d141240caa60efca5087225791fadc9b7c964beb65d863e046f0"
   }
  }
 },
 "nbformat": 4,
 "nbformat_minor": 4
}
