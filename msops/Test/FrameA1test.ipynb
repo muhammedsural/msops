{
 "cells": [
  {
   "cell_type": "code",
   "execution_count": 1,
   "metadata": {},
   "outputs": [],
   "source": [
    "import openseespy.opensees as ops\n",
    "import numpy as np\n",
    "import matplotlib.pyplot as plt\n",
    "import opsvis as opsv\n",
    "import model as md\n",
    "from builder import opsbuild as bd\n",
    "from Unit import Unit\n",
    "import opsEntity as opse\n",
    "%matplotlib inline"
   ]
  },
  {
   "cell_type": "code",
   "execution_count": 2,
   "metadata": {},
   "outputs": [],
   "source": [
    "numBay, numFloor, firstFloor, bayWidht, storyHeight = 3,3,3,5,3\n",
    "pf1 = md.createmodel(numBay, numFloor, firstFloor, bayWidht, storyHeight)"
   ]
  },
  {
   "cell_type": "code",
   "execution_count": 3,
   "metadata": {},
   "outputs": [
    {
     "ename": "NameError",
     "evalue": "name 'mat' is not defined",
     "output_type": "error",
     "traceback": [
      "\u001b[1;31m---------------------------------------------------------------------------\u001b[0m",
      "\u001b[1;31mNameError\u001b[0m                                 Traceback (most recent call last)",
      "\u001b[1;32mc:\\Users\\Lenovo\\Desktop\\github\\prj3386\\FrameA1test.ipynb Cell 3'\u001b[0m in \u001b[0;36m<cell line: 1>\u001b[1;34m()\u001b[0m\n\u001b[1;32m----> <a href='vscode-notebook-cell:/c%3A/Users/Lenovo/Desktop/github/prj3386/FrameA1test.ipynb#ch0000002?line=0'>1</a>\u001b[0m defaultMat \u001b[39m=\u001b[39m mat\u001b[39m.\u001b[39mdefaultopsMat()\n\u001b[0;32m      <a href='vscode-notebook-cell:/c%3A/Users/Lenovo/Desktop/github/prj3386/FrameA1test.ipynb#ch0000002?line=1'>2</a>\u001b[0m rebar \u001b[39m=\u001b[39m mat\u001b[39m.\u001b[39mSteel()\n\u001b[0;32m      <a href='vscode-notebook-cell:/c%3A/Users/Lenovo/Desktop/github/prj3386/FrameA1test.ipynb#ch0000002?line=2'>3</a>\u001b[0m concrete \u001b[39m=\u001b[39m mat\u001b[39m.\u001b[39mConcrete(\u001b[39m'\u001b[39m\u001b[39mC20\u001b[39m\u001b[39m'\u001b[39m,fck\u001b[39m=\u001b[39m\u001b[39m20\u001b[39m\u001b[39m*\u001b[39mUnit\u001b[39m.\u001b[39mMPa)\n",
      "\u001b[1;31mNameError\u001b[0m: name 'mat' is not defined"
     ]
    }
   ],
   "source": [
    "defaultMat = mat.defaultopsMat()\n",
    "rebar = mat.Steel()\n",
    "concrete = mat.Concrete('C20',fck=20*Unit.MPa)\n",
    "print(rebar,concrete)"
   ]
  },
  {
   "cell_type": "code",
   "execution_count": null,
   "metadata": {},
   "outputs": [],
   "source": [
    "cover = mat.opsmaterial(\n",
    "                       MaterialType='Concrete02',\n",
    "                       matTag=1,\n",
    "                       inputArray=[-20000.0, -0.002,-17800.05412686899,-0.0034900000000000005,0.1, 2000.0, 1000000.0],\n",
    "                       young_Module =254911749.435,\n",
    "                       stress_strain_test=True)\n"
   ]
  },
  {
   "cell_type": "code",
   "execution_count": null,
   "metadata": {},
   "outputs": [],
   "source": [
    "core = mat.opsmaterial(\n",
    "                       MaterialType='Concrete02',\n",
    "                       matTag=1,\n",
    "                       inputArray=[-26922.92, -0.00546, -24433.71, -0.0139,0.1, 2000.0, 1000000.0],\n",
    "                       young_Module =254911749.435,\n",
    "                       stress_strain_test =True\n",
    "                      )"
   ]
  },
  {
   "cell_type": "code",
   "execution_count": null,
   "metadata": {},
   "outputs": [],
   "source": [
    "c4040 = rec('C4040',0.4,0.4,coreConc=core,coverConc=cover,matRebars=rebar)"
   ]
  },
  {
   "cell_type": "code",
   "execution_count": null,
   "metadata": {},
   "outputs": [],
   "source": [
    "c3535 = rec('C3535',0.35,0.35)"
   ]
  },
  {
   "cell_type": "code",
   "execution_count": null,
   "metadata": {},
   "outputs": [],
   "source": [
    "c3535"
   ]
  },
  {
   "cell_type": "code",
   "execution_count": null,
   "metadata": {},
   "outputs": [],
   "source": [
    "c3535.matRebars"
   ]
  },
  {
   "cell_type": "code",
   "execution_count": null,
   "metadata": {},
   "outputs": [],
   "source": []
  }
 ],
 "metadata": {
  "kernelspec": {
   "display_name": "Python 3.9.12 ('base')",
   "language": "python",
   "name": "python3"
  },
  "language_info": {
   "codemirror_mode": {
    "name": "ipython",
    "version": 3
   },
   "file_extension": ".py",
   "mimetype": "text/x-python",
   "name": "python",
   "nbconvert_exporter": "python",
   "pygments_lexer": "ipython3",
   "version": "3.9.12"
  },
  "orig_nbformat": 4,
  "vscode": {
   "interpreter": {
    "hash": "20a9e06a1eee47c4abbed4ec8225ad91d78d9800d202b71b6b0a6e47016c6abd"
   }
  }
 },
 "nbformat": 4,
 "nbformat_minor": 2
}
