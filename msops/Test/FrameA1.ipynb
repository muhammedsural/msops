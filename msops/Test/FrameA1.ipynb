{
 "cells": [
  {
   "cell_type": "code",
   "execution_count": 1,
   "metadata": {},
   "outputs": [],
   "source": [
    "import openseespy.opensees as ops\n",
    "import numpy as np\n",
    "import matplotlib.pyplot as plt\n",
    "import opsvis as opsv\n",
    "import model as md\n",
    "from builder import opsbuild as bd\n",
    "from Unit import Unit\n",
    "import handcalcs.render\n",
    "import forallpeople as si\n",
    "%matplotlib inline"
   ]
  },
  {
   "cell_type": "code",
   "execution_count": 2,
   "metadata": {},
   "outputs": [],
   "source": [
    "si.environment(\"structural\",top_level=False)"
   ]
  },
  {
   "cell_type": "code",
   "execution_count": 3,
   "metadata": {},
   "outputs": [],
   "source": [
    "numBay, numFloor, firstFloor, bayWidht, storyHeight = 3,3,3,5,3\n",
    "pf1 = md.createmodel(numBay, numFloor, firstFloor, bayWidht, storyHeight)"
   ]
  },
  {
   "cell_type": "code",
   "execution_count": 4,
   "metadata": {},
   "outputs": [
    {
     "data": {
      "text/latex": [
       "\\[\n",
       "\\begin{aligned}\n",
       "\\mathrm{fc} &= 20000.0 \\; \\;\\textrm{(Nominal concrete compressive strength)}\n",
       "\\\\[10pt]\n",
       "\\mathrm{HCol} &= 30 \\cdot \\mathrm{Unit.cm} \\\\&= 30 \\cdot Unit.cm \\\\&= 0.3  \\\\\n",
       "\\\\[10pt]\n",
       "\\mathrm{BCol} &= 30 \\cdot \\mathrm{Unit.cm} \\\\&= 30 \\cdot Unit.cm \\\\&= 0.3  \\\\\n",
       "\\\\[10pt]\n",
       "\\mathrm{HBeam} &= 40 \\cdot \\mathrm{Unit.cm} \\\\&= 40 \\cdot Unit.cm \\\\&= 0.4  \\\\\n",
       "\\\\[10pt]\n",
       "\\mathrm{BBeam} &= 30 \\cdot \\mathrm{Unit.cm} \\\\&= 30 \\cdot Unit.cm \\\\&= 0.3  \\\\\n",
       "\\end{aligned}\n",
       "\\]"
      ],
      "text/plain": [
       "<IPython.core.display.Latex object>"
      ]
     },
     "metadata": {},
     "output_type": "display_data"
    }
   ],
   "source": [
    "%%render long\n",
    "#params\n",
    "fc=20*Unit.MPa# Nominal concrete compressive strength\n",
    "HCol  = 30*Unit.cm\n",
    "BCol  = 30*Unit.cm\n",
    "HBeam = 40*Unit.cm\n",
    "BBeam = 30*Unit.cm"
   ]
  },
  {
   "cell_type": "code",
   "execution_count": 5,
   "metadata": {},
   "outputs": [
    {
     "data": {
      "text/latex": [
       "\\[\n",
       "\\begin{aligned}\n",
       "\\mathrm{concdensity} &= 24.99 \\cdot \\frac{ \\mathrm{Unit.kN} }{ \\left( \\mathrm{Unit.m} \\right) ^{ 3 } } \\\\&= 24.99 \\cdot \\frac{ Unit.kN }{ \\left( Unit.m \\right) ^{ 3 } } \\\\&= 24.99 \\; \\;\\textrm{(Conc density)}\\\\\n",
       "\\\\[10pt]\n",
       "\\mathrm{wBeam} &= \\left( \\left( 20 + 0.3 \\cdot 10 \\right) \\cdot \\frac{ \\mathrm{Unit.kN} }{ \\mathrm{Unit.m} } \\right) \\\\&= \\left( \\left( 20 + 0.3 \\cdot 10 \\right) \\cdot \\frac{ Unit.kN }{ Unit.m } \\right) \\\\&= 23.0 \\; \\;\\textrm{(dist. load on beam)}\\\\\n",
       "\\end{aligned}\n",
       "\\]"
      ],
      "text/plain": [
       "<IPython.core.display.Latex object>"
      ]
     },
     "metadata": {},
     "output_type": "display_data"
    }
   ],
   "source": [
    "%%render long\n",
    "#params\n",
    "concdensity = 24.99 * Unit.kN/Unit.m**3   # Conc density\n",
    "wBeam = ((20 +  0.3*10)*Unit.kN/Unit.m)   # dist. load on beam"
   ]
  },
  {
   "cell_type": "code",
   "execution_count": 7,
   "metadata": {},
   "outputs": [
    {
     "data": {
      "text/latex": [
       "\\[\n",
       "\\begin{aligned}\n",
       "\\mathrm{Ec} &= 5000 \\cdot \\mathrm{Unit.MPa} \\cdot \\left( \\frac{ \\mathrm{fc} }{ \\mathrm{Unit.MPa} } \\right) ^{ 0.5 } \\\\&= 5000 \\cdot Unit.MPa \\cdot \\left( \\frac{ 20000.0 }{ Unit.MPa } \\right) ^{ 0.5 } \\\\&= 22360679.775 \\; \\;\\textrm{(Young's modulus)}\\\\\n",
       "\\\\[10pt]\n",
       "\\nu &= 0.2 \\; \\;\\textrm{(Poisson's ratio)}\n",
       "\\\\[10pt]\n",
       "\\mathrm{Gc} &= \\frac{ \\mathrm{Ec} }{ 2 \\cdot \\left( 1 + \\nu \\right) } \\\\&= \\frac{ 22360679.775 }{ 2 \\cdot \\left( 1 + 0.2 \\right) } \\\\&= 9316949.906 \\; \\;\\textrm{(Shear modulus)}\\\\\n",
       "\\\\[10pt]\n",
       "\\mathrm{Kres} &= 0.2 \\; \\;\\textrm{(ratio of residual/ultimate to maximum stress)}\n",
       "\\\\[10pt]\n",
       "\\mathrm{fc1U} &= -20000.0 \\; \\;\\textrm{(UNCONFINED concrete (todeschini parabolic model), maximum stress)}\n",
       "\\\\[10pt]\n",
       "\\mathrm{eps1U} &= -0.003 \\; \\;\\textrm{(strain at maximum strength of unconfined concrete)}\n",
       "\\\\[10pt]\n",
       "\\mathrm{fc2U} &= \\mathrm{Kres} \\cdot \\mathrm{fc1U} \\\\&= 0.2 \\cdot -20000.0 \\\\&= -4000.0 \\; \\;\\textrm{(ultimate stress)}\\\\\n",
       "\\\\[10pt]\n",
       "\\mathrm{eps2U} &= -0.01 \\; \\;\\textrm{(strain at ultimate stress)}\n",
       "\\\\[10pt]\n",
       "\\mathrm{Kfc} &= 1.2 \\; \\;\\textrm{(ratio of confined to unconfined concrete strength)}\n",
       "\\\\[10pt]\n",
       "\\mathrm{fc1C} &= \\mathrm{Kfc} \\cdot \\mathrm{fc1U} \\\\&= 1.2 \\cdot -20000.0 \\\\&= -24000.0 \\; \\;\\textrm{(CONFINED concrete (mander model), maximum stress)}\\\\\n",
       "\\\\[10pt]\n",
       "\\mathrm{eps1C} &= 2 \\cdot \\frac{ \\mathrm{fc1C} }{ \\mathrm{Ec} } \\\\&= 2 \\cdot \\frac{ -24000.0 }{ 22360679.775 } \\\\&= -2.147 \\times 10 ^ {-3 } \\; \\;\\textrm{(strain at maximum stres)}\\\\\n",
       "\\\\[10pt]\n",
       "\\mathrm{fc2C} &= \\mathrm{Kres} \\cdot \\mathrm{fc1C} \\\\&= 0.2 \\cdot -24000.0 \\\\&= -4800.0 \\; \\;\\textrm{(ultimate stress)}\\\\\n",
       "\\\\[10pt]\n",
       "\\mathrm{eps2C} &= 5 \\cdot \\mathrm{eps1C} \\\\&= 5 \\cdot -2.147 \\times 10 ^ {-3 } \\\\&= -1.073 \\times 10 ^ {-2 } \\; \\;\\textrm{(strain at ultimate stress)}\\\\\n",
       "\\\\[10pt]\n",
       "\\mathrm{Lambda} &= 0.1 \\; \\;\\textrm{(ratio between unloading slope at eps2 and initial slope Ec)}\n",
       "\\\\[10pt]\n",
       "\\mathrm{fct} &= 0.14 \\cdot \\mathrm{fc} \\\\&= 0.14 \\cdot 20000.0 \\\\&= 2800.0 \\; \\;\\textrm{(tensile strength +tension)}\\\\\n",
       "\\\\[10pt]\n",
       "\\mathrm{Ets} &= \\frac{ \\mathrm{fct} }{ 0.002 } \\\\&= \\frac{ 2800.0 }{ 0.002 } \\\\&= 1400000.0 \\; \\;\\textrm{(tension softening stiffness)}\\\\\n",
       "\\\\[10pt]\n",
       "\\mathrm{fsy} &= 500 \\cdot \\mathrm{Unit.MPa} \\\\&= 500 \\cdot Unit.MPa \\\\&= 500000.0 \\; \\;\\textrm{(Yield stress)}\\\\\n",
       "\\\\[10pt]\n",
       "\\mathrm{Es} &= 2 \\cdot \\left( 10 \\right) ^{ 5 } \\cdot \\mathrm{Unit.MPa} \\\\&= 2 \\cdot \\left( 10 \\right) ^{ 5 } \\cdot Unit.MPa \\\\&= 200000000.0 \\; \\;\\textrm{(Young's modulus)}\\\\\n",
       "\\\\[10pt]\n",
       "\\mathrm{bs} &= 0.01 \\; \\;\\textrm{(strain-hardening ratio)}\n",
       "\\\\[10pt]\n",
       "\\mathrm{R0} &= 18 \\; \\;\\textrm{(control the transition from elastic to plastic branches)}\n",
       "\\\\[10pt]\n",
       "\\mathrm{cR1} &= 0.925 \\; \\;\\textrm{(control the transition from elastic to plastic branches)}\n",
       "\\\\[10pt]\n",
       "\\mathrm{cR2} &= 0.15 \\; \\;\\textrm{(control the transition from elastic to plastic branches)}\n",
       "\\\\[10pt]\n",
       "\\mathrm{minStrain} &= -0.1 \\; \\;\\textrm{(minimum steel strain in the fibers (steel buckling))}\n",
       "\\\\[10pt]\n",
       "\\mathrm{maxStrain} &= 0.1 \\; \\;\\textrm{(maximum steel strain in the fibers (steel rupture))}\n",
       "\\\\[10pt]\n",
       "\\mathrm{kCol} &= 0.8 \\; \n",
       "\\\\[10pt]\n",
       "\\mathrm{kBeam} &= 0.5 \\; \n",
       "\\\\[10pt]\n",
       "\\mathrm{kv} &= 8.333 \\times 10 ^ {-1 } \\; \n",
       "\\\\[10pt]\n",
       "\\mathrm{ACol} &= \\mathrm{HCol} \\cdot \\mathrm{HBeam} \\\\&= 0.3 \\cdot 0.4 \\\\&= 0.12  \\\\\n",
       "\\\\[10pt]\n",
       "\\mathrm{Avcol} &= \\mathrm{kv} \\cdot \\mathrm{ACol} \\\\&= 8.333 \\times 10 ^ {-1 } \\cdot 0.12 \\\\&= 0.075  \\\\\n",
       "\\\\[10pt]\n",
       "\\mathrm{Acol} &= \\mathrm{HCol} \\cdot \\mathrm{BCol} \\\\&= 0.3 \\cdot 0.3 \\\\&= 0.09 \\; \\;\\textrm{(Cross-sectional area of columns)}\\\\\n",
       "\\\\[10pt]\n",
       "\\mathrm{Icol} &= \\mathrm{kCol} \\cdot \\frac{ 1 }{ 12 } \\cdot \\mathrm{BCol} \\cdot \\left( \\mathrm{HCol} \\right) ^{ 3 } \\\\&= 0.8 \\cdot \\frac{ 1 }{ 12 } \\cdot 0.3 \\cdot \\left( 0.3 \\right) ^{ 3 } \\\\&= 5.400 \\times 10 ^ {-4 } \\; \\;\\textrm{(Effective moment of inertia of columns)}\\\\\n",
       "\\\\[10pt]\n",
       "\\mathrm{Avcol} &= \\mathrm{kv} \\cdot \\mathrm{Acol} \\\\&= 8.333 \\times 10 ^ {-1 } \\cdot 0.09 \\\\&= 0.075 \\; \\;\\textrm{(Shear area for beams (Timoshenko Elements))}\\\\\n",
       "\\\\[10pt]\n",
       "\\mathrm{Abeam} &= \\mathrm{BBeam} \\cdot \\mathrm{HBeam} \\\\&= 0.3 \\cdot 0.4 \\\\&= 0.12 \\; \\;\\textrm{(Cross-sectional area of beams)}\\\\\n",
       "\\\\[10pt]\n",
       "\\mathrm{Ibeam} &= \\mathrm{kBeam} \\cdot \\frac{ 1 }{ 12 } \\cdot \\mathrm{BBeam} \\cdot \\left( \\mathrm{HBeam} \\right) ^{ 3 } \\\\&= 0.5 \\cdot \\frac{ 1 }{ 12 } \\cdot 0.3 \\cdot \\left( 0.4 \\right) ^{ 3 } \\\\&= 8.000 \\times 10 ^ {-4 } \\; \\;\\textrm{(Gross moment of inertia of beams)}\\\\\n",
       "\\\\[10pt]\n",
       "\\mathrm{Avbeam} &= \\mathrm{kv} \\cdot \\mathrm{Abeam} \\\\&= 8.333 \\times 10 ^ {-1 } \\cdot 0.12 \\\\&= 0.1 \\; \\;\\textrm{(Shear area for beams (Timoshenko Elements))}\\\\\n",
       "\\\\[10pt]\n",
       "\\mathrm{bardiameterbeam} &= 0.016 \\; \\;\\textrm{(mm)}\n",
       "\\\\[10pt]\n",
       "\\mathrm{bardiametercol} &= 0.022 \\; \\;\\textrm{(mm)}\n",
       "\\\\[10pt]\n",
       "\\mathrm{bardiametercol2} &= 0.016 \\; \\;\\textrm{(mm)}\n",
       "\\\\[10pt]\n",
       "\\mathrm{cover} &= 0.05 \\; \n",
       "\\\\[10pt]\n",
       "\\mathrm{barareabeam} &= 3.14 \\cdot \\frac{ \\left( \\mathrm{bardiameterbeam} \\right) ^{ 2 } }{ 4 } \\\\&= 3.14 \\cdot \\frac{ \\left( 0.016 \\right) ^{ 2 } }{ 4 } \\\\&= 2.010 \\times 10 ^ {-4 }  \\\\\n",
       "\\\\[10pt]\n",
       "\\mathrm{barareacol} &= 3.14 \\cdot \\frac{ \\left( \\mathrm{bardiametercol} \\right) ^{ 2 } }{ 4 } \\\\&= 3.14 \\cdot \\frac{ \\left( 0.022 \\right) ^{ 2 } }{ 4 } \\\\&= 3.799 \\times 10 ^ {-4 }  \\\\\n",
       "\\\\[10pt]\n",
       "\\mathrm{barareacol2} &= 3.14 \\cdot \\frac{ \\left( \\mathrm{bardiametercol2} \\right) ^{ 2 } }{ 4 } \\\\&= 3.14 \\cdot \\frac{ \\left( 0.016 \\right) ^{ 2 } }{ 4 } \\\\&= 2.010 \\times 10 ^ {-4 }  \\\\\n",
       "\\\\[10pt]\n",
       "\\mathrm{numBarTop} &= 5 \\; \n",
       "\\\\[10pt]\n",
       "\\mathrm{numBarBot} &= 3 \\; \n",
       "\\\\[10pt]\n",
       "\\mathrm{numBarInt} &= 0 \\; \n",
       "\\end{aligned}\n",
       "\\]"
      ],
      "text/plain": [
       "<IPython.core.display.Latex object>"
      ]
     },
     "metadata": {},
     "output_type": "display_data"
    }
   ],
   "source": [
    "%%render long\n",
    "Ec = 5000*Unit.MPa*(fc/Unit.MPa)**0.5     # Young's modulus\n",
    "nu = 0.2                        # Poisson's ratio\n",
    "Gc = Ec/(2*(1+nu))              # Shear modulus\n",
    "# unconfined concrete\n",
    "Kres = 0.2          # ratio of residual/ultimate to maximum stress\n",
    "fc1U = -fc          # UNCONFINED concrete (todeschini parabolic model), maximum stress\n",
    "eps1U = -0.003      # strain at maximum strength of unconfined concrete\n",
    "fc2U = Kres*fc1U    # ultimate stress\n",
    "eps2U = -0.01       # strain at ultimate stress\n",
    "# confined concrete\n",
    "Kfc = 1.2           # ratio of confined to unconfined concrete strength\n",
    "fc1C = Kfc*fc1U     # CONFINED concrete (mander model), maximum stress\n",
    "eps1C = 2*fc1C/Ec   # strain at maximum stres\n",
    "fc2C = Kres*fc1C    # ultimate stress\n",
    "eps2C = 5*eps1C     # strain at ultimate stress \n",
    "# tensile-strength properties\n",
    "Lambda = 0.1        # ratio between unloading slope at eps2 and initial slope Ec\n",
    "fct = 0.14*fc       # tensile strength +tension\n",
    "Ets = fct/0.002     # tension softening stiffness\n",
    "\n",
    "# REINFORCING STEEL\n",
    "#============================================================================================================\n",
    "fsy = 500*Unit.MPa;     # Yield stress\n",
    "Es = 2*10**5*Unit.MPa;     # Young's modulus\n",
    "bs = 0.01           # strain-hardening ratio\n",
    "R0 = 18             # control the transition from elastic to plastic branches\n",
    "cR1 = 0.925         # control the transition from elastic to plastic branches\n",
    "cR2 = 0.15          # control the transition from elastic to plastic branches\n",
    "minStrain = -0.1    # minimum steel strain in the fibers (steel buckling)\n",
    "maxStrain = 0.1     # maximum steel strain in the fibers (steel rupture)\n",
    "\n",
    "# Elastic section properties\n",
    "#==================================================================================================================\n",
    "kCol=0.8\n",
    "kBeam=0.5\n",
    "kv=5/6\n",
    "ACol = HCol*HBeam\n",
    "Avcol = kv*ACol\n",
    "\n",
    "Acol = HCol*BCol                  # Cross-sectional area of columns\n",
    "Icol = kCol*1/12*BCol*HCol**3     # Effective moment of inertia of columns\n",
    "Avcol = kv*Acol                   # Shear area for beams (Timoshenko Elements)\n",
    "Abeam = BBeam*HBeam               # Cross-sectional area of beams\n",
    "Ibeam = kBeam*1/12*BBeam*HBeam**3 # Gross moment of inertia of beams\n",
    "Avbeam = kv*Abeam                 # Shear area for beams (Timoshenko Elements)\n",
    "\n",
    "bardiameterbeam = 0.016 #mm\n",
    "bardiametercol = 0.022 #mm\n",
    "bardiametercol2 = 0.016 #mm\n",
    "cover = 0.05\n",
    "barareabeam = 3.14*bardiameterbeam**2/4\n",
    "barareacol = 3.14*bardiametercol**2/4\n",
    "barareacol2 = 3.14*bardiametercol2**2/4\n",
    "numBarTop=5\n",
    "numBarBot = 3\n",
    "numBarInt = 0"
   ]
  },
  {
   "cell_type": "code",
   "execution_count": null,
   "metadata": {},
   "outputs": [],
   "source": [
    "bd.modelbuild()"
   ]
  },
  {
   "cell_type": "code",
   "execution_count": null,
   "metadata": {},
   "outputs": [],
   "source": [
    "nodal_mass = bd.calcnodalmass(pf1.node_dict,pf1.column_dict,pf1.beam_dict,pf1.ColumnLength_dict,pf1.BeamLength_dict,\n",
    "                              Acol,Abeam,distLoadbeam=0,concDensity=concdensity)\n",
    "bd.createnodes(pf1.node_dict,nodal_mass,mass=True) # Create nodes and nodal mass for modal analysis"
   ]
  },
  {
   "cell_type": "code",
   "execution_count": null,
   "metadata": {},
   "outputs": [],
   "source": [
    "for i in pf1.floorNodes[0]:\n",
    "    print(i)\n",
    "    ops.fix(i, 1, 1, 1)"
   ]
  },
  {
   "cell_type": "code",
   "execution_count": null,
   "metadata": {},
   "outputs": [],
   "source": [
    "ColTransfTag = 1\n",
    "BeamTransfTag = 2\n",
    "ops.geomTransf('Linear', BeamTransfTag) #Beam Tranformation Tag\n",
    "ops.geomTransf('PDelta', ColTransfTag)  #Column Tranformation Tag"
   ]
  },
  {
   "cell_type": "code",
   "execution_count": null,
   "metadata": {},
   "outputs": [],
   "source": [
    "IDconcCover = 1 # Tag for unconfined concrete material\n",
    "IDconcCore = 2 # Tag for confined concrete material\n",
    "IDSteel = 3 # Tag for steel material without min-max properties\n",
    "IDMinMaxSteel = 4 # Tag for steel material with min-max properties\n",
    "IDshearCol = 5 # Shear material tag for columns"
   ]
  },
  {
   "cell_type": "code",
   "execution_count": null,
   "metadata": {},
   "outputs": [],
   "source": [
    "ops.uniaxialMaterial('Concrete02',IDconcCover, fc1U, eps1U, fc2U, eps2U, Lambda, fct, Ets)\n",
    "ops.uniaxialMaterial('Concrete02',IDconcCore, fc1C, eps1C, fc2C, eps2C, Lambda, fct, Ets)\n",
    "#ops.uniaxialMaterial('Concrete01',IDconcCover, fc1U, eps1U, fc2U, eps2U,)\n",
    "#ops.uniaxialMaterial('Concrete01',IDconcCore, fc1C, eps1C, fc2C, eps2C )\n",
    "ops.uniaxialMaterial('Steel02',IDSteel, fsy, Es, bs,  R0, cR1, cR2)\n",
    "ops.uniaxialMaterial('MinMax', IDMinMaxSteel, IDSteel, '-min', minStrain, '-max', maxStrain)"
   ]
  },
  {
   "cell_type": "code",
   "execution_count": null,
   "metadata": {},
   "outputs": [],
   "source": [
    "# Define sections\n",
    "# ------------------------------------------------------------------------\n",
    "# rectangular fiber section with one layer of steel evenly distributed around the perimeter and a confined core.\n",
    "ColSecTag_Fiber = 1 # Tag for fiber column sections\n",
    "ColSecTag_Fiber2 = 2\n",
    "ColSecTag_Elastic = 3       # Tag for fiber column section aggregated with elastic shear section\n",
    "ColSecTag_Elastic2 = 4\n",
    "BeamSecTag_Fiber = 5      # Tag for fiber beam section which is located at the beam ends\n",
    "ElBeamSec_Elastic = 6       # Tag for elastic sbeam section which is located at the beam interior"
   ]
  },
  {
   "cell_type": "code",
   "execution_count": null,
   "metadata": {},
   "outputs": [],
   "source": [
    "col1_fiber_sec = bd.BuildRCrectSection(ColSecTag_Fiber, HCol, BCol, cover, cover, IDconcCore, IDconcCover, IDSteel,\n",
    "                        numBarTop,barareacol ,numBarBot, barareacol,numBarInt, barareacol, \n",
    "                        nfCoreY=20, nfCoreZ=20, nfCoverY=20, nfCoverZ=20, pflag=1)\n",
    "bd.plot_fiber_section(ColSecTag_Fiber,col1_fiber_sec)"
   ]
  },
  {
   "cell_type": "code",
   "execution_count": null,
   "metadata": {},
   "outputs": [],
   "source": [
    "col2_fiber_sec = bd.BuildRCrectSection(ColSecTag_Fiber2, HCol, BCol, cover, cover, IDconcCore, IDconcCover, IDSteel,\n",
    "                        numBarTop,barareacol2 ,numBarBot, barareacol2,numBarInt, barareacol2, \n",
    "                        nfCoreY=20, nfCoreZ=20, nfCoverY=20, nfCoverZ=20, pflag=1)\n",
    "bd.plot_fiber_section(ColSecTag_Fiber2,col2_fiber_sec)"
   ]
  },
  {
   "cell_type": "code",
   "execution_count": null,
   "metadata": {},
   "outputs": [],
   "source": [
    "beamfiber_sec =bd.BuildRCrectSection(BeamSecTag_Fiber, HBeam, BBeam, cover, cover, IDconcCore, IDconcCover, IDSteel,\n",
    "                        numBarTop,barareabeam ,numBarBot, barareabeam,numBarInt, barareabeam,  \n",
    "                        nfCoreY=20, nfCoreZ=20, nfCoverY=20, nfCoverZ=20, pflag=1)\n",
    "bd.plot_fiber_section(BeamSecTag_Fiber,beamfiber_sec)"
   ]
  },
  {
   "cell_type": "code",
   "execution_count": null,
   "metadata": {},
   "outputs": [],
   "source": [
    "# section('Elastic', secTag, E_mod, A, Iz, G_mod=None, alphaY=None)\n",
    "ops.section('Elastic', ColSecTag_Elastic, Ec, Acol, Icol)\n",
    "#ops.section('Aggregator', ColSecTag_Elastic, IDshearCol, 'Vy', '-section', ColSecTag_Fiber)\n",
    "#ops.section('Aggregator', ColSecTag_Elastic2, IDshearCol, 'Vy', '-section', ColSecTag_Fiber2)\n",
    "ops.section('Elastic', ElBeamSec_Elastic, Ec, Abeam, Ibeam)"
   ]
  },
  {
   "cell_type": "code",
   "execution_count": null,
   "metadata": {},
   "outputs": [],
   "source": [
    "#Column integration points definitions\n",
    "#Create elements\n",
    "## Create Integration point \n",
    "colIntgrTag = 1\n",
    "colIntgrTag2 = 2\n",
    "beamIntgrTag = 3\n",
    "Lpl = 0.5* HBeam\n",
    "Lpl_col = 0.5* HCol\n",
    "np=5\n",
    "#beamIntegration('HingeRadauTwo', tag, secI, lpI, secJ, lpJ, secE)\n",
    "#ops.beamIntegration('Lobatto',colIntgrTag,ColSecTag_Fiber,np)\n",
    "#ops.beamIntegration('Lobatto',colIntgrTag2,ColSecTag_Fiber2,np)\n",
    "ops.beamIntegration('HingeMidpoint',colIntgrTag,ColSecTag_Fiber,Lpl_col,ColSecTag_Fiber,Lpl_col,ColSecTag_Elastic)\n",
    "ops.beamIntegration('HingeMidpoint',colIntgrTag2,ColSecTag_Fiber2,Lpl_col,ColSecTag_Fiber2,Lpl_col,ColSecTag_Elastic)\n",
    "\n",
    "#Beam integration point definition\n",
    "ops.beamIntegration('HingeRadau',beamIntgrTag,BeamSecTag_Fiber,Lpl,BeamSecTag_Fiber,Lpl,ElBeamSec_Elastic)\n",
    "\n",
    "##Create Beams and Columns\n",
    "for colId in pf1.ColumnLength_dict.keys():\n",
    "    if 4<=colId<=9:\n",
    "#           element('nonlinearBeamColumn', eleTag,          iNode           ,         jNode            , numIntgrPts,     secTag    , transfTag  , '-iter', maxIter=10, tol=1e-12, '-mass', mass=0.0, '-integration', intType)\n",
    "        #ops.element('nonlinearBeamColumn', colId , pf1.column_dict[colId][0], pf1.column_dict[colId][1], np         ,ColSecTag_Fiber,ColTransfTag,'-mass',PCol)\n",
    "        #   element( 'forceBeamColumn'   ,eleTag ,            iNode         ,            jNode         , transfTag  ,entegrasyonTag, '-iter' , maxIter=10 , tol=1e-12 , '-mass' , mass=0.0 )\n",
    "        ops.element('forceBeamColumn'    , colId , pf1.column_dict[colId][0], pf1.column_dict[colId][1],ColTransfTag,  colIntgrTag )\n",
    "    else:\n",
    "        #ops.element('nonlinearBeamColumn', colId , pf1.column_dict[colId][0], pf1.column_dict[colId][1], np         ,ColSecTag_Fiber2,ColTransfTag,'-mass',PCol)\n",
    "        ops.element('forceBeamColumn', colId,pf1.column_dict[colId][0], pf1.column_dict[colId][1],ColTransfTag,colIntgrTag2)\n",
    "    \n",
    "for beamId in pf1.beam_dict.keys():\n",
    "    ops.element('forceBeamColumn',beamId, pf1.beam_dict[beamId][0], pf1.beam_dict[beamId][1],BeamTransfTag,beamIntgrTag,'-mass', wBeam/Unit.g)"
   ]
  },
  {
   "cell_type": "code",
   "execution_count": null,
   "metadata": {},
   "outputs": [],
   "source": [
    "# Create a Plain load pattern with a Linear TimeSeries\n",
    "# ------------------------------------------------------------------------\n",
    "ops.timeSeries('Linear', 1)\n",
    "ops.pattern('Plain', 1, 1)\n",
    "for idBeam in pf1.beam_dict.keys():\n",
    "    ops.eleLoad('-ele', idBeam, '-type', '-beamUniform', -wBeam, 0)"
   ]
  },
  {
   "cell_type": "code",
   "execution_count": null,
   "metadata": {},
   "outputs": [],
   "source": [
    "T, Mratios, Mfactors, Mtots = bd.modal_analys2(3)"
   ]
  },
  {
   "cell_type": "code",
   "execution_count": null,
   "metadata": {},
   "outputs": [],
   "source": [
    "eleForces_grav, nodalDisps_grav, BaseReactions_grav,eleSection_grav = bd.do_gravity()"
   ]
  },
  {
   "cell_type": "code",
   "execution_count": null,
   "metadata": {},
   "outputs": [],
   "source": [
    "bd.plot_model()"
   ]
  },
  {
   "cell_type": "markdown",
   "metadata": {},
   "source": [
    "## Fiber Section Nonlineer Static Pushover Analysis"
   ]
  },
  {
   "cell_type": "markdown",
   "metadata": {},
   "source": [
    "# Apply loads\n",
    "# ------------------------------------------------------------------------\n",
    "# Triangular force distribution, (set sum = 1 so that loadfactor = Total Base Shear)\n",
    "ops.timeSeries('Linear', 2)  # Define the timeSeries for the load pattern\n",
    "ops.pattern('Plain', 2, 2)   # Define load pattern -- generalized\n",
    "for node in pf1.node_dict.keys():\n",
    "    if node in pf1.floorNodes[0]:\n",
    "        continue\n",
    "    if node in pf1.floorNodes[1]:\n",
    "        ops.load(node,1,0,0)\n",
    "    if node in pf1.floorNodes[2]:\n",
    "        ops.load(node,2,0,0)\n",
    "\n",
    "ctrlNode = max(pf1.node_dict.keys())\n",
    "ctrlDOF =1\n",
    "nSteps = 200\n",
    "dmax= 0.1*(firstFloor+(numFloor-1)*storyHeight)\n",
    "print(dmax)\n",
    "LoadFactor, DispCtrlNode,sectionStrainStress,nodalDisps,eleCurvature  = bd.do_nspa(dmax, ctrlNode, ctrlDOF, nSteps,pFlag=0)\n",
    "# Plot the capacity curve\n",
    "# ------------------------------------------------------------------------\n",
    "plt.figure()\n",
    "plt.plot(DispCtrlNode,LoadFactor)\n",
    "plt.xlabel('Top displacement [m]')\n",
    "plt.ylabel('Base Shear Foce [kN]')\n",
    "plt.grid(True)\n",
    "ops.wipeAnalysis()"
   ]
  },
  {
   "cell_type": "code",
   "execution_count": null,
   "metadata": {},
   "outputs": [],
   "source": [
    "bd.rayleigh(numMode=2,xDamp = 0.02,betaKcurr = 0.0,betaKinit = 0.0)"
   ]
  },
  {
   "cell_type": "code",
   "execution_count": null,
   "metadata": {},
   "outputs": [],
   "source": [
    "import os\n",
    "import ReadRecord as rmd\n",
    "import numpy as np\n",
    "import matplotlib.pyplot as plt\n",
    "%matplotlib inline\n",
    "\n",
    "eventname=\"Mammoth_Lakes\"\n",
    "eventlist = [i for i in os.listdir(f\"./{eventname}\") if i.endswith('.AT2')] #verilen deprem kayıtlarının bulunduğu klasördeki .AT2 uzantılı dosyaların listelenmesi\n",
    "filePath = f\"./{eventname}/{eventlist[0]}\"\n",
    "filePath2 = f\"./{eventname}/{eventlist[1]}\"\n",
    "time,acceleration,npts,dt = rmd.ReadRecord(filePath,g=1,plot=1)\n",
    "time2,acceleration2,npts2,dt2 = rmd.ReadRecord(filePath2,g=1,plot=1)\n",
    "\n",
    "#timegap = np.arange(time[-1],time[-1]+100+dt,dt)\n",
    "#accgap  = np.arange(0,len(timegap))*0\n",
    "#\n",
    "#time = np.append(time,timegap)\n",
    "#acceleration = np.append(acceleration,accgap)\n",
    "#plt.plot(time,acceleration)"
   ]
  },
  {
   "cell_type": "code",
   "execution_count": null,
   "metadata": {},
   "outputs": [],
   "source": [
    "GMFile =\"C:\\\\Users\\\\Lenovo\\\\Desktop\\\\part1\\\\Mammoth_Lakes\\\\eqe.acc\"\n",
    "\n",
    "GMdirection=1\n",
    "GMfact=1\n",
    "tsTag=3\n",
    "IDloadTag=400\n",
    "GMfatt = Unit.g*GMfact\n",
    "#ops.timeSeries('Path', tsTag, '-dt', dt, '-values', *acceleration, '-factor', GMfatt) # time series object\n",
    "#ops.pattern('UniformExcitation', IDloadTag,GMdirection, '-accel', tsTag)# pattern object\n",
    "ops.timeSeries('Path', tsTag, '-dt', dt, '-filePath', GMFile, '-factor', GMfatt) # time series object\n",
    "ops.pattern('UniformExcitation', IDloadTag,GMdirection, '-accel', tsTag)# pattern object\n",
    "\n",
    "\n",
    "\n",
    "ops.wipeAnalysis()\n",
    "\n",
    "bd.analysis_define()\n",
    "\n",
    "top_nodal_disp,eleForces,time,sectionStrainStress,Eds,eleCurvature =bd.run_timehistory(DtAnalysis=dt,TmaxAnalysis=20)\n",
    "bd.top_disp_plot(top_nodal_disp,time,dt)\n",
    "T1, Mratios, Mfactors, Mtots = bd.modal_analys2(3)\n",
    "ops.loadConst('-time', 0.0)\n"
   ]
  },
  {
   "cell_type": "code",
   "execution_count": null,
   "metadata": {},
   "outputs": [],
   "source": [
    "eleCurvature[1][5]"
   ]
  },
  {
   "cell_type": "code",
   "execution_count": null,
   "metadata": {},
   "outputs": [],
   "source": [
    "GMFile =\"C:\\\\Users\\\\Lenovo\\\\Desktop\\\\part1\\\\Mammoth_Lakes\\\\eqe2.acc\"\n",
    "\n",
    "GMdirection=1\n",
    "GMfact=1.0\n",
    "tsTag=4\n",
    "IDloadTag=401\n",
    "GMfatt = Unit.g*GMfact\n",
    "#ops.timeSeries('Path', tsTag, '-dt', dt, '-values', *acceleration, '-factor', GMfatt) # time series object\n",
    "#ops.pattern('UniformExcitation', IDloadTag,GMdirection, '-accel', tsTag)# pattern object\n",
    "ops.timeSeries('Path', tsTag, '-dt', dt, '-filePath', GMFile, '-factor', GMfatt) # time series object\n",
    "ops.pattern('UniformExcitation', IDloadTag,GMdirection, '-accel', tsTag)# pattern object\n",
    "\n",
    "\n",
    "\n",
    "ops.wipeAnalysis()\n",
    "\n",
    "analysis_define()\n",
    "\n",
    "top_nodal_disp2,time2,Eds2=run_analysis(DtAnalysis=dt,TmaxAnalysis=time[-1])\n",
    "bd.top_disp_plot(top_nodal_disp2,time2,dt)\n",
    "T2, Mratios, Mfactors, Mtots = bd.modal_analys2(3)\n",
    "ops.loadConst('-time', 0.0)"
   ]
  },
  {
   "cell_type": "code",
   "execution_count": null,
   "metadata": {},
   "outputs": [],
   "source": [
    "GMFile =\"C:\\\\Users\\\\Lenovo\\\\Desktop\\\\part1\\\\Mammoth_Lakes\\\\eqe3.acc\"\n",
    "\n",
    "GMdirection=1\n",
    "GMfact=1\n",
    "tsTag=5\n",
    "IDloadTag=402\n",
    "GMfatt = Unit.g*GMfact\n",
    "#ops.timeSeries('Path', tsTag, '-dt', dt, '-values', *acceleration, '-factor', GMfatt) # time series object\n",
    "#ops.pattern('UniformExcitation', IDloadTag,GMdirection, '-accel', tsTag)# pattern object\n",
    "ops.timeSeries('Path', tsTag, '-dt', dt, '-filePath', GMFile, '-factor', GMfatt) # time series object\n",
    "ops.pattern('UniformExcitation', IDloadTag,GMdirection, '-accel', tsTag)# pattern object\n",
    "\n",
    "\n",
    "\n",
    "ops.wipeAnalysis()\n",
    "\n",
    "analysis_define()\n",
    "\n",
    "top_nodal_disp3,time3,Eds3 =run_analysis(DtAnalysis=dt,TmaxAnalysis=time[-1])\n",
    "bd.top_disp_plot(top_nodal_disp3,time3,dt)\n",
    "T3, Mratios, Mfactors, Mtots = bd.modal_analys2(3)\n",
    "ops.loadConst('-time', 0.0)"
   ]
  },
  {
   "cell_type": "code",
   "execution_count": null,
   "metadata": {},
   "outputs": [],
   "source": [
    "GMFile =\"C:\\\\Users\\\\Lenovo\\\\Desktop\\\\part1\\\\Mammoth_Lakes\\\\eqe4.acc\"\n",
    "\n",
    "GMdirection=1\n",
    "GMfact=2.0\n",
    "tsTag=6\n",
    "IDloadTag=403\n",
    "GMfatt = Unit.g*GMfact\n",
    "#ops.timeSeries('Path', tsTag, '-dt', dt, '-values', *acceleration, '-factor', GMfatt) # time series object\n",
    "#ops.pattern('UniformExcitation', IDloadTag,GMdirection, '-accel', tsTag)# pattern object\n",
    "ops.timeSeries('Path', tsTag, '-dt', dt, '-filePath', GMFile, '-factor', GMfatt) # time series object\n",
    "ops.pattern('UniformExcitation', IDloadTag,GMdirection, '-accel', tsTag)# pattern object\n",
    "\n",
    "\n",
    "\n",
    "ops.wipeAnalysis()\n",
    "\n",
    "analysis_define()\n",
    "\n",
    "top_nodal_disp4,time4,Eds4 =run_analysis(DtAnalysis=dt,TmaxAnalysis=time[-1])\n",
    "bd.top_disp_plot(top_nodal_disp4,time4,dt)\n",
    "T4, Mratios, Mfactors, Mtots = bd.modal_analys2(3)\n",
    "ops.loadConst('-time', 0.0)"
   ]
  },
  {
   "cell_type": "code",
   "execution_count": null,
   "metadata": {},
   "outputs": [],
   "source": [
    "GMFile =\"C:\\\\Users\\\\Lenovo\\\\Desktop\\\\part1\\\\Mammoth_Lakes\\\\eqe5.acc\"\n",
    "\n",
    "GMdirection=1\n",
    "GMfact=1.0\n",
    "tsTag=7\n",
    "IDloadTag=404\n",
    "GMfatt = Unit.g*GMfact\n",
    "#ops.timeSeries('Path', tsTag, '-dt', dt, '-values', *acceleration, '-factor', GMfatt) # time series object\n",
    "#ops.pattern('UniformExcitation', IDloadTag,GMdirection, '-accel', tsTag)# pattern object\n",
    "ops.timeSeries('Path', tsTag, '-dt', dt, '-filePath', GMFile, '-factor', GMfatt) # time series object\n",
    "ops.pattern('UniformExcitation', IDloadTag,GMdirection, '-accel', tsTag)# pattern object\n",
    "\n",
    "\n",
    "\n",
    "ops.wipeAnalysis()\n",
    "\n",
    "analysis_define()\n",
    "\n",
    "top_nodal_disp5,time5,Eds5 =run_analysis(DtAnalysis=dt,TmaxAnalysis=time[-1])\n",
    "bd.top_disp_plot(top_nodal_disp5,time5,dt)\n",
    "T5, Mratios, Mfactors, Mtots = bd.modal_analys2(3)\n",
    "ops.loadConst('-time', 0.0)"
   ]
  },
  {
   "cell_type": "code",
   "execution_count": null,
   "metadata": {},
   "outputs": [],
   "source": [
    "concat_disp =[i for i in top_nodal_disp[16]]\n",
    "for i in top_nodal_disp2[16]:\n",
    "    concat_disp.append(i)\n",
    "for i in top_nodal_disp3[16]:\n",
    "    concat_disp.append(i)\n",
    "for i in top_nodal_disp4[16]:\n",
    "    concat_disp.append(i)\n",
    "for i in top_nodal_disp5[16]:\n",
    "    concat_disp.append(i)\n",
    "concat_time = [i*dt for i in range(len(concat_disp))]\n",
    "\n",
    "%matplotlib inline\n",
    "plt.rcParams.update({'font.size': 16})\n",
    "fig, ax = plt.subplots(figsize=(25,10))\n",
    "fig.subplots_adjust(bottom=0.15, left=0.2)\n",
    "ax.grid()\n",
    "ax.plot(concat_time,concat_disp,linewidth=2)\n",
    "ax.axhline(0, color='black', lw=2)\n",
    "ax.set(xlabel=\"Time [Sec]\", ylabel=f\"Horizontal Displacement of node {max(ops.getNodeTags())}\",title=f\"{eventname} main-after shock top disp/time\")\n",
    "plt.show()"
   ]
  },
  {
   "cell_type": "markdown",
   "metadata": {},
   "source": [
    "|No|Periods|\n",
    "|---|------|\n",
    "|elastic  |0.8456|\n",
    "|1.EQE |0.9292|\n",
    "|2.EQE  |0.9289|\n",
    "|3.EQE  | 0.9294|\n",
    "|4.EQE  |0.9642|\n",
    "|5.EQE  | 0.9639|\n"
   ]
  },
  {
   "cell_type": "code",
   "execution_count": null,
   "metadata": {},
   "outputs": [],
   "source": [
    "def calc_timegap(Td,damp_ratio,T):\n",
    "    \"\"\"\n",
    "    Td          : Kuvvetli yer hareketi süresi\n",
    "    damp_ratio  : Yapının sönüm oranı\n",
    "    T           : Yapının doğal titreşim periyodu\n",
    "\n",
    "    \"\"\"\n",
    "    R_rest = Td*(0.05/damp_ratio)*((21.8559*T+0.0258)*(Td**(-0.9982))+0.0214)\n",
    "    R_timegap = round(R_rest,0)\n",
    "    return R_timegap"
   ]
  },
  {
   "cell_type": "code",
   "execution_count": null,
   "metadata": {},
   "outputs": [],
   "source": [
    "calc_timegap(50,0.05,0.6)"
   ]
  },
  {
   "cell_type": "code",
   "execution_count": null,
   "metadata": {},
   "outputs": [],
   "source": []
  }
 ],
 "metadata": {
  "interpreter": {
   "hash": "8f8cf99212f81ad0c4765861267244807ee1c18364846cdce387b28994a977ba"
  },
  "kernelspec": {
   "display_name": "Python 3 (ipykernel)",
   "language": "python",
   "name": "python3"
  },
  "language_info": {
   "codemirror_mode": {
    "name": "ipython",
    "version": 3
   },
   "file_extension": ".py",
   "mimetype": "text/x-python",
   "name": "python",
   "nbconvert_exporter": "python",
   "pygments_lexer": "ipython3",
   "version": "3.9.0"
  }
 },
 "nbformat": 4,
 "nbformat_minor": 4
}
